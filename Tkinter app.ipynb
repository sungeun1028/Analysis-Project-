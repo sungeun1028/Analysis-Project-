{
 "cells": [
  {
   "cell_type": "markdown",
   "metadata": {},
   "source": [
    "# Tkinter 복습 "
   ]
  },
  {
   "cell_type": "markdown",
   "metadata": {},
   "source": [
    "## Tkinter case 1 "
   ]
  },
  {
   "cell_type": "markdown",
   "metadata": {
    "ExecuteTime": {
     "start_time": "2020-10-11T10:48:05.540Z"
    }
   },
   "source": [
    " > 1. Tinker case 1 \n",
    " ![tkinter1](images/tkinter1.JPG)"
   ]
  },
  {
   "cell_type": "code",
   "execution_count": null,
   "metadata": {
    "ExecuteTime": {
     "start_time": "2020-10-11T10:48:16.184Z"
    }
   },
   "outputs": [],
   "source": [
    "################ Case 1 \n",
    "import tkinter as tk\n",
    "\n",
    "window=tk.Tk()\n",
    "window.title(\"My first app\")\n",
    "window.geometry(\"200x200\")\n",
    "\n",
    "# widget:label\n",
    "\n",
    "label1=tk.Label(window,text=\"Welcome to my app\")\n",
    "label1.pack()\n",
    "\n",
    "# two more labels\n",
    "label2=tk.Label(window,text=\"First Last\")\n",
    "label2.pack() # pack ->show\n",
    "\n",
    "label3=tk.Label(window,text=\"Computer Science\")\n",
    "label3.pack()\n",
    "              \n",
    "frame1= tk.Frame(window)\n",
    "frame1.pack()\n",
    "\n",
    "frame2 =tk.Frame(window)\n",
    "frame2.pack()\n",
    "\n",
    "label4=tk.Label(frame1,text=\"\")\n",
    "\n",
    "# Add different widgets to different frame\n",
    "\n",
    "window.mainloop()"
   ]
  },
  {
   "cell_type": "markdown",
   "metadata": {},
   "source": [
    "## Tkinter case 2 "
   ]
  },
  {
   "cell_type": "markdown",
   "metadata": {},
   "source": [
    "> 1. Tinker case 2\n",
    " ![tkinter2](images/tkinter2.JPG)"
   ]
  },
  {
   "cell_type": "code",
   "execution_count": null,
   "metadata": {},
   "outputs": [],
   "source": [
    "################ Case 2 \n",
    "import tkinter as tk\n",
    "import tkinter.messagebox as tkm\n",
    "\n",
    "def display_message():\n",
    "    tkm.showinfo(\"More info\", \"Thanks for Clicking\")\n",
    "\n",
    "window = tk.Tk()\n",
    "window.title(\"Cheap Oil station app\")\n",
    "\n",
    "frame1 = tk.Frame(window)\n",
    "frame1.pack()\n",
    "\n",
    "frame2= tk.Frame(window)\n",
    "frame2.pack()\n",
    "\n",
    "# add buttons \n",
    "button1 = tk.Button(frame1, text=\"Click me\", command = window.destroy)\n",
    "button1.pack()\n",
    "\n",
    "button2 = tk.Button(frame2, text =\"display_message\", command = display_message)\n",
    "button2.pack()\n",
    "\n",
    "window.mainloop()"
   ]
  },
  {
   "cell_type": "markdown",
   "metadata": {},
   "source": [
    "## Tkinter cae 3 "
   ]
  },
  {
   "cell_type": "markdown",
   "metadata": {},
   "source": [
    "> 1. Tinker case 3\n",
    " ![tkinter3](images/tkinter3.JPG)"
   ]
  },
  {
   "cell_type": "code",
   "execution_count": null,
   "metadata": {},
   "outputs": [],
   "source": [
    "################ Case 3\n",
    "import tkinter as tk \n",
    "import tkinter.messagebox as tkm \n",
    "\n",
    "window = tk.Tk()\n",
    "window.title(\"MyGUI\")\n",
    "\n",
    "# define all the callback function ahead \n",
    "def show_message():\n",
    "    tkm.showinfo(\"My Info\", \"Name\\nMajor\\nID\")\n",
    "\n",
    "def show_double():\n",
    "    number = eval(entry1.get())\n",
    "    double = 2*number\n",
    "    tkm.showinfo(\"My Info\", \"Name\\nMajor\\nID\")\n",
    "\n",
    "# divide the canvas into multiple frames \n",
    "frame1 = tk.Frame(window)\n",
    "frame1.pack()\n",
    "\n",
    "frame2 = tk.Frame(window)\n",
    "frame2.pack()\n",
    "\n",
    "# add widget: Label1 \n",
    "label1 = tk.Label(frame1, text =\"Please enter a number: \")\n",
    "label1.pack()\n",
    "\n",
    "# add widget: button \n",
    "entry1 = tk.Entry(frame1)\n",
    "entry1.pack()\n",
    "\n",
    "button1 = tk.Button(frame2, text=\"Click to show double\", command= show_double)\n",
    "button1.pack()\n",
    "\n",
    "button2 = tk.Button(frame2, text=\"Quit\", command = window.destroy)\n",
    "button2.pack()\n",
    "\n",
    "window.mainloop()"
   ]
  },
  {
   "cell_type": "markdown",
   "metadata": {},
   "source": [
    "## Tkinter 로 html 불러오기 "
   ]
  },
  {
   "cell_type": "markdown",
   "metadata": {},
   "source": [
    "> !pip install tkhtmlview Error case 1\n",
    "* install Error -> ModuleNotFoundError : No module named \"PIL\" \n",
    "* instead of PIl -> install pillow \n",
    "* then install pip install tkhtmlview \n",
    "* problem solved "
   ]
  },
  {
   "cell_type": "markdown",
   "metadata": {},
   "source": [
    "> !pip install tkhtmlview Error case 2\n",
    "* installation complete \n",
    "* No module named \"tkhtmlview\" in jupyter notebook \n",
    "* pip install -> python -m pip install \n",
    "<code> python -m pip install Pillow </code>\n",
    "<code> python -m pip install tkhtmlview </code>"
   ]
  },
  {
   "cell_type": "code",
   "execution_count": null,
   "metadata": {},
   "outputs": [],
   "source": [
    "from tkinter import *\n",
    "from tkhtmlview import HTMLLabel"
   ]
  },
  {
   "cell_type": "markdown",
   "metadata": {},
   "source": [
    "> 참고 \n",
    "* https://stackoverflow.com/questions/46571448/tkinter-and-a-html-file\n",
    "\n",
    "> 답변 1 \n",
    "* Way to Embed HTML and Open Full webpages (with CSS & Javascript even) in tkinter??????\n",
    "With the cefpython module you can embed a full-blown Chromium browser in a tk window. Below is a working example of displaying a local HTML file (change the HTML file location at the line commented with #todo)\n",
    "* No, there is no good way to display html in a tkinter application.\n",
    "\n",
    "\n",
    "* Tkhtml hasn't seen any significant development since 2008, and never got out of an early alpha stage.\n",
    "* As far as I can tell, the official source code for tkhtml is in this fossil repository:http://tkhtml.tcl.tk/fossil/timeline?y=ci&n=50\n",
    "\n",
    "> 답변 2 \n",
    "* !pip install cefpython3 \n",
    "* Update August 2020: this works with Python 2.7 / 3.4 / 3.5 / 3.6 / 3.7 \n",
    "* 3.8 support is coming in the next release!!!!!!!!!!!!!!!!!!!!!!!!!!!!!!"
   ]
  },
  {
   "cell_type": "markdown",
   "metadata": {},
   "source": [
    "> 참고 \n",
    "* https://stackoverflow.com/questions/14076674/using-tkinter-to-open-a-webpage\n",
    "* https://stackoverflow.com/questions/28799952/how-do-i-open-a-website-in-a-tkinter-window\n",
    "\n",
    "> 답변 1 \n",
    "* 1 Tkinter does not have a widget that can render a web page.\n",
    "\n",
    "> 답변 2 \n",
    "* You cannot easily do what you want. Tkinter has no way to render html. You would have to parse the HTML and CSS and * Javascript yourself, and translate the information for display on a canvas or text widget."
   ]
  },
  {
   "cell_type": "markdown",
   "metadata": {},
   "source": [
    "## Tkinter 포기!!!!!!!! -> Tkinter로 rendering html 안됨!!!!!!!!!!!!!!!!!!!!!!!!!"
   ]
  },
  {
   "cell_type": "code",
   "execution_count": null,
   "metadata": {},
   "outputs": [],
   "source": []
  }
 ],
 "metadata": {
  "kernelspec": {
   "display_name": "Python 3",
   "language": "python",
   "name": "python3"
  },
  "language_info": {
   "codemirror_mode": {
    "name": "ipython",
    "version": 3
   },
   "file_extension": ".py",
   "mimetype": "text/x-python",
   "name": "python",
   "nbconvert_exporter": "python",
   "pygments_lexer": "ipython3",
   "version": "3.8.0"
  },
  "toc": {
   "base_numbering": 1,
   "nav_menu": {},
   "number_sections": true,
   "sideBar": true,
   "skip_h1_title": false,
   "title_cell": "Table of Contents",
   "title_sidebar": "Contents",
   "toc_cell": false,
   "toc_position": {},
   "toc_section_display": true,
   "toc_window_display": false
  },
  "varInspector": {
   "cols": {
    "lenName": 16,
    "lenType": 16,
    "lenVar": 40
   },
   "kernels_config": {
    "python": {
     "delete_cmd_postfix": "",
     "delete_cmd_prefix": "del ",
     "library": "var_list.py",
     "varRefreshCmd": "print(var_dic_list())"
    },
    "r": {
     "delete_cmd_postfix": ") ",
     "delete_cmd_prefix": "rm(",
     "library": "var_list.r",
     "varRefreshCmd": "cat(var_dic_list()) "
    }
   },
   "types_to_exclude": [
    "module",
    "function",
    "builtin_function_or_method",
    "instance",
    "_Feature"
   ],
   "window_display": false
  }
 },
 "nbformat": 4,
 "nbformat_minor": 4
}
