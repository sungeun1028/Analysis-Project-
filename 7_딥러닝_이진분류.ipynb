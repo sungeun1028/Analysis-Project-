{
  "nbformat": 4,
  "nbformat_minor": 0,
  "metadata": {
    "colab": {
      "name": "7_딥러닝 이진분류.ipynb",
      "provenance": [],
      "collapsed_sections": [],
      "include_colab_link": true
    },
    "kernelspec": {
      "name": "python3",
      "display_name": "Python 3"
    }
  },
  "cells": [
    {
      "cell_type": "markdown",
      "metadata": {
        "id": "view-in-github",
        "colab_type": "text"
      },
      "source": [
        "<a href=\"https://colab.research.google.com/github/sungeun1028/Analysis-Project-/blob/main/7_%EB%94%A5%EB%9F%AC%EB%8B%9D_%EC%9D%B4%EC%A7%84%EB%B6%84%EB%A5%98.ipynb\" target=\"_parent\"><img src=\"https://colab.research.google.com/assets/colab-badge.svg\" alt=\"Open In Colab\"/></a>"
      ]
    },
    {
      "cell_type": "code",
      "metadata": {
        "id": "78P6D8rLLjn1",
        "colab": {
          "base_uri": "https://localhost:8080/"
        },
        "outputId": "29a8aa55-5015-4abc-b231-d57b8828bbbd"
      },
      "source": [
        "# from google.colab import auth\n",
        "# auth.authenticate_user()\n",
        "\n",
        "from google.colab import drive\n",
        "drive.mount('/content/gdrive')"
      ],
      "execution_count": 1,
      "outputs": [
        {
          "output_type": "stream",
          "name": "stdout",
          "text": [
            "Mounted at /content/gdrive\n"
          ]
        }
      ]
    },
    {
      "cell_type": "code",
      "metadata": {
        "id": "jEyytFYXLvX9",
        "colab": {
          "base_uri": "https://localhost:8080/"
        },
        "outputId": "e1878151-1913-4a95-eb5a-d0d10ffbaf2c"
      },
      "source": [
        "# 형태소분석기 설치\n",
        "!apt-get update\n",
        "!apt-get install g++ openjdk-8-jdk\n",
        "\n",
        "!pip install JPype1\n",
        "!pip install rhinoMorph"
      ],
      "execution_count": 2,
      "outputs": [
        {
          "output_type": "stream",
          "name": "stdout",
          "text": [
            "\r0% [Working]\r            \rHit:1 https://developer.download.nvidia.com/compute/cuda/repos/ubuntu1804/x86_64  InRelease\n",
            "\r0% [Connecting to archive.ubuntu.com] [Connecting to security.ubuntu.com (185.1\r0% [1 InRelease gpgv 1,575 B] [Connecting to archive.ubuntu.com (91.189.91.39)]\r                                                                               \rHit:2 http://archive.ubuntu.com/ubuntu bionic InRelease\n",
            "\r0% [1 InRelease gpgv 1,575 B] [Waiting for headers] [Connected to cloud.r-proje\r                                                                               \rIgn:3 https://developer.download.nvidia.com/compute/machine-learning/repos/ubuntu1804/x86_64  InRelease\n",
            "Hit:4 https://developer.download.nvidia.com/compute/machine-learning/repos/ubuntu1804/x86_64  Release\n",
            "Get:5 https://cloud.r-project.org/bin/linux/ubuntu bionic-cran40/ InRelease [3,626 B]\n",
            "Get:6 http://archive.ubuntu.com/ubuntu bionic-updates InRelease [88.7 kB]\n",
            "Get:7 http://ppa.launchpad.net/c2d4u.team/c2d4u4.0+/ubuntu bionic InRelease [15.9 kB]\n",
            "Get:8 http://security.ubuntu.com/ubuntu bionic-security InRelease [88.7 kB]\n",
            "Get:9 http://archive.ubuntu.com/ubuntu bionic-backports InRelease [74.6 kB]\n",
            "Hit:10 http://ppa.launchpad.net/cran/libgit2/ubuntu bionic InRelease\n",
            "Get:11 http://ppa.launchpad.net/deadsnakes/ppa/ubuntu bionic InRelease [15.9 kB]\n",
            "Hit:13 http://ppa.launchpad.net/graphics-drivers/ppa/ubuntu bionic InRelease\n",
            "Get:14 https://cloud.r-project.org/bin/linux/ubuntu bionic-cran40/ Packages [85.2 kB]\n",
            "Get:15 http://archive.ubuntu.com/ubuntu bionic-updates/main amd64 Packages [3,181 kB]\n",
            "Get:16 http://archive.ubuntu.com/ubuntu bionic-updates/restricted amd64 Packages [954 kB]\n",
            "Get:17 http://archive.ubuntu.com/ubuntu bionic-updates/universe amd64 Packages [2,275 kB]\n",
            "Get:18 http://ppa.launchpad.net/c2d4u.team/c2d4u4.0+/ubuntu bionic/main Sources [1,957 kB]\n",
            "Get:19 http://ppa.launchpad.net/c2d4u.team/c2d4u4.0+/ubuntu bionic/main amd64 Packages [1,004 kB]\n",
            "Get:20 http://security.ubuntu.com/ubuntu bionic-security/restricted amd64 Packages [921 kB]\n",
            "Get:21 http://security.ubuntu.com/ubuntu bionic-security/universe amd64 Packages [1,498 kB]\n",
            "Get:22 http://security.ubuntu.com/ubuntu bionic-security/main amd64 Packages [2,747 kB]\n",
            "Get:23 http://ppa.launchpad.net/deadsnakes/ppa/ubuntu bionic/main amd64 Packages [45.3 kB]\n",
            "Fetched 15.0 MB in 4s (3,756 kB/s)\n",
            "Reading package lists... Done\n",
            "Reading package lists... Done\n",
            "Building dependency tree       \n",
            "Reading state information... Done\n",
            "g++ is already the newest version (4:7.4.0-1ubuntu2.3).\n",
            "g++ set to manually installed.\n",
            "The following packages were automatically installed and are no longer required:\n",
            "  libnvidia-common-460 nsight-compute-2020.2.0\n",
            "Use 'apt autoremove' to remove them.\n",
            "The following additional packages will be installed:\n",
            "  fonts-dejavu-core fonts-dejavu-extra libatk-wrapper-java\n",
            "  libatk-wrapper-java-jni libgail-common libgail18 libgtk2.0-0 libgtk2.0-bin\n",
            "  libgtk2.0-common libxxf86dga1 openjdk-8-jdk-headless openjdk-8-jre\n",
            "  openjdk-8-jre-headless x11-utils\n",
            "Suggested packages:\n",
            "  gvfs openjdk-8-demo openjdk-8-source visualvm icedtea-8-plugin libnss-mdns\n",
            "  fonts-ipafont-gothic fonts-ipafont-mincho fonts-wqy-microhei\n",
            "  fonts-wqy-zenhei fonts-indic mesa-utils\n",
            "The following NEW packages will be installed:\n",
            "  fonts-dejavu-core fonts-dejavu-extra libatk-wrapper-java\n",
            "  libatk-wrapper-java-jni libgail-common libgail18 libgtk2.0-0 libgtk2.0-bin\n",
            "  libgtk2.0-common libxxf86dga1 openjdk-8-jdk openjdk-8-jdk-headless\n",
            "  openjdk-8-jre openjdk-8-jre-headless x11-utils\n",
            "0 upgraded, 15 newly installed, 0 to remove and 54 not upgraded.\n",
            "Need to get 43.5 MB of archives.\n",
            "After this operation, 163 MB of additional disk space will be used.\n",
            "Get:1 http://archive.ubuntu.com/ubuntu bionic/main amd64 libxxf86dga1 amd64 2:1.1.4-1 [13.7 kB]\n",
            "Get:2 http://archive.ubuntu.com/ubuntu bionic/main amd64 fonts-dejavu-core all 2.37-1 [1,041 kB]\n",
            "Get:3 http://archive.ubuntu.com/ubuntu bionic/main amd64 fonts-dejavu-extra all 2.37-1 [1,953 kB]\n",
            "Get:4 http://archive.ubuntu.com/ubuntu bionic/main amd64 x11-utils amd64 7.7+3build1 [196 kB]\n",
            "Get:5 http://archive.ubuntu.com/ubuntu bionic/main amd64 libatk-wrapper-java all 0.33.3-20ubuntu0.1 [34.7 kB]\n",
            "Get:6 http://archive.ubuntu.com/ubuntu bionic/main amd64 libatk-wrapper-java-jni amd64 0.33.3-20ubuntu0.1 [28.3 kB]\n",
            "Get:7 http://archive.ubuntu.com/ubuntu bionic/main amd64 libgtk2.0-common all 2.24.32-1ubuntu1 [125 kB]\n",
            "Get:8 http://archive.ubuntu.com/ubuntu bionic/main amd64 libgtk2.0-0 amd64 2.24.32-1ubuntu1 [1,769 kB]\n",
            "Get:9 http://archive.ubuntu.com/ubuntu bionic/main amd64 libgail18 amd64 2.24.32-1ubuntu1 [14.2 kB]\n",
            "Get:10 http://archive.ubuntu.com/ubuntu bionic/main amd64 libgail-common amd64 2.24.32-1ubuntu1 [112 kB]\n",
            "Get:11 http://archive.ubuntu.com/ubuntu bionic/main amd64 libgtk2.0-bin amd64 2.24.32-1ubuntu1 [7,536 B]\n",
            "Get:12 http://archive.ubuntu.com/ubuntu bionic-updates/universe amd64 openjdk-8-jre-headless amd64 8u312-b07-0ubuntu1~18.04 [28.2 MB]\n",
            "Get:13 http://archive.ubuntu.com/ubuntu bionic-updates/universe amd64 openjdk-8-jre amd64 8u312-b07-0ubuntu1~18.04 [69.6 kB]\n",
            "Get:14 http://archive.ubuntu.com/ubuntu bionic-updates/universe amd64 openjdk-8-jdk-headless amd64 8u312-b07-0ubuntu1~18.04 [8,298 kB]\n",
            "Get:15 http://archive.ubuntu.com/ubuntu bionic-updates/universe amd64 openjdk-8-jdk amd64 8u312-b07-0ubuntu1~18.04 [1,625 kB]\n",
            "Fetched 43.5 MB in 1s (41.3 MB/s)\n",
            "Selecting previously unselected package libxxf86dga1:amd64.\n",
            "(Reading database ... 155203 files and directories currently installed.)\n",
            "Preparing to unpack .../00-libxxf86dga1_2%3a1.1.4-1_amd64.deb ...\n",
            "Unpacking libxxf86dga1:amd64 (2:1.1.4-1) ...\n",
            "Selecting previously unselected package fonts-dejavu-core.\n",
            "Preparing to unpack .../01-fonts-dejavu-core_2.37-1_all.deb ...\n",
            "Unpacking fonts-dejavu-core (2.37-1) ...\n",
            "Selecting previously unselected package fonts-dejavu-extra.\n",
            "Preparing to unpack .../02-fonts-dejavu-extra_2.37-1_all.deb ...\n",
            "Unpacking fonts-dejavu-extra (2.37-1) ...\n",
            "Selecting previously unselected package x11-utils.\n",
            "Preparing to unpack .../03-x11-utils_7.7+3build1_amd64.deb ...\n",
            "Unpacking x11-utils (7.7+3build1) ...\n",
            "Selecting previously unselected package libatk-wrapper-java.\n",
            "Preparing to unpack .../04-libatk-wrapper-java_0.33.3-20ubuntu0.1_all.deb ...\n",
            "Unpacking libatk-wrapper-java (0.33.3-20ubuntu0.1) ...\n",
            "Selecting previously unselected package libatk-wrapper-java-jni:amd64.\n",
            "Preparing to unpack .../05-libatk-wrapper-java-jni_0.33.3-20ubuntu0.1_amd64.deb ...\n",
            "Unpacking libatk-wrapper-java-jni:amd64 (0.33.3-20ubuntu0.1) ...\n",
            "Selecting previously unselected package libgtk2.0-common.\n",
            "Preparing to unpack .../06-libgtk2.0-common_2.24.32-1ubuntu1_all.deb ...\n",
            "Unpacking libgtk2.0-common (2.24.32-1ubuntu1) ...\n",
            "Selecting previously unselected package libgtk2.0-0:amd64.\n",
            "Preparing to unpack .../07-libgtk2.0-0_2.24.32-1ubuntu1_amd64.deb ...\n",
            "Unpacking libgtk2.0-0:amd64 (2.24.32-1ubuntu1) ...\n",
            "Selecting previously unselected package libgail18:amd64.\n",
            "Preparing to unpack .../08-libgail18_2.24.32-1ubuntu1_amd64.deb ...\n",
            "Unpacking libgail18:amd64 (2.24.32-1ubuntu1) ...\n",
            "Selecting previously unselected package libgail-common:amd64.\n",
            "Preparing to unpack .../09-libgail-common_2.24.32-1ubuntu1_amd64.deb ...\n",
            "Unpacking libgail-common:amd64 (2.24.32-1ubuntu1) ...\n",
            "Selecting previously unselected package libgtk2.0-bin.\n",
            "Preparing to unpack .../10-libgtk2.0-bin_2.24.32-1ubuntu1_amd64.deb ...\n",
            "Unpacking libgtk2.0-bin (2.24.32-1ubuntu1) ...\n",
            "Selecting previously unselected package openjdk-8-jre-headless:amd64.\n",
            "Preparing to unpack .../11-openjdk-8-jre-headless_8u312-b07-0ubuntu1~18.04_amd64.deb ...\n",
            "Unpacking openjdk-8-jre-headless:amd64 (8u312-b07-0ubuntu1~18.04) ...\n",
            "Selecting previously unselected package openjdk-8-jre:amd64.\n",
            "Preparing to unpack .../12-openjdk-8-jre_8u312-b07-0ubuntu1~18.04_amd64.deb ...\n",
            "Unpacking openjdk-8-jre:amd64 (8u312-b07-0ubuntu1~18.04) ...\n",
            "Selecting previously unselected package openjdk-8-jdk-headless:amd64.\n",
            "Preparing to unpack .../13-openjdk-8-jdk-headless_8u312-b07-0ubuntu1~18.04_amd64.deb ...\n",
            "Unpacking openjdk-8-jdk-headless:amd64 (8u312-b07-0ubuntu1~18.04) ...\n",
            "Selecting previously unselected package openjdk-8-jdk:amd64.\n",
            "Preparing to unpack .../14-openjdk-8-jdk_8u312-b07-0ubuntu1~18.04_amd64.deb ...\n",
            "Unpacking openjdk-8-jdk:amd64 (8u312-b07-0ubuntu1~18.04) ...\n",
            "Setting up libgtk2.0-common (2.24.32-1ubuntu1) ...\n",
            "Setting up fonts-dejavu-core (2.37-1) ...\n",
            "Setting up libxxf86dga1:amd64 (2:1.1.4-1) ...\n",
            "Setting up fonts-dejavu-extra (2.37-1) ...\n",
            "Setting up openjdk-8-jre-headless:amd64 (8u312-b07-0ubuntu1~18.04) ...\n",
            "update-alternatives: using /usr/lib/jvm/java-8-openjdk-amd64/jre/bin/orbd to provide /usr/bin/orbd (orbd) in auto mode\n",
            "update-alternatives: using /usr/lib/jvm/java-8-openjdk-amd64/jre/bin/servertool to provide /usr/bin/servertool (servertool) in auto mode\n",
            "update-alternatives: using /usr/lib/jvm/java-8-openjdk-amd64/jre/bin/tnameserv to provide /usr/bin/tnameserv (tnameserv) in auto mode\n",
            "Setting up libgtk2.0-0:amd64 (2.24.32-1ubuntu1) ...\n",
            "Setting up libgail18:amd64 (2.24.32-1ubuntu1) ...\n",
            "Setting up openjdk-8-jdk-headless:amd64 (8u312-b07-0ubuntu1~18.04) ...\n",
            "update-alternatives: using /usr/lib/jvm/java-8-openjdk-amd64/bin/idlj to provide /usr/bin/idlj (idlj) in auto mode\n",
            "update-alternatives: using /usr/lib/jvm/java-8-openjdk-amd64/bin/wsimport to provide /usr/bin/wsimport (wsimport) in auto mode\n",
            "update-alternatives: using /usr/lib/jvm/java-8-openjdk-amd64/bin/jsadebugd to provide /usr/bin/jsadebugd (jsadebugd) in auto mode\n",
            "update-alternatives: using /usr/lib/jvm/java-8-openjdk-amd64/bin/native2ascii to provide /usr/bin/native2ascii (native2ascii) in auto mode\n",
            "update-alternatives: using /usr/lib/jvm/java-8-openjdk-amd64/bin/javah to provide /usr/bin/javah (javah) in auto mode\n",
            "update-alternatives: using /usr/lib/jvm/java-8-openjdk-amd64/bin/hsdb to provide /usr/bin/hsdb (hsdb) in auto mode\n",
            "update-alternatives: using /usr/lib/jvm/java-8-openjdk-amd64/bin/clhsdb to provide /usr/bin/clhsdb (clhsdb) in auto mode\n",
            "update-alternatives: using /usr/lib/jvm/java-8-openjdk-amd64/bin/xjc to provide /usr/bin/xjc (xjc) in auto mode\n",
            "update-alternatives: using /usr/lib/jvm/java-8-openjdk-amd64/bin/schemagen to provide /usr/bin/schemagen (schemagen) in auto mode\n",
            "update-alternatives: using /usr/lib/jvm/java-8-openjdk-amd64/bin/extcheck to provide /usr/bin/extcheck (extcheck) in auto mode\n",
            "update-alternatives: using /usr/lib/jvm/java-8-openjdk-amd64/bin/jhat to provide /usr/bin/jhat (jhat) in auto mode\n",
            "update-alternatives: using /usr/lib/jvm/java-8-openjdk-amd64/bin/wsgen to provide /usr/bin/wsgen (wsgen) in auto mode\n",
            "Setting up x11-utils (7.7+3build1) ...\n",
            "Setting up libgail-common:amd64 (2.24.32-1ubuntu1) ...\n",
            "Setting up libatk-wrapper-java (0.33.3-20ubuntu0.1) ...\n",
            "Setting up libgtk2.0-bin (2.24.32-1ubuntu1) ...\n",
            "Setting up libatk-wrapper-java-jni:amd64 (0.33.3-20ubuntu0.1) ...\n",
            "Setting up openjdk-8-jre:amd64 (8u312-b07-0ubuntu1~18.04) ...\n",
            "update-alternatives: using /usr/lib/jvm/java-8-openjdk-amd64/jre/bin/policytool to provide /usr/bin/policytool (policytool) in auto mode\n",
            "Setting up openjdk-8-jdk:amd64 (8u312-b07-0ubuntu1~18.04) ...\n",
            "update-alternatives: using /usr/lib/jvm/java-8-openjdk-amd64/bin/appletviewer to provide /usr/bin/appletviewer (appletviewer) in auto mode\n",
            "update-alternatives: using /usr/lib/jvm/java-8-openjdk-amd64/bin/jconsole to provide /usr/bin/jconsole (jconsole) in auto mode\n",
            "Processing triggers for man-db (2.8.3-2ubuntu0.1) ...\n",
            "Processing triggers for hicolor-icon-theme (0.17-2) ...\n",
            "Processing triggers for fontconfig (2.12.6-0ubuntu2) ...\n",
            "Processing triggers for mime-support (3.60ubuntu1) ...\n",
            "Processing triggers for libc-bin (2.27-3ubuntu1.3) ...\n",
            "/sbin/ldconfig.real: /usr/local/lib/python3.7/dist-packages/ideep4py/lib/libmkldnn.so.0 is not a symbolic link\n",
            "\n",
            "Collecting JPype1\n",
            "  Downloading JPype1-1.3.0-cp37-cp37m-manylinux_2_5_x86_64.manylinux1_x86_64.whl (448 kB)\n",
            "\u001b[K     |████████████████████████████████| 448 kB 5.0 MB/s \n",
            "\u001b[?25hRequirement already satisfied: typing-extensions in /usr/local/lib/python3.7/dist-packages (from JPype1) (4.2.0)\n",
            "Installing collected packages: JPype1\n",
            "Successfully installed JPype1-1.3.0\n",
            "Collecting rhinoMorph\n",
            "  Downloading rhinoMorph-4.0.0.2-py3-none-any.whl (3.0 MB)\n",
            "\u001b[K     |████████████████████████████████| 3.0 MB 4.9 MB/s \n",
            "\u001b[?25hInstalling collected packages: rhinoMorph\n",
            "Successfully installed rhinoMorph-4.0.0.2\n"
          ]
        }
      ]
    },
    {
      "cell_type": "code",
      "metadata": {
        "id": "aXewUryxL5Yj",
        "colab": {
          "base_uri": "https://localhost:8080/"
        },
        "outputId": "718f8bac-dc7a-4037-d9e8-2c9c467e0b2a"
      },
      "source": [
        "# 경로 변경\n",
        "%cd /content/gdrive/My\\ Drive/pytest/"
      ],
      "execution_count": 3,
      "outputs": [
        {
          "output_type": "stream",
          "name": "stdout",
          "text": [
            "/content/gdrive/My Drive/pytest\n"
          ]
        }
      ]
    },
    {
      "cell_type": "code",
      "source": [
        "!ls"
      ],
      "metadata": {
        "id": "zYHs-0P1CdoR",
        "colab": {
          "base_uri": "https://localhost:8080/"
        },
        "outputId": "2a5ee2d3-07fd-4ab1-c88f-f641cfa2dfec"
      },
      "execution_count": 4,
      "outputs": [
        {
          "output_type": "stream",
          "name": "stdout",
          "text": [
            "alice.png  income.csv\t    negative.txt  ratings_morphed.txt  ratings.txt\n",
            "data\t   income_test.csv  positive.txt  ratings_small.txt    wiki_test.txt\n"
          ]
        }
      ]
    },
    {
      "cell_type": "code",
      "source": [
        "# 형태소 분석된 데이터 로딩\n",
        "def read_data(filename, encoding='cp949'):               # 읽기 함수 정의\n",
        "  with open(filename, 'r', encoding=encoding) as f:\n",
        "    data = [line.split('\\t') for line in f.read().splitlines()]\n",
        "    data = data[1:]                                      # 첫 행은 헤더(id document label)일 수 있으므로 제외한다\n",
        "  return data\n",
        "\n",
        "def write_data(data, filename, encoding='cp949'):        # 쓰기 함수 정의\n",
        "  with open(filename, 'w', encoding=encoding) as f:\n",
        "    f.write(data)\n",
        "\n",
        "data = read_data('ratings_morphed.txt', encoding='cp949')\n",
        "\n",
        "print(type(data))\n",
        "print(len(data))\n",
        "print(len(data[0])) \n",
        "print(data[0])"
      ],
      "metadata": {
        "id": "j9UCrqELCjM2",
        "colab": {
          "base_uri": "https://localhost:8080/"
        },
        "outputId": "9fc236a7-5ad3-46c1-dc8a-616de3761ceb"
      },
      "execution_count": 5,
      "outputs": [
        {
          "output_type": "stream",
          "name": "stdout",
          "text": [
            "<class 'list'>\n",
            "492\n",
            "3\n",
            "['8132799', '디자인 배우다 학생 외국 디자이너 와 일군 전통 통하다 발전하다 문화 산업 부럽다 사실 우리나라 그 어렵다 시절 끝 열정 지키다 노라노 같다 전통 있다 같다 사람 꿈 꾸다 이루다 나가다 감사하다', '1']\n"
          ]
        }
      ]
    },
    {
      "cell_type": "code",
      "source": [
        "# 무료 Colab에서 실행하기에는 데이터가 너무 많아 1/2로 줄인다\n",
        "import random\n",
        "import math\n",
        "import numpy as np\n",
        "random.shuffle(data)                            # data를 랜덤하게 섞음\n",
        "\n",
        "part_num = math.floor(len(data) * 1/3)          # data의 1/3을 정수로 얻음\n",
        "data = data[:part_num]                          # 앞에서부터 절반 크기의 데이터만 선택\n",
        "print(len(data))"
      ],
      "metadata": {
        "id": "ECd-XyzqRCfU",
        "colab": {
          "base_uri": "https://localhost:8080/"
        },
        "outputId": "dff8c31b-ec37-4361-afb8-51110b0ecdd0"
      },
      "execution_count": 6,
      "outputs": [
        {
          "output_type": "stream",
          "name": "stdout",
          "text": [
            "164\n"
          ]
        }
      ]
    },
    {
      "cell_type": "code",
      "metadata": {
        "id": "i0QApdkybNRb"
      },
      "source": [
        "# 훈련데이터와 테스트데이터 분리\n",
        "data_text = [line[1] for line in data]      \t\t# 데이터 본문\n",
        "data_senti = [line[2] for line in data]     \t\t# 데이터 긍부정 부분\n",
        "\n",
        "from sklearn.model_selection import train_test_split\n",
        "train_data_text, test_data_text, train_data_senti, test_data_senti = train_test_split(data_text, data_senti, stratify=data_senti)"
      ],
      "execution_count": 7,
      "outputs": []
    },
    {
      "cell_type": "code",
      "source": [
        "# Counter 클래스를 이용해 train과 test 데이터의 비율을 확인한다 \n",
        "from collections import Counter\n",
        "train_data_senti_freq = Counter(train_data_senti)\n",
        "print('train_data_senti_freq:', train_data_senti_freq)\n",
        "\n",
        "test_data_senti_freq = Counter(test_data_senti)\n",
        "print('test_data_senti_freq:', test_data_senti_freq)"
      ],
      "metadata": {
        "id": "vRJbr3bYFsFV",
        "colab": {
          "base_uri": "https://localhost:8080/"
        },
        "outputId": "7288f2f4-0df5-440d-e1f3-5328bdeec1a3"
      },
      "execution_count": 8,
      "outputs": [
        {
          "output_type": "stream",
          "name": "stdout",
          "text": [
            "train_data_senti_freq: Counter({'1': 63, '0': 60})\n",
            "test_data_senti_freq: Counter({'1': 21, '0': 20})\n"
          ]
        }
      ]
    },
    {
      "cell_type": "code",
      "source": [
        "# 데이터의 단어 개수 통계\n",
        "import numpy as np\n",
        "text_len = [len(line.split(' ')) for line in train_data_text]  \n",
        "print(\"최소길이: \", np.min(text_len))\n",
        "print(\"최대길이: \", np.max(text_len))\n",
        "print(\"평균길이: \", np.round(np.mean(text_len), 1))\n",
        "print(\"중위수길이: \", np.median(text_len))\n",
        "print(\"구간별 최대 길이: \", np.percentile(text_len, [0, 25, 50, 75, 90, 100]))\n",
        "\n",
        "print()\n",
        "print(\"최소길이 문장: \", train_data_text[np.argmin(text_len)])\n",
        "print(\"최대길이 문장: \", train_data_text[np.argmax(text_len)])"
      ],
      "metadata": {
        "id": "3TePPGBNCn_p",
        "colab": {
          "base_uri": "https://localhost:8080/"
        },
        "outputId": "797056d5-a192-4dc8-eade-a7d92ecf43ae"
      },
      "execution_count": 9,
      "outputs": [
        {
          "output_type": "stream",
          "name": "stdout",
          "text": [
            "최소길이:  1\n",
            "최대길이:  37\n",
            "평균길이:  9.3\n",
            "중위수길이:  6.0\n",
            "구간별 최대 길이:  [ 1.   4.   6.  12.  19.6 37. ]\n",
            "\n",
            "최소길이 문장:  삐질삐질\n",
            "최대길이 문장:  전윤수 미인도 살다 어린 여자 옷 벗기다 장면 명백하다 아동 학대 범죄 금 영화 아동 금 출현 가하다 일 책임 지지 못하다 어린아이 훗날 영화 출연 후회하다 어떻다 감독 영화 관계되다 어른 시간 되돌다 릴 수 있다\n"
          ]
        }
      ]
    },
    {
      "cell_type": "code",
      "metadata": {
        "id": "wnixy07yNPN9"
      },
      "source": [
        "# Data Tokenizing\n",
        "from keras.preprocessing.text import Tokenizer\n",
        "from keras.preprocessing.sequence import pad_sequences\n",
        "import numpy as np\n",
        "import math\n",
        "\n",
        "max_words = 10000                                         # 데이터셋에서 가장 빈도 높은 10,000 개의 단어만 사용한다\n",
        "maxlen = 20                                               # 20개 이후의 단어는 버려 각 문장의 길이를 고정시킨다\n",
        "\n",
        "tokenizer = Tokenizer(num_words=max_words)  \t            # 상위빈도 10,000 개의 단어만을 추려내는 Tokenizer 객체 생성\n",
        "tokenizer.fit_on_texts(train_data_text)                   # 단어 인덱스를 구축한다\n",
        "word_index = tokenizer.word_index               \t        # 단어 인덱스만 가져온다"
      ],
      "execution_count": 10,
      "outputs": []
    },
    {
      "cell_type": "code",
      "metadata": {
        "id": "UgwmBHAJkIFR",
        "colab": {
          "base_uri": "https://localhost:8080/"
        },
        "outputId": "c37160e3-6aa5-427c-f12d-571546951ea3"
      },
      "source": [
        "# Tokenizing 결과 확인\n",
        "print('전체에서 %s개의 고유한 토큰을 찾았습니다.' % len(word_index))\n",
        "print('word_index type: ', type(word_index))\n",
        "print('word_index: ', word_index)"
      ],
      "execution_count": 11,
      "outputs": [
        {
          "output_type": "stream",
          "name": "stdout",
          "text": [
            "전체에서 668개의 고유한 토큰을 찾았습니다.\n",
            "word_index type:  <class 'dict'>\n",
            "word_index:  {'영화': 1, '보다': 2, '없다': 3, '하다': 4, '너무': 5, '정말': 6, '좋다': 7, '사람': 8, '진짜': 9, '잘': 10, '다': 11, '최고': 12, '같다': 13, '수': 14, '말': 15, '내용': 16, '재미있다': 17, '스토리': 18, '만': 19, '아': 20, '왜': 21, '때': 22, '마음': 23, '연기': 24, '아깝다': 25, '이': 26, '만들다': 27, '좋아하다': 28, '대하다': 29, '나오다': 30, '재미': 31, '감동': 32, '답답하다': 33, '알다': 34, 'ㅠㅠ': 35, '어떻다': 36, '되다': 37, '안': 38, '자다': 39, '웃다': 40, '모르다': 41, '받다': 42, '돈': 43, '말다': 44, '주다': 45, '볼': 46, '드라마': 47, '당시': 48, '생각': 49, '있다': 50, '유치하다': 51, '모으다': 52, '역시': 53, '인생': 54, '못하다': 55, '평점': 56, 'ㅋ': 57, 'ㅋㅋㅋ': 58, '장면': 59, '생각하다': 60, '남자': 61, '지루하다': 62, '가다': 63, '못': 64, 'ㅇ': 65, '아직': 66, '그저': 67, '아이돌': 68, '배우': 69, '정도': 70, '들다': 71, '그렇다': 72, '쓰레기': 73, '그': 74, '주인공': 75, '연기자': 76, '여': 77, '놓다': 78, '더': 79, '헉': 80, '그런': 81, '청소년': 82, '어울리다': 83, '음악': 84, '많다': 85, '시간': 86, '비판': 87, '짜증': 88, '일': 89, '무슨': 90, '사랑하다': 91, '각본': 92, '눈물': 93, '만점': 94, '참': 95, '따뜻다': 96, '한영': 97, '설다': 98, '웃기다': 99, 'ㅡㅡ': 100, '살다': 101, '여자': 102, '아동': 103, '금': 104, '출연': 105, '릴': 106, '죽다': 107, '잠': 108, '이루다': 109, '재밌게': 110, '우리나라': 111, '결말': 112, '영상': 113, '반전': 114, '얼굴': 115, '점': 116, '한마디': 117, '한국': 118, '굉장히': 119, '나쁘다': 120, '마지막': 121, '원작': 122, '그냥': 123, '두': 124, '가짜': 125, '발': 126, '가을': 127, '순수하다': 128, '웃음': 129, '얼마나': 130, '제발': 131, '잇다': 132, '한번': 133, '늦다': 134, 'ㅋㅋ': 135, '중간': 136, '차': 137, '간': 138, '강추': 139, '한': 140, '이런': 141, '어리다': 142, '일본': 143, '길': 144, '모슬렘': 145, '다시': 146, '포': 147, '신다': 148, '애': 149, '임팩트': 150, '등장인물': 151, '연출': 152, '하나같이': 153, '지금': 154, '최악': 155, '엇': 156, '좀': 157, '보이다': 158, '자신': 159, '후': 160, '별로': 161, '그래': 162, '바비': 163, '어쩌다': 164, '재미없다': 165, '아주': 166, '그리하다': 167, 'ㅎ': 168, '빠지다': 169, '어찌': 170, '사명감': 171, '가지다': 172, '인가': 173, '삶': 174, '소중다': 175, '함': 176, '날개': 177, '달리다': 178, '처음': 179, '초롱': 180, '팬': 181, '심': 182, '갈수록': 183, '배경': 184, '달달하다': 185, '행복': 186, '해지다': 187, '완전': 188, '상당히': 189, '훌륭하다': 190, '똥칠': 191, '여행': 192, '빠트리다': 193, '포스터': 194, '안속': 195, '강압': 196, '적용': 197, '세뇌': 198, '용서': 199, '내내': 200, '멋지다': 201, '안타깝다': 202, '부분': 203, '극초': 204, '반': 205, '공포': 206, '이끌다': 207, '내기': 208, '위하다': 209, '장치': 210, '그닥': 211, '상관없다': 212, '분신': 213, '사바': 214, '재다': 215, '또': 216, '갑자기': 217, '코스': 218, '디다': 219, '임진강': 220, '부': 221, '멈추다': 222, '필름': 223, '낡다': 224, '무당': 225, '인': 226, '방': 227, '골고루': 228, '제목': 229, '삐질삐질': 230, '여유': 231, '로': 232, '울다': 233, '일요일': 234, '오후': 235, '나른하다': 236, '동화': 237, '속': 238, '세계': 239, '빠져들다': 240, '포근하다': 241, '드럽다': 242, '리': 243, '망하다': 244, '억지로': 245, '긴지': 246, '헐': 247, '미': 248, '설': 249, '관하다': 250, '모든': 251, '전윤수': 252, '미인도': 253, '어린': 254, '옷': 255, '벗기다': 256, '명백하다': 257, '학대': 258, '범죄': 259, '출현': 260, '가하다': 261, '책임': 262, '지지': 263, '어린아이': 264, '훗날': 265, '후회하다': 266, '감독': 267, '관계되다': 268, '어른': 269, '되돌다': 270, '매회': 271, '리타': 272, '자꾸': 273, '슬다': 274, '너도나도': 275, '사이먼': 276, '베이커': 277, '홀리다': 278, '정서': 279, '맞다': 280, '유머': 281, '코드': 282, '뻔하다': 283, '비추다': 284, '친구': 285, '안경': 286, '끼이다': 287, '극': 288, '전개': 289, '꼭': 290, '필요하다': 291, '운영': 292, '강': 293, '혜정': 294, '믿다': 295, '후반부': 296, '지겨워': 297, '잃다': 298, '참신하다': 299, '소재': 300, '퀘벡': 301, '이물감': 302, '시': 303, '스타워즈': 304, '쌍': 305, '탑': 306, '산만하다': 307, '개연': 308, '성': 309, '떨어지다': 310, '낚이다': 311, '성격': 312, '대박이': 313, '욕하다': 314, '기분': 315, '게다가': 316, '씬': 317, '잊다': 318, '모독': 319, '내시': 320, 'ㅜㅜ': 321, '로그인하다': 322, '말리다': 323, '만화': 324, '감동하다': 325, '찾다': 326, '안보': 327, '힐링': 328, '무비': 329, '잔잔하다': 330, '앉다': 331, '자리': 332, '연속': 333, '전혀': 334, '질리다': 335, '저런': 336, '짓': 337, '는지': 338, '화나다': 339, '태권도': 340, '액션': 341, '치다': 342, '티': 343, '가나': 344, '배우다': 345, 'ㄷㄷ': 346, '짱': 347, '그리고': 348, '다그다': 349, '하구': 350, '난리': 351, '로더': 352, '피다': 353, '기': 354, '게스트': 355, '휘동': 356, '낫다': 357, '오늘': 358, '클라라': 359, '프로': 360, '점점': 361, '망치다': 362, '뛰어넘다': 363, '때가다': 364, '도': 365, '마디': 366, '꺼내다': 367, '벅차다': 368, '밤': 369, '설치다': 370, '교복': 371, '남다': 372, '션': 373, '자': 374, '볼펜': 375, '자국': 376, '미처': 377, '전하다': 378, '형태': 379, '요즘': 380, '해먹다': 381, '작가': 382, '빨리': 383, '정신': 384, '병원': 385, '위험하다': 386, '억지': 387, '심하다': 388, '사고': 389, '다치다': 390, '이식': 391, 'ㅎㅎ': 392, '와': 393, '보너스': 394, '보신': 395, '중동': 396, '문화': 397, '새롭다': 398, '성룡': 399, '형': 400, '마이': 401, '우상': 402, '별': 403, '같잖다': 404, '기법': 405, '관객': 406, '우롱하다': 407, '속다': 408, '별점': 409, '이상': 410, '멍청이': 411, '사다': 412, '가치': 413, '브리': 414, '이름': 415, '빈약하다': 416, '뜬금없다': 417, '요소': 418, '아이': 419, '즐겁다': 420, '옛날': 421, '싱겁다': 422, '후우': 423, '싫다': 424, 'ㅠ': 425, '줄다': 426, '저질': 427, '영화관': 428, '하지만': 429, '선진국': 430, '글쎄': 431, '알라': 432, '미움': 433, '전쟁': 434, '사랑': 435, '가르침': 436, '신고하다': 437, '애국': 438, '미국': 439, '시민': 440, '단순하다': 441, '폄하하다': 442, '아프다': 443, '풍': 444, '저그': 445, '영차': 446, '찐다': 447, '영': 448, '성인': 449, 'ㅜ': 450, '어': 451, '상당하다': 452, '수작': 453, '강렬하다': 454, '일품': 455, '캐릭터': 456, '귀엽다': 457, '개봉': 458, '할인': 459, '그렇게': 460, '말아먹다': 461, '특히': 462, '금고': 463, '암': 464, '걸리다': 465, '추천': 466, '스턴': 467, '트다': 468, '대역': 469, '뚱': 470, '땡': 471, '아무': 472, '쿡': 473, '티비': 474, '엥': 475, '뭐야': 476, '되감기다': 477, '편집': 478, '발로': 479, '엣': 480, '날': 481, '세우다': 482, '김': 483, '강우하다': 484, '싸우다': 485, '길다': 486, '집어넣다': 487, '상황': 488, '강우': 489, '퍼': 490, '첫': 491, '느낌': 492, '예전': 493, '양심': 494, '곱다': 495, '비슷하다': 496, '감정': 497, '움찔': 498, '부탁': 499, '드리다': 500, '연': 501, '요': 502, '욕': 503, '폭력': 504, '걱정되다': 505, '저어': 506, '성추행': 507, '상': 508, '목격': 509, '증언': 510, '덕분': 511, '계속': 512, '오다': 513, '혼자': 514, '올해': 515, '지루하긴다': 516, '아버지이': 517, '남편': 518, '무사': 519, '일생': 520, '의미': 521, '죽음': 522, '일지': 523, '굳': 524, '신념': 525, '멋': 526, '진일': 527, '크다': 528, '이어': 529, '붙이다': 530, '정치': 531, '묘사': 532, '표현하다': 533, '흥행하다': 534, '기억': 535, '절대': 536, '낮다': 537, '연기하다': 538, '디테일': 539, '따봉': 540, '다소': 541, '진부하다': 542, '한사': 543, '흘리다': 544, '다르다': 545, '지다': 546, '안인숙': 547, '우': 548, '넘넘': 549, '잘하다': 550, '등': 551, '바비도': 552, '바스코': 553, '이번': 554, '결과': 555, '불만': 556, '품다': 557, '어쩌면': 558, '당연하다': 559, '거지': 560, '깎아내리다': 561, '까다': 562, '충분히': 563, '이기다': 564, '자격': 565, '개인': 566, '행운': 567, '엔딩': 568, '크레딧': 569, '끝나다': 570, '발견하다': 571, '추억': 572, '아버지': 573, '녹화하다': 574, '넘다': 575, '귀신': 576, '맛나다': 577, '예능': 578, '준수하다': 579, '날다': 580, '라': 581, '따': 582, '뚜': 583, '스머프': 584, '작정하다': 585, '반갑다': 586, '매력': 587, '유쾌하다': 588, '노래': 589, '카다': 590, '쿄': 591, '코': 592, '없이': 593, '목록': 594, '작품': 595, '뒤': 596, '찾아보다': 597, '아련하다': 598, '빼다': 599, '나머지': 600, '전부': 601, '바보': 602, '어거지': 603, '그만하다': 604, '스트라빈스키': 605, '밝히다': 606, '업로드': 607, '빨리다': 608, '어제': 609, '기다리다': 610, '데리다': 611, '여실히': 612, '드러나다': 613, '일터': 614, '일상': 615, '모습': 616, '작업': 617, '힘들다': 618, '음': 619, '명성': 620, '비하다': 621, '글하다': 622, '취향': 623, '문제': 624, '어색하다': 625, '연출력': 626, '내평': 627, '지운': 628, '밋밋하다': 629, '대부분': 630, '쓸데없이': 631, '진지하다': 632, '무겁다': 633, '폼': 634, '재지': 635, '학교': 636, '반올림': 637, '폴리스스토리': 638, '시리즈': 639, '뉴': 640, '인도': 641, '꽉': 642, '차다': 643, '대박': 644, '내생': 645, '가장': 646, '인정하다': 647, '눈동자': 648, '허준': 649, '모래시계': 650, '황금': 651, '의제': 652, '국': 653, '인하다': 654, '바뀌다': 655, '규모': 656, '작다': 657, '사업가': 658, '집안': 659, '가족': 660, '갈등': 661, '서로': 662, '원수': 663, '비슷다': 664, '지내다': 665, '바꾸다': 666, '파고들다': 667, '머저리': 668}\n"
          ]
        }
      ]
    },
    {
      "cell_type": "code",
      "metadata": {
        "id": "xMVR-RG-kMdX",
        "colab": {
          "base_uri": "https://localhost:8080/"
        },
        "outputId": "1765319c-98df-4917-d980-aa3446ae4d6b"
      },
      "source": [
        "# Data Sequencing\n",
        "# 텍스트를 숫자로 변환하는 작업을 수행한다\n",
        "# 상위 빈도 10,000(max_words)개의 단어만 추출하여 word_index의 숫자 리스트로 변환한다.\n",
        "data = tokenizer.texts_to_sequences(train_data_text)\t\t# Tokenizer 결과가 여기서 반영된다.\n",
        "\n",
        "print('data 0:', data[0])\n",
        "print('texts 0:', train_data_text[0])\t\t\t\t            # train_data_text[0]의 본래 단어들"
      ],
      "execution_count": 12,
      "outputs": [
        {
          "output_type": "stream",
          "name": "stdout",
          "text": [
            "data 0: [170, 81, 171, 172, 15, 173]\n",
            "texts 0: 어찌 그런 사명감 가지다 말 인가\n"
          ]
        }
      ]
    },
    {
      "cell_type": "code",
      "metadata": {
        "id": "cMalKM_2kgBB",
        "colab": {
          "base_uri": "https://localhost:8080/"
        },
        "outputId": "89b2718e-8844-4094-de7c-ddbff128970f"
      },
      "source": [
        "# Data Padding\n",
        "data = pad_sequences(data, maxlen=maxlen) \n",
        "\n",
        "print('data:', data)\n",
        "print('data 0:', data[0])\n",
        "print('data 0의 길이:', len(data[0]))"
      ],
      "execution_count": 13,
      "outputs": [
        {
          "output_type": "stream",
          "name": "stdout",
          "text": [
            "data: [[  0   0   0 ... 172  15 173]\n",
            " [  0   0   0 ...   6   7   1]\n",
            " [  0   0   0 ... 177 178  82]\n",
            " ...\n",
            " [ 26  47 654 ...   2  23 666]\n",
            " [  0   0   0 ...  46 169   1]\n",
            " [  0   0   0 ...   5  33 107]]\n",
            "data 0: [  0   0   0   0   0   0   0   0   0   0   0   0   0   0 170  81 171 172\n",
            "  15 173]\n",
            "data 0의 길이: 20\n"
          ]
        }
      ]
    },
    {
      "cell_type": "code",
      "metadata": {
        "id": "EKUPY3MAktw6",
        "colab": {
          "base_uri": "https://localhost:8080/"
        },
        "outputId": "a275584c-e997-4db7-dda0-b79b71252b82"
      },
      "source": [
        "print(type(train_data_text))\n",
        "print(type(data))\n",
        "print(data.shape)"
      ],
      "execution_count": 14,
      "outputs": [
        {
          "output_type": "stream",
          "name": "stdout",
          "text": [
            "<class 'list'>\n",
            "<class 'numpy.ndarray'>\n",
            "(123, 20)\n"
          ]
        }
      ]
    },
    {
      "cell_type": "code",
      "metadata": {
        "id": "7TgrHsnOk-1l"
      },
      "source": [
        "# One-Hot-Encoding\n",
        "def to_one_hot(sequences, dimension):\n",
        "  results = np.zeros((len(sequences), dimension))\n",
        "  for i, sequence in enumerate(sequences):\n",
        "    results[i, sequence] = 1.\n",
        "  return results\n",
        "\n",
        "\n",
        "data = to_one_hot(data, dimension=max_words) \n",
        "labels = np.asarray(train_data_senti).astype('float32')   "
      ],
      "execution_count": 15,
      "outputs": []
    },
    {
      "cell_type": "code",
      "metadata": {
        "id": "hqO_HNopla2h",
        "colab": {
          "base_uri": "https://localhost:8080/"
        },
        "outputId": "98025372-3f54-4742-8cf1-4bfa3d871189"
      },
      "source": [
        "# One-Hot-Encoding 결과 확인\n",
        "print('data:', data)\n",
        "print(len(data[0]))\t\t\t\t\t       # dimension=10000으로 했으므로 각 행은 10,000개를 가지고 있다\n",
        "print('data [0][0:100]:', data[0][0:100])"
      ],
      "execution_count": 16,
      "outputs": [
        {
          "output_type": "stream",
          "name": "stdout",
          "text": [
            "data: [[1. 0. 0. ... 0. 0. 0.]\n",
            " [1. 1. 0. ... 0. 0. 0.]\n",
            " [1. 0. 0. ... 0. 0. 0.]\n",
            " ...\n",
            " [0. 0. 1. ... 0. 0. 0.]\n",
            " [1. 1. 0. ... 0. 0. 0.]\n",
            " [1. 0. 0. ... 0. 0. 0.]]\n",
            "10000\n",
            "data [0][0:100]: [1. 0. 0. 0. 0. 0. 0. 0. 0. 0. 0. 0. 0. 0. 0. 1. 0. 0. 0. 0. 0. 0. 0. 0.\n",
            " 0. 0. 0. 0. 0. 0. 0. 0. 0. 0. 0. 0. 0. 0. 0. 0. 0. 0. 0. 0. 0. 0. 0. 0.\n",
            " 0. 0. 0. 0. 0. 0. 0. 0. 0. 0. 0. 0. 0. 0. 0. 0. 0. 0. 0. 0. 0. 0. 0. 0.\n",
            " 0. 0. 0. 0. 0. 0. 0. 0. 0. 1. 0. 0. 0. 0. 0. 0. 0. 0. 0. 0. 0. 0. 0. 0.\n",
            " 0. 0. 0. 0.]\n"
          ]
        }
      ]
    },
    {
      "cell_type": "code",
      "metadata": {
        "id": "WNRIDrN3lefB",
        "colab": {
          "base_uri": "https://localhost:8080/"
        },
        "outputId": "90a277d2-a095-44d1-d06a-79505bbe7d3f"
      },
      "source": [
        "print(type(train_data_text))\n",
        "print(type(data))\n",
        "print(data.shape)\n",
        "\n",
        "print('데이터 텐서의 차원:', data.ndim)\n",
        "print('레이블 텐서의 차원:', labels.ndim)\n",
        "\n",
        "print('데이터 텐서의 크기:', data.shape)  \t\t# (74084, 10000)\n",
        "print('레이블 텐서의 크기:', labels.shape) \t\t# (74084,)"
      ],
      "execution_count": 17,
      "outputs": [
        {
          "output_type": "stream",
          "name": "stdout",
          "text": [
            "<class 'list'>\n",
            "<class 'numpy.ndarray'>\n",
            "(123, 10000)\n",
            "데이터 텐서의 차원: 2\n",
            "레이블 텐서의 차원: 1\n",
            "데이터 텐서의 크기: (123, 10000)\n",
            "레이블 텐서의 크기: (123,)\n"
          ]
        }
      ]
    },
    {
      "cell_type": "code",
      "source": [
        "validation_ratio = 0.3                          # 30%는 검증데이터로 사용한다. 나머지는 훈련데이터\n",
        "validation_len = math.floor(len(train_data_text) * validation_ratio)    \t\n",
        "\n",
        "x_train = data[validation_len:]                 # 훈련데이터의 70%는 훈련데이터\n",
        "y_train = labels[validation_len:]               # 훈련데이터의 70%는 훈련데이터 Label\n",
        "x_val = data[:validation_len]                   # 훈련데이터의 30%는 검증데이터\n",
        "y_val = labels[:validation_len]                 # 훈련데이터의 30%는 검증데이터 Label"
      ],
      "metadata": {
        "id": "MoX1ElrtViLm"
      },
      "execution_count": 18,
      "outputs": []
    },
    {
      "cell_type": "code",
      "metadata": {
        "id": "LkVY6vuKoWBN",
        "colab": {
          "base_uri": "https://localhost:8080/"
        },
        "outputId": "0a96df9c-9db4-40c4-9039-e441f7b0eb2e"
      },
      "source": [
        "# 모델 정의하기\n",
        "from keras.models import Sequential\n",
        "from keras.layers import Dense\n",
        "\n",
        "model = Sequential()                                              # 모델을 새로 정의\n",
        "\n",
        "model.add(Dense(64, activation='relu', input_shape=(max_words,)))\t# 첫 번째 은닉층\n",
        "model.add(Dense(32, activation='relu'))                           # 두 번째 은닉층\n",
        "model.add(Dense(1, activation='sigmoid'))                 \t\t    # 출력층\n",
        "\n",
        "# 모델 요약 출력\n",
        "model.summary()"
      ],
      "execution_count": 19,
      "outputs": [
        {
          "output_type": "stream",
          "name": "stdout",
          "text": [
            "Model: \"sequential\"\n",
            "_________________________________________________________________\n",
            " Layer (type)                Output Shape              Param #   \n",
            "=================================================================\n",
            " dense (Dense)               (None, 64)                640064    \n",
            "                                                                 \n",
            " dense_1 (Dense)             (None, 32)                2080      \n",
            "                                                                 \n",
            " dense_2 (Dense)             (None, 1)                 33        \n",
            "                                                                 \n",
            "=================================================================\n",
            "Total params: 642,177\n",
            "Trainable params: 642,177\n",
            "Non-trainable params: 0\n",
            "_________________________________________________________________\n"
          ]
        }
      ]
    },
    {
      "cell_type": "code",
      "metadata": {
        "id": "4nB_uyNYoeT6",
        "colab": {
          "base_uri": "https://localhost:8080/"
        },
        "outputId": "9b03c67f-80b2-48e4-8993-0aab1b3461c5"
      },
      "source": [
        "# Compile & Train Model\n",
        "# 모델 컴파일\n",
        "# 가중치 업데이트 방법은 RMSprop을 사용하였다. 이동평균의 방법을 도입하여 조절해간다\n",
        "# 신경망의 출력이 확률이므로 crossentropy를 사용하는 것이 최선이다\n",
        "# crossentropy는 원본의 확률 분포와 예측의 확률 분포를 측정하여 조절해 간다\n",
        "# 또한 이진 분류이므로 binary_crossentropy를 사용한다\n",
        "model.compile(optimizer='rmsprop', loss='binary_crossentropy', metrics=['acc'])\n",
        "\n",
        "# 모델 훈련\n",
        "# 32개씩 미니 배치를 만들어 5번의 epoch로 훈련한다. 보통 32개에서 시작하여 512개까지 중에서 찾는다\n",
        "# 훈련 데이터로 훈련하고, 검증 데이터로 검증한다 \n",
        "# 반환값의 history는 훈련하는 동안 발생한 모든 정보를 담고 있는 딕셔너리이다\n",
        "history = model.fit(x_train, y_train, epochs=5, batch_size=32, validation_data=(x_val, y_val))\n",
        "history_dict = history.history"
      ],
      "execution_count": 20,
      "outputs": [
        {
          "output_type": "stream",
          "name": "stdout",
          "text": [
            "Epoch 1/5\n",
            "3/3 [==============================] - 1s 124ms/step - loss: 0.6947 - acc: 0.4713 - val_loss: 0.6930 - val_acc: 0.4167\n",
            "Epoch 2/5\n",
            "3/3 [==============================] - 0s 35ms/step - loss: 0.6640 - acc: 0.9885 - val_loss: 0.6930 - val_acc: 0.4444\n",
            "Epoch 3/5\n",
            "3/3 [==============================] - 0s 24ms/step - loss: 0.6361 - acc: 0.9885 - val_loss: 0.6912 - val_acc: 0.5000\n",
            "Epoch 4/5\n",
            "3/3 [==============================] - 0s 27ms/step - loss: 0.6033 - acc: 0.9885 - val_loss: 0.6903 - val_acc: 0.5278\n",
            "Epoch 5/5\n",
            "3/3 [==============================] - 0s 47ms/step - loss: 0.5673 - acc: 0.9885 - val_loss: 0.6899 - val_acc: 0.5000\n"
          ]
        }
      ]
    },
    {
      "cell_type": "code",
      "metadata": {
        "id": "DAnj2wwdolwP",
        "colab": {
          "base_uri": "https://localhost:8080/"
        },
        "outputId": "1d675545-c441-4aa0-ec16-217530507ff6"
      },
      "source": [
        "# 경로 변경\n",
        "%cd /content/gdrive/My Drive/pytest/"
      ],
      "execution_count": 21,
      "outputs": [
        {
          "output_type": "stream",
          "name": "stdout",
          "text": [
            "/content/gdrive/My Drive/pytest\n"
          ]
        }
      ]
    },
    {
      "cell_type": "code",
      "metadata": {
        "id": "-UA28Ye3on61"
      },
      "source": [
        "# Save Model\n",
        "# multidimensional numpy arrays를 저장할 수 있는 h5 file(HDF) 포맷으로 저장한다\n",
        "model.save('text_binary_model.h5')\n",
        "\n",
        "\n",
        "# 훈련데이터에서 사용된 상위빈도 10,000개의 단어로 된 Tokenizer 저장\n",
        "# 새로 입력되는 문장에서도 같은 단어가 추출되게 한다\n",
        "import pickle\n",
        "with open('text_binary_tokenizer.pickle', 'wb') as handle:\n",
        "  pickle.dump(tokenizer, handle, protocol=pickle.HIGHEST_PROTOCOL)"
      ],
      "execution_count": 22,
      "outputs": []
    },
    {
      "cell_type": "code",
      "metadata": {
        "id": "h319zIhwosXt",
        "colab": {
          "base_uri": "https://localhost:8080/"
        },
        "outputId": "578290b2-0f2b-460c-c4f9-49a2b0ab98f1"
      },
      "source": [
        "# Accuracy & Loss 확인\n",
        "# history 딕셔너리 안에 있는 정확도와 손실값을 가져와 본다\n",
        "\n",
        "acc = history.history['acc']\n",
        "val_acc = history.history['val_acc']\n",
        "loss = history.history['loss']\n",
        "val_loss = history.history['val_loss']\n",
        "\n",
        "print('Train accuracy of each epoch:', np.round(acc, 3))\n",
        "print('Validation accuracy of each epoch:', np.round(val_acc, 3))"
      ],
      "execution_count": 23,
      "outputs": [
        {
          "output_type": "stream",
          "name": "stdout",
          "text": [
            "Train accuracy of each epoch: [0.471 0.989 0.989 0.989 0.989]\n",
            "Validation accuracy of each epoch: [0.417 0.444 0.5   0.528 0.5  ]\n"
          ]
        }
      ]
    },
    {
      "cell_type": "code",
      "metadata": {
        "id": "GHhfFxBioxOs",
        "colab": {
          "base_uri": "https://localhost:8080/",
          "height": 299
        },
        "outputId": "7a775aa7-4991-4f25-eecc-fbcfd02ab6a1"
      },
      "source": [
        "# Plotting Accuracy\n",
        "import matplotlib.pyplot as plt\n",
        "\n",
        "# 훈련데이터의 정확도에 비해 검증데이터의 정확도는 낮게 나타난다\n",
        "# epoch가 높아지면 모델은 훈련데이터에 매우 민감해져 오히려 새로운 데이터를 잘 못 맞춘다\n",
        "epochs = range(1, len(acc) +1)\n",
        "print(epochs)\n",
        "\n",
        "plt.plot(epochs, acc, 'bo', label='Training Acc')\n",
        "plt.plot(epochs, val_acc, 'b', label='Validation Acc')\n",
        "plt.title('Training and validation accuracy')\n",
        "plt.legend()\n",
        "\n",
        "plt.show()"
      ],
      "execution_count": 24,
      "outputs": [
        {
          "output_type": "stream",
          "name": "stdout",
          "text": [
            "range(1, 6)\n"
          ]
        },
        {
          "output_type": "display_data",
          "data": {
            "text/plain": [
              "<Figure size 432x288 with 1 Axes>"
            ],
            "image/png": "[encoded data removed]"
          },
          "metadata": {
            "needs_background": "light"
          }
        }
      ]
    },
    {
      "cell_type": "code",
      "metadata": {
        "id": "3Yl6fiHbo0UL",
        "colab": {
          "base_uri": "https://localhost:8080/",
          "height": 281
        },
        "outputId": "e4ef8a4a-8d99-4a1b-875f-fe1b16576509"
      },
      "source": [
        "# Plotting Loss\n",
        "plt.figure()    # 새로운 그림을 그린다\n",
        "\n",
        "# 훈련데이터의 손실값은 낮아지나, 검증데이터의 손실값은 높아진다\n",
        "# 손실값은 오류값을 말한다. 예측과 정답의 차이를 거리 계산으로 구한 값이다\n",
        "plt.plot(epochs, loss, 'bo', label='Training Loss')\n",
        "plt.plot(epochs, val_loss, 'b', label='Validation Loss')\n",
        "plt.title('Training and validation loss')\n",
        "plt.legend()\n",
        "\n",
        "plt.show()"
      ],
      "execution_count": 25,
      "outputs": [
        {
          "output_type": "display_data",
          "data": {
            "text/plain": [
              "<Figure size 432x288 with 1 Axes>"
            ],
            "image/png": "[encoded data removed]"
          },
          "metadata": {
            "needs_background": "light"
          }
        }
      ]
    },
    {
      "cell_type": "code",
      "metadata": {
        "id": "ry0lGYYwo3Mr",
        "colab": {
          "base_uri": "https://localhost:8080/"
        },
        "outputId": "c672ad93-1caa-446a-8682-654eb3a4ae72"
      },
      "source": [
        "# Load Model\n",
        "import os\n",
        "from keras.models import load_model\n",
        "\n",
        "filepath = '/content/gdrive/My Drive/pytest/'\n",
        "os.chdir(filepath)\n",
        "print(\"Current Directory:\", os.getcwd())\n",
        "\n",
        "loaded_model = load_model('text_binary_model.h5')\n",
        "print(\"model loaded:\", loaded_model)\n",
        "\n",
        "with open('text_binary_tokenizer.pickle', 'rb') as handle:\n",
        "  loaded_tokenizer = pickle.load(handle)"
      ],
      "execution_count": 26,
      "outputs": [
        {
          "output_type": "stream",
          "name": "stdout",
          "text": [
            "Current Directory: /content/gdrive/My Drive/pytest\n",
            "model loaded: <keras.engine.sequential.Sequential object at 0x7f84c3f708d0>\n"
          ]
        }
      ]
    },
    {
      "cell_type": "code",
      "metadata": {
        "id": "TgBDww1Yo5Up",
        "colab": {
          "base_uri": "https://localhost:8080/"
        },
        "outputId": "868ca628-fa75-4b58-8d3e-cdcf4988e8c6"
      },
      "source": [
        "# 테스트데이터 재확인\n",
        "print(test_data_text)\n",
        "print(test_data_senti)"
      ],
      "execution_count": 27,
      "outputs": [
        {
          "output_type": "stream",
          "name": "stdout",
          "text": [
            "['방법 컨텐츠 모두 와 닿다 연출 각본 결국 감독 문제', '잔잔하다 재미 좋다', '흐흐흐 망하다 망하다', '영상미 보다 재미 있다 대사 거의 없다 심심하다 영화', '재미없다 억지', '아름답다 영화 두다 두다 간직하다 영화 소중한 사람 함께 보다', '아 진짜 너무 오다 글 못 보다 정도', '남자 라 그렇다 겁나다 긴장감 있다 흥미진진하다 ㄷㄷ 그렇다 워낙 격투 씬 좋아하다 ㅋㅋㅋ 그냥 생각 없다 집 스마트 티비 보다 재미있다 보다 무슨 영화 모르다 암살 나오다 이정재 걍 보다 ㅋㅋ 하여튼 너무 재미있다', '저 정말 너무 애정하다 드리다 이야기 정말 그 어떤 멜로 드라마 보다 아름답다 잊다 수 없다 정말 최영 장군 이민호 이민 호 나오다 드라마 최고 생각하다', '누다 잇다 감독 영화 정말 재미있다 진짜 보통 전쟁 영화 감독 특유 연출력 돋다 보이다 감동 원작 그렇다 스토리 굉장히 탄탄하다 강추', '정 극 도무지 어울리다 조니뎁 혁신 클래식하다 촬영기 법 거울 통하다 다중 인격 연출 킬링타임 적절하다 추가 조니뎁 정 극 하다 말다', '완전 감동 다시다 감동', '각본 인터넷 찌라시 수준 연기 허 접다 배우다 얼굴 부담', '로빈 윌리암스 주연 영화 들다 다 좋아하다 정말 최악', '잼 잼 잼 잼', '제하다', '말 필요 없다 감독 배우 존경하다', '배우다 들다 참 좋다 연기 송중 기다 나오다 억지로 꾸역꾸역 포기하다 결말 상하다', '전개 일단 원작 비하다 생략 많다 권투 씬 졸리다 잠 오다', '친구 우정 매우 감동', '나치 입장 보다 영화 갑자기 연속 나오다 무슨', '싣다 영화 보다 모르다', '진짜 재미없다 보다 말다 하다 본 다 멍청하다', '탱고 음악 감동 밀려오다', '영상 존재하다 죽기 전 꼭 한번 보다 아름답다 슬프다 제니퍼 코넬리 눈부시다 아역 시절 로버트 드니로 마지막 웃다 장면 정말 가슴속 영원히 기억되다 최고 명작', '일본 영화 참 많이 보다 끝 못 보다 영화 이것다 처음 유일하다', '쓰다 레 기', '실화 더욱 충격 다시 일어나다 서다 안되다 경각심 일깨우다 영화', '이런 드라마 많이 나오다 좋다 생각하다 많다 영상미 아름답다 캐릭터 다 매력 여러 가지다 다 매력 드라마', '너무 질질 끌다 짜증 그동안 있다 복수 정도 너무 허 접하다 천천히 목 가짜 임신부 차차 무너뜨리다 너무 질질 끌다 짜증 요', '학생 들다 위하다 역사 교제 활용하다 부족하다', '딱다 한마디 만하다 최고', '단순하다 스토리지 만 진지다 함 엿보이다 좋다', '영화 왜 만 들다 집 핸드폰 으 동영상 찍다', '만들다', '모든 청춘 다 이렇다 여교사 역 대단하다 미스 캐스팅', '영화 보다 안치환 꿈 방향 묻다 노래 제목 생각나다', '존 그렇게 하다 샴 작품 한 보다 가치', '정말 재미있다 권력 친구 의리 없다 역사 사실 훌륭하다 깨우치다', '완전 재미있다 훈 남다 쉐 보다 구 요리 도배 우고', '잔잔하다 배경 음악 틀 휴식하다 때 늦다 밤 켜다 영화']\n",
            "['0', '1', '0', '0', '0', '1', '0', '1', '1', '1', '0', '1', '0', '0', '1', '0', '1', '0', '0', '1', '0', '0', '0', '1', '1', '0', '0', '1', '1', '0', '0', '1', '1', '0', '1', '0', '1', '1', '1', '1', '1']\n"
          ]
        }
      ]
    },
    {
      "cell_type": "code",
      "metadata": {
        "id": "U40hdUeAphKS"
      },
      "source": [
        "# Data Sequencing\n",
        "# 문자열을 word_index의 숫자 리스트로 변환\n",
        "data = loaded_tokenizer.texts_to_sequences(test_data_text)\n",
        "\n",
        "# padding으로 문자열의 길이를 고정시킨다\n",
        "data = pad_sequences(data, maxlen=maxlen) \n",
        "\n",
        "# test 데이터를 원-핫 인코딩한다\n",
        "x_test = to_one_hot(data, dimension=max_words)\n",
        "\n",
        "# test_data_senti를 list에서 넘파이 배열로 변환\n",
        "y_test = np.asarray(test_data_senti).astype('float32') "
      ],
      "execution_count": 28,
      "outputs": []
    },
    {
      "cell_type": "code",
      "metadata": {
        "id": "U0ds-_LwqMKl",
        "colab": {
          "base_uri": "https://localhost:8080/"
        },
        "outputId": "8a358588-4ad1-42c8-fae1-f715dae11401"
      },
      "source": [
        "# Test Data Evaluation\n",
        "test_eval = loaded_model.evaluate(x_test, y_test)\t  # 모델에 분류할 데이터와 그 정답을 같이 넣어준다\n",
        "print('prediction model loss & acc:', test_eval)\t\t# 모델이 분류한 결과와 입력된 정답을 비교한 결과"
      ],
      "execution_count": 29,
      "outputs": [
        {
          "output_type": "stream",
          "name": "stdout",
          "text": [
            "2/2 [==============================] - 0s 7ms/step - loss: 0.6717 - acc: 0.6098\n",
            "prediction model loss & acc: [0.6716979146003723, 0.6097561120986938]\n"
          ]
        }
      ]
    },
    {
      "cell_type": "code",
      "metadata": {
        "id": "IJKwNmSCwJZV",
        "colab": {
          "base_uri": "https://localhost:8080/"
        },
        "outputId": "a8d74249-d7a1-43be-9699-6e5a0a70eea6"
      },
      "source": [
        "# 1개 데이터 예측\n",
        "# 형태소분석을 포함하여 이제까지의 과정을 모두 진행해주어야 한다\n",
        "\n",
        "text = [\"재미있게 잘 봤습니다\"]      # 데이터를 list 타입으로 만든다\n",
        "\n",
        "import rhinoMorph\n",
        "rn = rhinoMorph.startRhino()                         \t\t\n",
        "\n",
        "# 리스트 컴프리헨션으로 실질형태소만을 리스트로 가져온다\n",
        "text=[rhinoMorph.onlyMorph_list(rn, sentence, pos=['NNG', 'NNP', 'NP', 'VV', 'VA', 'XR', 'IC', 'MM', 'MAG', 'MAJ'], eomi=False) for sentence in text]\n",
        "print('형태소 분석 결과:', text)\n",
        "\n",
        "data = loaded_tokenizer.texts_to_sequences(text)\n",
        "data = pad_sequences(data, maxlen=maxlen)\n",
        "x_test = to_one_hot(data, dimension=max_words)\n",
        "\n",
        "prediction = loaded_model.predict(x_test)\n",
        "print(\"Result:\", prediction)\t\t\t\t\t       # [[0.9472448]]. 1(긍정)일 확률이 95%"
      ],
      "execution_count": 30,
      "outputs": [
        {
          "output_type": "stream",
          "name": "stdout",
          "text": [
            "filepath:  /usr/local/lib/python3.7/dist-packages\n",
            "classpath:  /usr/local/lib/python3.7/dist-packages/rhinoMorph/lib/rhino.jar\n",
            "RHINO started!\n",
            "형태소 분석 결과: [['재미있', '잘', '보']]\n",
            "Result: [[0.53751]]\n"
          ]
        }
      ]
    }
  ]
}