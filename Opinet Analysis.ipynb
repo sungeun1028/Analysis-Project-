{
 "cells": [
  {
   "cell_type": "markdown",
   "metadata": {},
   "source": [
    "# 셀프 주유소는 정말 저렴할까 ?"
   ]
  },
  {
   "cell_type": "markdown",
   "metadata": {},
   "source": [
    "> 셀프 주유소는 정말 저렴한가? \n",
    "* 의견, 가설, 사실을 데이터로 표현하고 검증하는 것도 데이터 분석가가 하는 일 \n",
    "* 주유소/ 충전소 찾기 \n",
    "* 지역 정보 선택 * 조회 버튼 누름 "
   ]
  },
  {
   "cell_type": "markdown",
   "metadata": {},
   "source": [
    "![img](images/Opinet.JPG)"
   ]
  },
  {
   "cell_type": "markdown",
   "metadata": {},
   "source": [
    "## Selenium 사용하기 - Naver "
   ]
  },
  {
   "cell_type": "markdown",
   "metadata": {},
   "source": [
    "> 4-1 Selenium 사용하기 \n",
    "* <code> from selenium import webdriver </code>\n",
    "* Folder : \"C:/Users/Sung/Downloads/chromedriver.exe\n",
    "\n",
    "> 참고사항 \n",
    "* Tab 누르면 자동완성 (not space bar) "
   ]
  },
  {
   "cell_type": "code",
   "execution_count": 13,
   "metadata": {
    "ExecuteTime": {
     "end_time": "2020-10-04T06:40:55.944153Z",
     "start_time": "2020-10-04T06:40:51.093584Z"
    }
   },
   "outputs": [],
   "source": [
    "from selenium import webdriver\n",
    "driver = webdriver.Chrome(\"C:/Users/Sung/Downloads/chromedriver.exe\")\n",
    "driver.get(\"http://naver.com\") # 네이버 접속  \n",
    "\n",
    "# save_screenshot 화면 캡처, 경로에서 사용한 images 폴더는 미리 만들어둬야 함 \n",
    "driver.save_screenshot(\"C:/Users/Sung/Downloads/images/001.jpg\") \n",
    "\n",
    "login = driver.find_element_by_css_selector ('#account > a')\n",
    "login.click()"
   ]
  },
  {
   "cell_type": "code",
   "execution_count": 14,
   "metadata": {
    "ExecuteTime": {
     "end_time": "2020-10-04T06:41:00.029694Z",
     "start_time": "2020-10-04T06:40:59.878357Z"
    }
   },
   "outputs": [],
   "source": [
    "# Naver 로그인 \n",
    "naver_id = driver.find_element_by_id(\"id\")\n",
    "naver_id.clear() # 입력창의 정보 지움 \n",
    "naver_id.send_keys(\"id\") # id input \n",
    "\n",
    "naver_pwd = driver.find_element_by_id(\"pw\")\n",
    "naver_pwd.clear()\n",
    "naver_pwd.send_keys(\"password\")\n",
    "\n",
    "enter = \"\"\"//*[@id=\"log.login\"]\"\"\" # Xpath , 우리가 접근해야 할 로그인 버튼의 위치 \n",
    "driver.find_element_by_xpath(enter).click() # 로그인 버튼의 위치 알고, 클릭 "
   ]
  },
  {
   "cell_type": "code",
   "execution_count": 16,
   "metadata": {
    "ExecuteTime": {
     "end_time": "2020-10-04T06:42:47.356319Z",
     "start_time": "2020-10-04T06:42:46.631804Z"
    }
   },
   "outputs": [],
   "source": [
    "# Naver Mail에 접속 \n",
    "driver.get(\"http://mail.naver.com\")"
   ]
  },
  {
   "cell_type": "code",
   "execution_count": 18,
   "metadata": {
    "ExecuteTime": {
     "end_time": "2020-10-04T06:43:35.376190Z",
     "start_time": "2020-10-04T06:43:32.907613Z"
    }
   },
   "outputs": [],
   "source": [
    "# Naver Mail 페이지 내용 읽어옴 \n",
    "from bs4 import BeautifulSoup\n",
    "\n",
    "html = driver.page_source # selenium 이 접근한 페이지 소스를 받을 수 있ㅇ므 \n",
    "soup = BeautifulSoup(html, \"html.parser\")"
   ]
  },
  {
   "cell_type": "code",
   "execution_count": 24,
   "metadata": {
    "ExecuteTime": {
     "end_time": "2020-10-04T06:50:11.989849Z",
     "start_time": "2020-10-04T06:50:11.915393Z"
    },
    "scrolled": true
   },
   "outputs": [
    {
     "data": {
      "text/plain": [
       "[<div class=\"name _ccr(lst.from)\"><span class=\"blind\">보낸 이:</span><a class=\"_c1(myContextMenu|showSenderContextLayer|list|41571) _stopDefault\" href=\"#\" title='\"쿠팡\" &lt;no_reply@coupang.com&gt;'>쿠팡</a></div>,\n",
       " <div class=\"name _ccr(lst.from)\"><span class=\"blind\">보낸 이:</span><a class=\"_c1(myContextMenu|showSenderContextLayer|list|41570) _stopDefault\" href=\"#\" title='\"mgram\" &lt;noreply@mgram.me&gt;'>mgram</a></div>,\n",
       " <div class=\"name _ccr(lst.from)\"><span class=\"blind\">보낸 이:</span><a class=\"_c1(myContextMenu|showSenderContextLayer|list|41569) _stopDefault\" href=\"#\" title='\"리디북스\" &lt;noreply@ridibooks.com&gt;'>리디북스</a></div>,\n",
       " <div class=\"name _ccr(lst.from)\"><span class=\"blind\">보낸 이:</span><a class=\"_c1(myContextMenu|showSenderContextLayer|list|41568) _stopDefault\" href=\"#\" title='\"토스 전자결제\" &lt;bill@tosspayments.com&gt;'>토스 전자결제</a></div>,\n",
       " <div class=\"name _ccr(lst.from)\"><span class=\"blind\">보낸 이:</span><a class=\"_c1(myContextMenu|showSenderContextLayer|list|41567) _stopDefault\" href=\"#\" title='\"HoneyColor\" &lt;no-reply@honeycolor.com&gt;'>HoneyColor</a></div>,\n",
       " <div class=\"name _ccr(lst.from)\"><span class=\"blind\">보낸 이:</span><a class=\"_c1(myContextMenu|showSenderContextLayer|list|41566) _stopDefault\" href=\"#\" title='\"쿠팡\" &lt;no_reply@e.coupang.com&gt;'>쿠팡</a></div>,\n",
       " <div class=\"name _ccr(lst.from)\"><span class=\"blind\">보낸 이:</span><a class=\"_c1(myContextMenu|showSenderContextLayer|list|41565) _stopDefault\" href=\"#\" title='\"링커리어\" &lt;linkareer_cs@specupad.com&gt;'>링커리어</a></div>,\n",
       " <div class=\"name _ccr(lst.from)\"><span class=\"blind\">보낸 이:</span><a class=\"_c1(myContextMenu|showSenderContextLayer|list|41564) _stopDefault\" href=\"#\" title='\"사람인 | 기업연구소\" &lt;favorcompany@mailinfo.saramin.co.kr&gt;'>사람인 | 기업연구소</a></div>,\n",
       " <div class=\"name _ccr(lst.from)\"><span class=\"blind\">보낸 이:</span><a class=\"_c1(myContextMenu|showSenderContextLayer|list|41563) _stopDefault\" href=\"#\" title='\"Evernote\" &lt;no-reply@account.evernote.com&gt;'>Evernote</a></div>,\n",
       " <div class=\"name _ccr(lst.from)\"><span class=\"blind\">보낸 이:</span><a class=\"_c1(myContextMenu|showSenderContextLayer|list|41562) _stopDefault\" href=\"#\" title='\"YuriGagarine\" &lt;notifications@github.com&gt;'>YuriGagarine</a></div>,\n",
       " <div class=\"name _ccr(lst.from)\"><span class=\"blind\">보낸 이:</span><a class=\"_c1(myContextMenu|showSenderContextLayer|list|41561) _stopDefault\" href=\"#\" title='\"YuriGagarine\" &lt;notifications@github.com&gt;'>YuriGagarine</a></div>,\n",
       " <div class=\"name _ccr(lst.from)\"><span class=\"blind\">보낸 이:</span><a class=\"_c1(myContextMenu|showSenderContextLayer|list|41560) _stopDefault\" href=\"#\" title='\"YuriGagarine\" &lt;notifications@github.com&gt;'>YuriGagarine</a></div>,\n",
       " <div class=\"name _ccr(lst.from)\"><span class=\"blind\">보낸 이:</span><a class=\"_c1(myContextMenu|showSenderContextLayer|list|41559) _stopDefault\" href=\"#\" title='\"NYC Events\" &lt;info@getultimatepower.com&gt;'>NYC Events</a></div>,\n",
       " <div class=\"name _ccr(lst.from)\"><span class=\"blind\">보낸 이:</span><a class=\"_c1(myContextMenu|showSenderContextLayer|list|41558) _stopDefault\" href=\"#\" title='\"FashionNova\" &lt;donotreply@fashionnova.com&gt;'>FashionNova</a></div>,\n",
       " <div class=\"name _ccr(lst.from)\"><span class=\"blind\">보낸 이:</span><a class=\"_c1(myContextMenu|showSenderContextLayer|list|41556) _stopDefault\" href=\"#\" title='\"한국정보통신 KICC\" &lt;easypay_noreturn@kicc.co.kr&gt;'>한국정보통신 KICC</a></div>,\n",
       " <div class=\"name _ccr(lst.from)\"><span class=\"blind\">보낸 이:</span><a class=\"_c1(myContextMenu|showSenderContextLayer|list|41555) _stopDefault\" href=\"#\" title='\"Michael Kors\" &lt;MichaelKors@michaelkorsmail.com&gt;'>Michael Kors</a></div>,\n",
       " <div class=\"name _ccr(lst.from)\"><span class=\"blind\">보낸 이:</span><a class=\"_c1(myContextMenu|showSenderContextLayer|list|41553) _stopDefault\" href=\"#\" title='\"Glassdoor\" &lt;noreply@glassdoor.com&gt;'>Glassdoor</a></div>,\n",
       " <div class=\"name _ccr(lst.from)\"><span class=\"blind\">보낸 이:</span><a class=\"_c1(myContextMenu|showSenderContextLayer|list|41552) _stopDefault\" href=\"#\" title='\"Praful932\" &lt;notifications@github.com&gt;'>Praful932</a></div>,\n",
       " <div class=\"name _ccr(lst.from)\"><span class=\"blind\">보낸 이:</span><a class=\"_c1(myContextMenu|showSenderContextLayer|list|41551) _stopDefault\" href=\"#\" title='\"Ayush Gupta\" &lt;notifications@github.com&gt;'>Ayush Gupta</a></div>,\n",
       " <div class=\"name _ccr(lst.from)\"><span class=\"blind\">보낸 이:</span><a class=\"_c1(myContextMenu|showSenderContextLayer|list|41550) _stopDefault\" href=\"#\" title='\"잡코리아 | 스마트매치\" &lt;smartmatch@jobkorea.co.kr&gt;'>잡코리아 | 스마트매..</a></div>,\n",
       " <div class=\"name _ccr(lst.from)\"><span class=\"blind\">보낸 이:</span><a class=\"_c1(myContextMenu|showSenderContextLayer|list|41547) _stopDefault\" href=\"#\" title='\"BBQ멤버십서비스\" &lt;membership@bbq.co.kr&gt;'>BBQ멤버십서비스</a></div>,\n",
       " <div class=\"name _ccr(lst.from)\"><span class=\"blind\">보낸 이:</span><a class=\"_c1(myContextMenu|showSenderContextLayer|list|41546) _stopDefault\" href=\"#\" title='\"쿠팡\" &lt;no_reply@e.coupang.com&gt;'>쿠팡</a></div>,\n",
       " <div class=\"name _ccr(lst.from)\"><span class=\"blind\">보낸 이:</span><a class=\"_c1(myContextMenu|showSenderContextLayer|list|41545) _stopDefault\" href=\"#\" title='\"Investing.com\" &lt;no-reply@forexprosmail.com&gt;'>Investing.com</a></div>,\n",
       " <div class=\"name _ccr(lst.from)\"><span class=\"blind\">보낸 이:</span><a class=\"_c1(myContextMenu|showSenderContextLayer|list|41543) _stopDefault\" href=\"#\" title='\"d5423197\" &lt;notifications@github.com&gt;'>d5423197</a></div>,\n",
       " <div class=\"name _ccr(lst.from)\"><span class=\"blind\">보낸 이:</span><a class=\"_c1(myContextMenu|showSenderContextLayer|list|41542) _stopDefault\" href=\"#\" title='\"One To World\" &lt;alexa@onetoworld.org&gt;'>One To World</a></div>,\n",
       " <div class=\"name _ccr(lst.from)\"><span class=\"blind\">보낸 이:</span><a class=\"_c1(myContextMenu|showSenderContextLayer|list|41541) _stopDefault\" href=\"#\" title='\"d5423197\" &lt;notifications@github.com&gt;'>d5423197</a></div>,\n",
       " <div class=\"name _ccr(lst.from)\"><span class=\"blind\">보낸 이:</span><a class=\"_c1(myContextMenu|showSenderContextLayer|list|41537) _stopDefault\" href=\"#\" title='\"Michael Kors\" &lt;MichaelKors@michaelkorsmail.com&gt;'>Michael Kors</a></div>,\n",
       " <div class=\"name _ccr(lst.from)\"><span class=\"blind\">보낸 이:</span><a class=\"_c1(myContextMenu|showSenderContextLayer|list|41536) _stopDefault\" href=\"#\" title='\"The Epoch Times\" &lt;news@fc1.readepoch.com&gt;'>The Epoch Times</a></div>,\n",
       " <div class=\"name _ccr(lst.from)\"><span class=\"blind\">보낸 이:</span><a class=\"_c1(myContextMenu|showSenderContextLayer|list|41535) _stopDefault\" href=\"#\" title='\"Tumblr\" &lt;no-reply@tumblr.com&gt;'>Tumblr</a></div>,\n",
       " <div class=\"name _ccr(lst.from)\"><span class=\"blind\">보낸 이:</span><a class=\"_c1(myContextMenu|showSenderContextLayer|list|41534) _stopDefault\" href=\"#\" title='\"Praful932\" &lt;notifications@github.com&gt;'>Praful932</a></div>,\n",
       " <div class=\"name _ccr(lst.from)\"><span class=\"blind\">보낸 이:</span><a class=\"_c1(myContextMenu|showSenderContextLayer|list|41533) _stopDefault\" href=\"#\" title='\"잡코리아 | 스마트매치\" &lt;smartmatch@jobkorea.co.kr&gt;'>잡코리아 | 스마트매..</a></div>,\n",
       " <div class=\"name _ccr(lst.from)\"><span class=\"blind\">보낸 이:</span><a class=\"_c1(myContextMenu|showSenderContextLayer|list|41532) _stopDefault\" href=\"#\" title='\"Dseal95\" &lt;notifications@github.com&gt;'>Dseal95</a></div>,\n",
       " <div class=\"name _ccr(lst.from)\"><span class=\"blind\">보낸 이:</span><a class=\"_c1(myContextMenu|showSenderContextLayer|list|41531) _stopDefault\" href=\"#\" title='\"Dseal95\" &lt;notifications@github.com&gt;'>Dseal95</a></div>,\n",
       " <div class=\"name _ccr(lst.from)\"><span class=\"blind\">보낸 이:</span><a class=\"_c1(myContextMenu|showSenderContextLayer|list|41530) _stopDefault\" href=\"#\" title='\"Dseal95\" &lt;notifications@github.com&gt;'>Dseal95</a></div>,\n",
       " <div class=\"name _ccr(lst.from)\"><span class=\"blind\">보낸 이:</span><a class=\"_c1(myContextMenu|showSenderContextLayer|list|41529) _stopDefault\" href=\"#\" title='\"한국정보통신 KICC\" &lt;easypay_noreturn@kicc.co.kr&gt;'>한국정보통신 KICC</a></div>,\n",
       " <div class=\"name _ccr(lst.from)\"><span class=\"blind\">보낸 이:</span><a class=\"_c1(myContextMenu|showSenderContextLayer|list|41527) _stopDefault\" href=\"#\" title='\"쿠팡\" &lt;no_reply@e.coupang.com&gt;'>쿠팡</a></div>,\n",
       " <div class=\"name _ccr(lst.from)\"><span class=\"blind\">보낸 이:</span><a class=\"_c1(myContextMenu|showSenderContextLayer|list|41526) _stopDefault\" href=\"#\" title='\"Instagram\" &lt;no-reply@mail.instagram.com&gt;'>Instagram</a></div>,\n",
       " <div class=\"name _ccr(lst.from)\"><span class=\"blind\">보낸 이:</span><a class=\"_c1(myContextMenu|showSenderContextLayer|list|41525) _stopDefault\" href=\"#\" title='\"사람인 | 기업연구소\" &lt;favorcompany@mailinfo.saramin.co.kr&gt;'>사람인 | 기업연구소</a></div>,\n",
       " <div class=\"name _ccr(lst.from)\"><span class=\"blind\">보낸 이:</span><a class=\"_c1(myContextMenu|showSenderContextLayer|list|41524) _stopDefault\" href=\"#\" title='\"260 Sample Sale\" &lt;nomad@260samplesale.com&gt;'>260 Sample Sale</a></div>,\n",
       " <div class=\"name _ccr(lst.from)\"><span class=\"blind\">보낸 이:</span><a class=\"_c1(myContextMenu|showSenderContextLayer|list|41523) _stopDefault\" href=\"#\" title='\"260 Sample Sale\" &lt;soho@260samplesale.com&gt;'>260 Sample Sale</a></div>,\n",
       " <div class=\"name _ccr(lst.from)\"><span class=\"blind\">보낸 이:</span><a class=\"_c1(myContextMenu|showSenderContextLayer|list|41522) _stopDefault\" href=\"#\" title='\"Glassdoor News\" &lt;info@mail.glassdoor.com&gt;'>Glassdoor News</a></div>,\n",
       " <div class=\"name _ccr(lst.from)\"><span class=\"blind\">보낸 이:</span><a class=\"_c1(myContextMenu|showSenderContextLayer|list|41513) _stopDefault\" href=\"#\" title='\"Michael Kors\" &lt;MichaelKors@michaelkorsmail.com&gt;'>Michael Kors</a></div>,\n",
       " <div class=\"name _ccr(lst.from)\"><span class=\"blind\">보낸 이:</span><a class=\"_c1(myContextMenu|showSenderContextLayer|list|41510) _stopDefault\" href=\"#\" title='\"HoneyColor\" &lt;no-reply@honeycolor.com&gt;'>HoneyColor</a></div>,\n",
       " <div class=\"name _ccr(lst.from)\"><span class=\"blind\">보낸 이:</span><a class=\"_c1(myContextMenu|showSenderContextLayer|list|41509) _stopDefault\" href=\"#\" title='\"잡코리아 | 스마트매치\" &lt;smartmatch@jobkorea.co.kr&gt;'>잡코리아 | 스마트매..</a></div>,\n",
       " <div class=\"name _ccr(lst.from)\"><span class=\"blind\">보낸 이:</span><a class=\"_c1(myContextMenu|showSenderContextLayer|list|41508) _stopDefault\" href=\"#\" title='\"EnglishCentral\" &lt;no-reply@englishcentral.com&gt;'>EnglishCentral</a></div>,\n",
       " <div class=\"name _ccr(lst.from)\"><span class=\"blind\">보낸 이:</span><a class=\"_c1(myContextMenu|showSenderContextLayer|list|41506) _stopDefault\" href=\"#\" title='\"Glassdoor Jobs\" &lt;noreply@glassdoor.com&gt;'>Glassdoor Jobs</a></div>,\n",
       " <div class=\"name _ccr(lst.from)\"><span class=\"blind\">보낸 이:</span><a class=\"_c1(myContextMenu|showSenderContextLayer|list|41505) _stopDefault\" href=\"#\" title='\"쿠팡\" &lt;no_reply@e.coupang.com&gt;'>쿠팡</a></div>,\n",
       " <div class=\"name _ccr(lst.from)\"><span class=\"blind\">보낸 이:</span><a class=\"_c1(myContextMenu|showSenderContextLayer|list|41501) _stopDefault\" href=\"#\" title='\"Investing.com\" &lt;no-reply@forexprosmail.com&gt;'>Investing.com</a></div>,\n",
       " <div class=\"name _ccr(lst.from)\"><span class=\"blind\">보낸 이:</span><a class=\"_c1(myContextMenu|showSenderContextLayer|list|41500) _stopDefault\" href=\"#\" title='\"LinkedIn\" &lt;jobs-noreply@linkedin.com&gt;'>LinkedIn</a></div>,\n",
       " <div class=\"name _ccr(lst.from)\"><span class=\"blind\">보낸 이:</span><a class=\"_c1(myContextMenu|showSenderContextLayer|list|41495) _stopDefault\" href=\"#\" title='\"New York Zipline Adventure Tours\" &lt;info@zipsny.com&gt;'>New York Zipline Adv..</a></div>,\n",
       " <div class=\"name _ccr(lst.from)\"><span class=\"blind\">보낸 이:</span><a class=\"_c1(myContextMenu|showSenderContextLayer|list|41493) _stopDefault\" href=\"#\" title='\"NY Events\" &lt;events@clickmixers.com&gt;'>NY Events</a></div>,\n",
       " <div class=\"name _ccr(lst.from)\"><span class=\"blind\">보낸 이:</span><a class=\"_c1(myContextMenu|showSenderContextLayer|list|41492) _stopDefault\" href=\"#\" title='\"260 Sample Sale\" &lt;soho@260samplesale.com&gt;'>260 Sample Sale</a></div>,\n",
       " <div class=\"name _ccr(lst.from)\"><span class=\"blind\">보낸 이:</span><a class=\"_c1(myContextMenu|showSenderContextLayer|list|41490) _stopDefault\" href=\"#\" title='\"LinkedIn\" &lt;notifications-noreply@linkedin.com&gt;'>LinkedIn</a></div>,\n",
       " <div class=\"name _ccr(lst.from)\"><span class=\"blind\">보낸 이:</span><a class=\"_c1(myContextMenu|showSenderContextLayer|list|41489) _stopDefault\" href=\"#\" title='\"Forever 21\" &lt;Forever21@i.forever21.com&gt;'>Forever 21</a></div>,\n",
       " <div class=\"name _ccr(lst.from)\"><span class=\"blind\">보낸 이:</span><a class=\"_c1(myContextMenu|showSenderContextLayer|list|41483) _stopDefault\" href=\"#\" title='\"링커리어\" &lt;linkareer_cs@specupad.com&gt;'>링커리어</a></div>,\n",
       " <div class=\"name _ccr(lst.from)\"><span class=\"blind\">보낸 이:</span><a class=\"_c1(myContextMenu|showSenderContextLayer|list|41482) _stopDefault\" href=\"#\" title='\"Google Play\" &lt;googleplay-noreply@google.com&gt;'>Google Play</a></div>,\n",
       " <div class=\"name _ccr(lst.from)\"><span class=\"blind\">보낸 이:</span><a class=\"_c1(myContextMenu|showSenderContextLayer|list|41481) _stopDefault\" href=\"#\" title='\"잡코리아 | 스마트매치\" &lt;smartmatch@jobkorea.co.kr&gt;'>잡코리아 | 스마트매..</a></div>,\n",
       " <div class=\"name _ccr(lst.from)\"><span class=\"blind\">보낸 이:</span><a class=\"_c1(myContextMenu|showSenderContextLayer|list|41480) _stopDefault\" href=\"#\" title='\"사람인 | 기업연구소\" &lt;favorcompany@mailinfo.saramin.co.kr&gt;'>사람인 | 기업연구소</a></div>,\n",
       " <div class=\"name _ccr(lst.from)\"><span class=\"blind\">보낸 이:</span><a class=\"_c1(myContextMenu|showSenderContextLayer|list|41479) _stopDefault\" href=\"#\" title='\"Crispy13\" &lt;notifications@github.com&gt;'>Crispy13</a></div>,\n",
       " <div class=\"name _ccr(lst.from)\"><span class=\"blind\">보낸 이:</span><a class=\"_c1(myContextMenu|showSenderContextLayer|list|41476) _stopDefault\" href=\"#\" title='\"쿠팡\" &lt;no_reply@e.coupang.com&gt;'>쿠팡</a></div>,\n",
       " <div class=\"name _ccr(lst.from)\"><span class=\"blind\">보낸 이:</span><a class=\"_c1(myContextMenu|showSenderContextLayer|list|41475) _stopDefault\" href=\"#\" title='\"LinkedIn\" &lt;messages-noreply@linkedin.com&gt;'>LinkedIn</a></div>,\n",
       " <div class=\"name _ccr(lst.from)\"><span class=\"blind\">보낸 이:</span><a class=\"_c1(myContextMenu|showSenderContextLayer|list|41474) _stopDefault\" href=\"#\" title='\"사람인 | 기업연구소\" &lt;favorcompany@mailinfo.saramin.co.kr&gt;'>사람인 | 기업연구소</a></div>,\n",
       " <div class=\"name _ccr(lst.from)\"><span class=\"blind\">보낸 이:</span><a class=\"_c1(myContextMenu|showSenderContextLayer|list|41473) _stopDefault\" href=\"#\" title='\"온라인무료교육\" &lt;dlghkn56@naver.com&gt;'>온라인무료교육</a></div>,\n",
       " <div class=\"name _ccr(lst.from)\"><span class=\"blind\">보낸 이:</span><a class=\"_c1(myContextMenu|showSenderContextLayer|list|41471) _stopDefault\" href=\"#\" title='\"One To World\" &lt;info@onetoworld.org&gt;'>One To World</a></div>,\n",
       " <div class=\"name _ccr(lst.from)\"><span class=\"blind\">보낸 이:</span><a class=\"_c1(myContextMenu|showSenderContextLayer|list|41468) _stopDefault\" href=\"#\" title='\"LinkedIn\" &lt;messages-noreply@linkedin.com&gt;'>LinkedIn</a></div>,\n",
       " <div class=\"name _ccr(lst.from)\"><span class=\"blind\">보낸 이:</span><a class=\"_c1(myContextMenu|showSenderContextLayer|list|41461) _stopDefault\" href=\"#\" title='\"review-notebook-app[bot]\" &lt;notifications@github.com&gt;'>review-notebook-a..</a></div>,\n",
       " <div class=\"name _ccr(lst.from)\"><span class=\"blind\">보낸 이:</span><a class=\"_c1(myContextMenu|showSenderContextLayer|list|41460) _stopDefault\" href=\"#\" title='\"Ian Beauregard\" &lt;notifications@github.com&gt;'>Ian Beauregard</a></div>,\n",
       " <div class=\"name _ccr(lst.from)\"><span class=\"blind\">보낸 이:</span><a class=\"_c1(myContextMenu|showSenderContextLayer|list|41459) _stopDefault\" href=\"#\" title='\"李锋\" &lt;notifications@github.com&gt;'>李锋</a></div>,\n",
       " <div class=\"name _ccr(lst.from)\"><span class=\"blind\">보낸 이:</span><a class=\"_c1(myContextMenu|showSenderContextLayer|list|41457) _stopDefault\" href=\"#\" title='\"李锋\" &lt;notifications@github.com&gt;'>李锋</a></div>,\n",
       " <div class=\"name _ccr(lst.from)\"><span class=\"blind\">보낸 이:</span><a class=\"_c1(myContextMenu|showSenderContextLayer|list|41456) _stopDefault\" href=\"#\" title='\"李锋\" &lt;notifications@github.com&gt;'>李锋</a></div>,\n",
       " <div class=\"name _ccr(lst.from)\"><span class=\"blind\">보낸 이:</span><a class=\"_c1(myContextMenu|showSenderContextLayer|list|41455) _stopDefault\" href=\"#\" title='\"Michael Kors\" &lt;MichaelKors@michaelkorsmail.com&gt;'>Michael Kors</a></div>,\n",
       " <div class=\"name _ccr(lst.from)\"><span class=\"blind\">보낸 이:</span><a class=\"_c1(myContextMenu|showSenderContextLayer|list|41452) _stopDefault\" href=\"#\" title='\"ONOFFMIX\" &lt;newsletter@onoffmix.com&gt;'>ONOFFMIX</a></div>,\n",
       " <div class=\"name _ccr(lst.from)\"><span class=\"blind\">보낸 이:</span><a class=\"_c1(myContextMenu|showSenderContextLayer|list|41451) _stopDefault\" href=\"#\" title='\"잡코리아 | 스마트매치\" &lt;smartmatch@jobkorea.co.kr&gt;'>잡코리아 | 스마트매..</a></div>,\n",
       " <div class=\"name _ccr(lst.from)\"><span class=\"blind\">보낸 이:</span><a class=\"_c1(myContextMenu|showSenderContextLayer|list|41448) _stopDefault\" href=\"#\" title='\"사람인 | 기업연구소\" &lt;favorcompany@mailinfo.saramin.co.kr&gt;'>사람인 | 기업연구소</a></div>,\n",
       " <div class=\"name _ccr(lst.from)\"><span class=\"blind\">보낸 이:</span><a class=\"_c1(myContextMenu|showSenderContextLayer|list|41446) _stopDefault\" href=\"#\" title='\"리디북스\" &lt;newsletter@ridibooks.com&gt;'>리디북스</a></div>,\n",
       " <div class=\"name _ccr(lst.from)\"><span class=\"blind\">보낸 이:</span><a class=\"_c1(myContextMenu|showSenderContextLayer|list|41444) _stopDefault\" href=\"#\" title='\"케이뱅크\" &lt;recruit@kbanknow.com&gt;'>케이뱅크</a></div>,\n",
       " <div class=\"name _ccr(lst.from)\"><span class=\"blind\">보낸 이:</span><a class=\"_c1(myContextMenu|showSenderContextLayer|list|41443) _stopDefault\" href=\"#\" title='\"Inflearn\" &lt;contents@inflearn.com&gt;'>Inflearn</a></div>,\n",
       " <div class=\"name _ccr(lst.from)\"><span class=\"blind\">보낸 이:</span><a class=\"_c1(myContextMenu|showSenderContextLayer|list|41442) _stopDefault\" href=\"#\" title='\"HoneyColor\" &lt;no-reply@honeycolor.com&gt;'>HoneyColor</a></div>,\n",
       " <div class=\"name _ccr(lst.from)\"><span class=\"blind\">보낸 이:</span><a class=\"_c1(myContextMenu|showSenderContextLayer|list|41439) _stopDefault\" href=\"#\" title='\"쿠팡\" &lt;no_reply@e.coupang.com&gt;'>쿠팡</a></div>,\n",
       " <div class=\"name _ccr(lst.from)\"><span class=\"blind\">보낸 이:</span><a class=\"_c1(myContextMenu|showSenderContextLayer|list|41437) _stopDefault\" href=\"#\" title='\"알라딘 인터넷서점\" &lt;no-reply@aladin.co.kr&gt;'>알라딘 인터넷서점</a></div>]"
      ]
     },
     "execution_count": 24,
     "metadata": {},
     "output_type": "execute_result"
    }
   ],
   "source": [
    "# Naver Mail 보낸 사람 리스트 확인 \n",
    "# 태그 <div class=\"name _ccr(lst.from) \"><span class=\"blind\">보낸 이:</span><a title=\"&quot;쿠팡&quot; <no_reply@coupang.com>\" class=\"_c1(myContextMenu|showSenderContextLayer|list|41571) _stopDefault\" href=\"#\">쿠팡</a></div>\n",
    "raw_list= soup.find_all(\"div\", \"name _ccr(lst.from)\")\n",
    "raw_list "
   ]
  },
  {
   "cell_type": "code",
   "execution_count": 29,
   "metadata": {
    "ExecuteTime": {
     "end_time": "2020-10-04T06:52:42.084730Z",
     "start_time": "2020-10-04T06:52:42.067917Z"
    },
    "scrolled": true
   },
   "outputs": [
    {
     "data": {
      "text/plain": [
       "80"
      ]
     },
     "execution_count": 29,
     "metadata": {},
     "output_type": "execute_result"
    }
   ],
   "source": [
    "send_list = [raw_list[n].find('a').get_text() for n in range(0, len(raw_list))]\n",
    "send_list \n",
    "len(send_list)"
   ]
  },
  {
   "cell_type": "code",
   "execution_count": 30,
   "metadata": {
    "ExecuteTime": {
     "end_time": "2020-10-04T06:52:53.288167Z",
     "start_time": "2020-10-04T06:52:53.274399Z"
    },
    "scrolled": true
   },
   "outputs": [
    {
     "data": {
      "text/plain": [
       "['쿠팡',\n",
       " 'mgram',\n",
       " '리디북스',\n",
       " '토스 전자결제',\n",
       " 'HoneyColor',\n",
       " '쿠팡',\n",
       " '링커리어',\n",
       " '사람인 | 기업연구소',\n",
       " 'Evernote',\n",
       " 'YuriGagarine',\n",
       " 'YuriGagarine',\n",
       " 'YuriGagarine',\n",
       " 'NYC Events',\n",
       " 'FashionNova',\n",
       " '한국정보통신 KICC',\n",
       " 'Michael Kors',\n",
       " 'Glassdoor',\n",
       " 'Praful932',\n",
       " 'Ayush Gupta',\n",
       " '잡코리아 | 스마트매..',\n",
       " 'BBQ멤버십서비스',\n",
       " '쿠팡',\n",
       " 'Investing.com',\n",
       " 'd5423197',\n",
       " 'One To World',\n",
       " 'd5423197',\n",
       " 'Michael Kors',\n",
       " 'The Epoch Times',\n",
       " 'Tumblr',\n",
       " 'Praful932',\n",
       " '잡코리아 | 스마트매..',\n",
       " 'Dseal95',\n",
       " 'Dseal95',\n",
       " 'Dseal95',\n",
       " '한국정보통신 KICC',\n",
       " '쿠팡',\n",
       " 'Instagram',\n",
       " '사람인 | 기업연구소',\n",
       " '260 Sample Sale',\n",
       " '260 Sample Sale',\n",
       " 'Glassdoor News',\n",
       " 'Michael Kors',\n",
       " 'HoneyColor',\n",
       " '잡코리아 | 스마트매..',\n",
       " 'EnglishCentral',\n",
       " 'Glassdoor Jobs',\n",
       " '쿠팡',\n",
       " 'Investing.com',\n",
       " 'LinkedIn',\n",
       " 'New York Zipline Adv..',\n",
       " 'NY Events',\n",
       " '260 Sample Sale',\n",
       " 'LinkedIn',\n",
       " 'Forever 21',\n",
       " '링커리어',\n",
       " 'Google Play',\n",
       " '잡코리아 | 스마트매..',\n",
       " '사람인 | 기업연구소',\n",
       " 'Crispy13',\n",
       " '쿠팡',\n",
       " 'LinkedIn',\n",
       " '사람인 | 기업연구소',\n",
       " '온라인무료교육',\n",
       " 'One To World',\n",
       " 'LinkedIn',\n",
       " 'review-notebook-a..',\n",
       " 'Ian Beauregard',\n",
       " '李锋',\n",
       " '李锋',\n",
       " '李锋',\n",
       " 'Michael Kors',\n",
       " 'ONOFFMIX',\n",
       " '잡코리아 | 스마트매..',\n",
       " '사람인 | 기업연구소',\n",
       " '리디북스',\n",
       " '케이뱅크',\n",
       " 'Inflearn',\n",
       " 'HoneyColor',\n",
       " '쿠팡',\n",
       " '알라딘 인터넷서점']"
      ]
     },
     "execution_count": 30,
     "metadata": {},
     "output_type": "execute_result"
    }
   ],
   "source": [
    "send_list"
   ]
  },
  {
   "cell_type": "code",
   "execution_count": 28,
   "metadata": {
    "ExecuteTime": {
     "end_time": "2020-10-04T06:52:35.104229Z",
     "start_time": "2020-10-04T06:52:35.089496Z"
    }
   },
   "outputs": [
    {
     "data": {
      "text/plain": [
       "43"
      ]
     },
     "execution_count": 28,
     "metadata": {},
     "output_type": "execute_result"
    }
   ],
   "source": [
    "# 보낸 사람 unique 값 리스트 찾기\n",
    "unique = list(set(send_list)) \n",
    "len(unique)"
   ]
  },
  {
   "cell_type": "code",
   "execution_count": 31,
   "metadata": {
    "ExecuteTime": {
     "end_time": "2020-10-04T06:53:01.003367Z",
     "start_time": "2020-10-04T06:53:00.984730Z"
    },
    "scrolled": true
   },
   "outputs": [
    {
     "data": {
      "text/plain": [
       "['온라인무료교육',\n",
       " 'NYC Events',\n",
       " 'ONOFFMIX',\n",
       " '리디북스',\n",
       " 'LinkedIn',\n",
       " 'YuriGagarine',\n",
       " 'Glassdoor',\n",
       " 'Ayush Gupta',\n",
       " 'EnglishCentral',\n",
       " '쿠팡',\n",
       " '토스 전자결제',\n",
       " '사람인 | 기업연구소',\n",
       " '260 Sample Sale',\n",
       " 'd5423197',\n",
       " '잡코리아 | 스마트매..',\n",
       " '李锋',\n",
       " 'Praful932',\n",
       " 'Google Play',\n",
       " 'Investing.com',\n",
       " '케이뱅크',\n",
       " 'Instagram',\n",
       " 'FashionNova',\n",
       " 'One To World',\n",
       " 'Crispy13',\n",
       " 'NY Events',\n",
       " 'mgram',\n",
       " 'BBQ멤버십서비스',\n",
       " '알라딘 인터넷서점',\n",
       " 'Dseal95',\n",
       " 'The Epoch Times',\n",
       " 'Tumblr',\n",
       " 'HoneyColor',\n",
       " 'Evernote',\n",
       " 'review-notebook-a..',\n",
       " 'Ian Beauregard',\n",
       " 'Michael Kors',\n",
       " 'Inflearn',\n",
       " 'New York Zipline Adv..',\n",
       " '링커리어',\n",
       " 'Glassdoor News',\n",
       " 'Forever 21',\n",
       " 'Glassdoor Jobs',\n",
       " '한국정보통신 KICC']"
      ]
     },
     "execution_count": 31,
     "metadata": {},
     "output_type": "execute_result"
    }
   ],
   "source": [
    "unique"
   ]
  },
  {
   "cell_type": "code",
   "execution_count": 32,
   "metadata": {
    "ExecuteTime": {
     "end_time": "2020-10-04T06:53:24.976289Z",
     "start_time": "2020-10-04T06:53:20.639498Z"
    }
   },
   "outputs": [],
   "source": [
    "# 크롬 드라이버 종료 \n",
    "driver.close()"
   ]
  },
  {
   "cell_type": "markdown",
   "metadata": {},
   "source": [
    "## 서울시 구별 주유소 가격 정보 얻기"
   ]
  },
  {
   "cell_type": "markdown",
   "metadata": {},
   "source": [
    "> selnium 참고 site \n",
    "* https://fenderist.tistory.com/168"
   ]
  },
  {
   "cell_type": "code",
   "execution_count": 60,
   "metadata": {
    "ExecuteTime": {
     "end_time": "2020-10-04T08:48:43.735442Z",
     "start_time": "2020-10-04T08:48:40.359523Z"
    }
   },
   "outputs": [],
   "source": [
    "from selenium import webdriver\n",
    "driver = webdriver.Chrome(\"C:/Users/Sung/Downloads/chromedriver.exe\")\n",
    "driver.get(\"http://www.opinet.co.kr\") # 네이버 접속  "
   ]
  },
  {
   "cell_type": "code",
   "execution_count": 61,
   "metadata": {
    "ExecuteTime": {
     "end_time": "2020-10-04T08:48:45.875246Z",
     "start_time": "2020-10-04T08:48:43.937263Z"
    }
   },
   "outputs": [],
   "source": [
    "# 싼 주유소 찾기  \n",
    "# http://www.opinet.co.kr/searRgSelect.do -> 작동 안함, javascript 로 막음 \n",
    "driver.execute_script(\"return goSubPage(0,0,99)\")"
   ]
  },
  {
   "cell_type": "code",
   "execution_count": 65,
   "metadata": {
    "ExecuteTime": {
     "end_time": "2020-10-04T08:50:01.078370Z",
     "start_time": "2020-10-04T08:50:00.919420Z"
    },
    "scrolled": true
   },
   "outputs": [
    {
     "data": {
      "text/plain": [
       "['강남구',\n",
       " '강동구',\n",
       " '강북구',\n",
       " '강서구',\n",
       " '관악구',\n",
       " '광진구',\n",
       " '구로구',\n",
       " '금천구',\n",
       " '노원구',\n",
       " '도봉구',\n",
       " '동대문구',\n",
       " '동작구',\n",
       " '마포구',\n",
       " '서대문구',\n",
       " '서초구',\n",
       " '성동구',\n",
       " '성북구',\n",
       " '송파구',\n",
       " '양천구',\n",
       " '영등포구',\n",
       " '용산구',\n",
       " '은평구',\n",
       " '종로구',\n",
       " '중구',\n",
       " '중랑구']"
      ]
     },
     "execution_count": 65,
     "metadata": {},
     "output_type": "execute_result"
    }
   ],
   "source": [
    "# 시군구 리스트 \n",
    "gu_list_raw = driver.find_element_by_xpath(\"\"\"//*[@id=\"SIGUNGU_NM0\"]\"\"\")\n",
    "# find_elements (find_all) / find_element (find)\n",
    "gu_list = gu_list_raw.find_elements_by_tag_name(\"option\") # 하위 option tag \n",
    "\n",
    "# 시군구 네임 가져오기 \n",
    "gu_names = [option.get_attribute(\"value\") for option in gu_list]\n",
    "gu_names.remove('')\n",
    "gu_names"
   ]
  },
  {
   "cell_type": "code",
   "execution_count": 63,
   "metadata": {
    "ExecuteTime": {
     "end_time": "2020-10-04T08:48:54.681902Z",
     "start_time": "2020-10-04T08:48:54.521916Z"
    },
    "scrolled": true
   },
   "outputs": [
    {
     "data": {
      "text/plain": [
       "['강남구',\n",
       " '강동구',\n",
       " '강북구',\n",
       " '강서구',\n",
       " '관악구',\n",
       " '광진구',\n",
       " '구로구',\n",
       " '금천구',\n",
       " '노원구',\n",
       " '도봉구',\n",
       " '동대문구',\n",
       " '동작구',\n",
       " '마포구',\n",
       " '서대문구',\n",
       " '서초구',\n",
       " '성동구',\n",
       " '성북구',\n",
       " '송파구',\n",
       " '양천구',\n",
       " '영등포구',\n",
       " '용산구',\n",
       " '은평구',\n",
       " '종로구',\n",
       " '중구',\n",
       " '중랑구']"
      ]
     },
     "execution_count": 63,
     "metadata": {},
     "output_type": "execute_result"
    }
   ],
   "source": [
    "# 시군구 네임 가져오기 \n",
    "gu_names = [option.get_attribute(\"value\") for option in gu_list]\n",
    "gu_names.remove('')\n",
    "gu_names"
   ]
  },
  {
   "cell_type": "code",
   "execution_count": 64,
   "metadata": {
    "ExecuteTime": {
     "end_time": "2020-10-04T08:49:18.281609Z",
     "start_time": "2020-10-04T08:49:16.930769Z"
    }
   },
   "outputs": [],
   "source": [
    "# 깅님그 산텍 \n",
    "element = driver.find_element_by_id(\"SIGUNGU_NM0\")\n",
    "element.send_keys(gu_names[0])"
   ]
  },
  {
   "cell_type": "code",
   "execution_count": 67,
   "metadata": {
    "ExecuteTime": {
     "end_time": "2020-10-04T08:51:26.215345Z",
     "start_time": "2020-10-04T08:51:24.609274Z"
    }
   },
   "outputs": [],
   "source": [
    "# 조회 버튼 \n",
    "xpath = \"\"\"//*[@id=\"searRgSelect\"]/span\"\"\"\n",
    "element_sel_gu = driver.find_element_by_xpath(xpath).click()"
   ]
  },
  {
   "cell_type": "code",
   "execution_count": null,
   "metadata": {},
   "outputs": [],
   "source": [
    "# 엑셀 저장 "
   ]
  },
  {
   "cell_type": "code",
   "execution_count": 69,
   "metadata": {
    "ExecuteTime": {
     "end_time": "2020-10-04T08:52:38.424366Z",
     "start_time": "2020-10-04T08:52:37.464195Z"
    }
   },
   "outputs": [],
   "source": [
    "xpath = \"\"\"//*[@id=\"glopopd_excel\"]/span\"\"\"\n",
    "element_get_excel = driver.find_element_by_xpath(xpath).click()"
   ]
  },
  {
   "cell_type": "code",
   "execution_count": 72,
   "metadata": {
    "ExecuteTime": {
     "end_time": "2020-10-04T08:56:49.613345Z",
     "start_time": "2020-10-04T08:56:47.575228Z"
    }
   },
   "outputs": [
    {
     "name": "stdout",
     "output_type": "stream",
     "text": [
      "Collecting tqdm\n",
      "  Downloading tqdm-4.50.0-py2.py3-none-any.whl (70 kB)\n",
      "Installing collected packages: tqdm\n",
      "Successfully installed tqdm-4.50.0\n"
     ]
    }
   ],
   "source": [
    "# !pip install tqdm"
   ]
  },
  {
   "cell_type": "code",
   "execution_count": 74,
   "metadata": {
    "ExecuteTime": {
     "end_time": "2020-10-04T09:00:23.454288Z",
     "start_time": "2020-10-04T08:57:37.342641Z"
    }
   },
   "outputs": [
    {
     "name": "stderr",
     "output_type": "stream",
     "text": [
      "c:\\users\\sung\\appdata\\local\\programs\\python\\python37\\lib\\site-packages\\ipykernel_launcher.py:5: TqdmDeprecationWarning: This function will be removed in tqdm==5.0.0\n",
      "Please use `tqdm.notebook.tqdm` instead of `tqdm.tqdm_notebook`\n",
      "  \"\"\"\n"
     ]
    },
    {
     "data": {
      "application/vnd.jupyter.widget-view+json": {
       "model_id": "40e5621a685c4bfd810778853375c18d",
       "version_major": 2,
       "version_minor": 0
      },
      "text/plain": [
       "HBox(children=(HTML(value=''), FloatProgress(value=0.0, max=25.0), HTML(value='')))"
      ]
     },
     "metadata": {},
     "output_type": "display_data"
    },
    {
     "name": "stdout",
     "output_type": "stream",
     "text": [
      "\n"
     ]
    }
   ],
   "source": [
    "# 지역별 주유소 찾기 \n",
    "import time \n",
    "from tqdm import tqdm_notebook\n",
    "\n",
    "for gu in tqdm_notebook(gu_names):\n",
    "    # 구 입력 \n",
    "    element = driver.find_element_by_id(\"SIGUNGU_NM0\")\n",
    "    element.send_keys(gu)\n",
    "    \n",
    "    time.sleep(2)\n",
    "    \n",
    "    # 조회 버튼 \n",
    "    xpath = \"\"\"//*[@id=\"searRgSelect\"]/span\"\"\"\n",
    "    element_sel_gu = driver.find_element_by_xpath(xpath).click()\n",
    "    \n",
    "    time.sleep(1)\n",
    "    \n",
    "    # 엑셀 저장 \n",
    "    xpath = \"\"\"//*[@id=\"glopopd_excel\"]/span\"\"\"\n",
    "    element_get_excel = driver.find_element_by_xpath(xpath).click()\n",
    "    \n",
    "    time.sleep(1)"
   ]
  },
  {
   "cell_type": "code",
   "execution_count": 75,
   "metadata": {
    "ExecuteTime": {
     "end_time": "2020-10-04T09:01:37.964433Z",
     "start_time": "2020-10-04T09:01:33.612826Z"
    }
   },
   "outputs": [],
   "source": [
    "# 드라이버 종료 \n",
    "driver.close() "
   ]
  },
  {
   "cell_type": "markdown",
   "metadata": {},
   "source": [
    "## 구별 주유 가격에 대한 데이터의 정리 "
   ]
  },
  {
   "cell_type": "code",
   "execution_count": 77,
   "metadata": {
    "ExecuteTime": {
     "end_time": "2020-10-04T09:09:49.190571Z",
     "start_time": "2020-10-04T09:09:48.178998Z"
    }
   },
   "outputs": [],
   "source": [
    "import pandas as pd \n",
    "from glob import glob # 파일 경로를 쉽게 접근할 수 있게 해주는 모듈 "
   ]
  },
  {
   "cell_type": "code",
   "execution_count": 80,
   "metadata": {
    "ExecuteTime": {
     "end_time": "2020-10-04T09:10:24.747203Z",
     "start_time": "2020-10-04T09:10:24.725749Z"
    },
    "scrolled": true
   },
   "outputs": [
    {
     "data": {
      "text/plain": [
       "['C:/Users/Sung/Downloads/data\\\\지역_위치별(주유소) (1).xls',\n",
       " 'C:/Users/Sung/Downloads/data\\\\지역_위치별(주유소) (10).xls',\n",
       " 'C:/Users/Sung/Downloads/data\\\\지역_위치별(주유소) (11).xls',\n",
       " 'C:/Users/Sung/Downloads/data\\\\지역_위치별(주유소) (12).xls',\n",
       " 'C:/Users/Sung/Downloads/data\\\\지역_위치별(주유소) (13).xls',\n",
       " 'C:/Users/Sung/Downloads/data\\\\지역_위치별(주유소) (14).xls',\n",
       " 'C:/Users/Sung/Downloads/data\\\\지역_위치별(주유소) (15).xls',\n",
       " 'C:/Users/Sung/Downloads/data\\\\지역_위치별(주유소) (16).xls',\n",
       " 'C:/Users/Sung/Downloads/data\\\\지역_위치별(주유소) (17).xls',\n",
       " 'C:/Users/Sung/Downloads/data\\\\지역_위치별(주유소) (18).xls',\n",
       " 'C:/Users/Sung/Downloads/data\\\\지역_위치별(주유소) (19).xls',\n",
       " 'C:/Users/Sung/Downloads/data\\\\지역_위치별(주유소) (2).xls',\n",
       " 'C:/Users/Sung/Downloads/data\\\\지역_위치별(주유소) (20).xls',\n",
       " 'C:/Users/Sung/Downloads/data\\\\지역_위치별(주유소) (21).xls',\n",
       " 'C:/Users/Sung/Downloads/data\\\\지역_위치별(주유소) (22).xls',\n",
       " 'C:/Users/Sung/Downloads/data\\\\지역_위치별(주유소) (23).xls',\n",
       " 'C:/Users/Sung/Downloads/data\\\\지역_위치별(주유소) (24).xls',\n",
       " 'C:/Users/Sung/Downloads/data\\\\지역_위치별(주유소) (25).xls',\n",
       " 'C:/Users/Sung/Downloads/data\\\\지역_위치별(주유소) (3).xls',\n",
       " 'C:/Users/Sung/Downloads/data\\\\지역_위치별(주유소) (4).xls',\n",
       " 'C:/Users/Sung/Downloads/data\\\\지역_위치별(주유소) (5).xls',\n",
       " 'C:/Users/Sung/Downloads/data\\\\지역_위치별(주유소) (6).xls',\n",
       " 'C:/Users/Sung/Downloads/data\\\\지역_위치별(주유소) (7).xls',\n",
       " 'C:/Users/Sung/Downloads/data\\\\지역_위치별(주유소) (8).xls',\n",
       " 'C:/Users/Sung/Downloads/data\\\\지역_위치별(주유소) (9).xls']"
      ]
     },
     "execution_count": 80,
     "metadata": {},
     "output_type": "execute_result"
    }
   ],
   "source": [
    "# /data 폴더 안에  # 지역으로 시작하는 # xls 파일 전체를 의미 \n",
    "glob(\"C:/Users/Sung/Downloads/data/지역*.xls\") "
   ]
  },
  {
   "cell_type": "code",
   "execution_count": 81,
   "metadata": {
    "ExecuteTime": {
     "end_time": "2020-10-04T09:11:29.256408Z",
     "start_time": "2020-10-04T09:11:29.239277Z"
    },
    "scrolled": true
   },
   "outputs": [
    {
     "data": {
      "text/plain": [
       "['C:/Users/Sung/Downloads/data\\\\지역_위치별(주유소) (1).xls',\n",
       " 'C:/Users/Sung/Downloads/data\\\\지역_위치별(주유소) (10).xls',\n",
       " 'C:/Users/Sung/Downloads/data\\\\지역_위치별(주유소) (11).xls',\n",
       " 'C:/Users/Sung/Downloads/data\\\\지역_위치별(주유소) (12).xls',\n",
       " 'C:/Users/Sung/Downloads/data\\\\지역_위치별(주유소) (13).xls',\n",
       " 'C:/Users/Sung/Downloads/data\\\\지역_위치별(주유소) (14).xls',\n",
       " 'C:/Users/Sung/Downloads/data\\\\지역_위치별(주유소) (15).xls',\n",
       " 'C:/Users/Sung/Downloads/data\\\\지역_위치별(주유소) (16).xls',\n",
       " 'C:/Users/Sung/Downloads/data\\\\지역_위치별(주유소) (17).xls',\n",
       " 'C:/Users/Sung/Downloads/data\\\\지역_위치별(주유소) (18).xls',\n",
       " 'C:/Users/Sung/Downloads/data\\\\지역_위치별(주유소) (19).xls',\n",
       " 'C:/Users/Sung/Downloads/data\\\\지역_위치별(주유소) (2).xls',\n",
       " 'C:/Users/Sung/Downloads/data\\\\지역_위치별(주유소) (20).xls',\n",
       " 'C:/Users/Sung/Downloads/data\\\\지역_위치별(주유소) (21).xls',\n",
       " 'C:/Users/Sung/Downloads/data\\\\지역_위치별(주유소) (22).xls',\n",
       " 'C:/Users/Sung/Downloads/data\\\\지역_위치별(주유소) (23).xls',\n",
       " 'C:/Users/Sung/Downloads/data\\\\지역_위치별(주유소) (24).xls',\n",
       " 'C:/Users/Sung/Downloads/data\\\\지역_위치별(주유소) (25).xls',\n",
       " 'C:/Users/Sung/Downloads/data\\\\지역_위치별(주유소) (3).xls',\n",
       " 'C:/Users/Sung/Downloads/data\\\\지역_위치별(주유소) (4).xls',\n",
       " 'C:/Users/Sung/Downloads/data\\\\지역_위치별(주유소) (5).xls',\n",
       " 'C:/Users/Sung/Downloads/data\\\\지역_위치별(주유소) (6).xls',\n",
       " 'C:/Users/Sung/Downloads/data\\\\지역_위치별(주유소) (7).xls',\n",
       " 'C:/Users/Sung/Downloads/data\\\\지역_위치별(주유소) (8).xls',\n",
       " 'C:/Users/Sung/Downloads/data\\\\지역_위치별(주유소) (9).xls']"
      ]
     },
     "execution_count": 81,
     "metadata": {},
     "output_type": "execute_result"
    }
   ],
   "source": [
    "# station_files 변수에 각 엑셀 파일의 경로와 이름을 리스트로 저장 \n",
    "station_files = glob(\"C:/Users/Sung/Downloads/data/지역*.xls\")\n",
    "station_files"
   ]
  },
  {
   "cell_type": "code",
   "execution_count": 85,
   "metadata": {
    "ExecuteTime": {
     "end_time": "2020-10-04T09:14:36.604227Z",
     "start_time": "2020-10-04T09:14:36.584284Z"
    },
    "scrolled": true
   },
   "outputs": [
    {
     "data": {
      "text/plain": [
       "[       지역                     상호                         주소      상표  \\\n",
       " 0   서울특별시            (주)보성 세곡주유소      서울 강남구  헌릉로 731 (세곡동)   SK에너지   \n",
       " 1   서울특별시       GS칼텍스(주)직영 산성주유소             서울 강남구 헌릉로 730   GS칼텍스   \n",
       " 2   서울특별시         현대오일뱅크 도곡셀프주유소  서울 강남구  남부순환로 2718 (도곡2동)  현대오일뱅크   \n",
       " 3   서울특별시               오일프러스 셀프    서울 강남구 남부순환로 2651 (도곡동)   SK에너지   \n",
       " 4   서울특별시                  방죽주유소      서울 강남구 밤고개로 215 (율현동)   S-OIL   \n",
       " 5   서울특별시        현대오일뱅크(주) 유진주유소       서울 강남구 논현로 152 (도곡동)  현대오일뱅크   \n",
       " 6   서울특별시                자곡셀프주유소      서울 강남구 밤고개로 120 (자곡동)   SK에너지   \n",
       " 7   서울특별시          지에스칼텍스㈜ 은마주유소            서울 강남구 영동대로 235   GS칼텍스   \n",
       " 8   서울특별시                SK서광주유소       서울 강남구 역삼로 142 (역삼동)   SK에너지   \n",
       " 9   서울특별시             (주)선진도곡주유소       서울 강남구 도곡로 162 (도곡동)   S-OIL   \n",
       " 10  서울특별시                  역삼주유소       서울 강남구 역삼로 205 (역삼동)   GS칼텍스   \n",
       " 11  서울특별시        에쓰-오일㈜직영 개나리주유소       서울 강남구 언주로 423 (역삼동)   S-OIL   \n",
       " 12  서울특별시         SK에너지(주) 매봉주유소             서울 강남구 언주로 307   SK에너지   \n",
       " 13  서울특별시        지에스칼텍스㈜ GS타워주유소       서울 강남구 논현로 516 (역삼동)   GS칼텍스   \n",
       " 14  서울특별시          SK에너지㈜ 진달래주유소             서울 강남구 도곡로 208   SK에너지   \n",
       " 15  서울특별시          지에스칼텍스㈜ 주성주유소            서울 강남구 영동대로 716   GS칼텍스   \n",
       " 16  서울특별시        (유)동하석유 힐탑셀프주유소             서울 강남구 논현로 640   SK에너지   \n",
       " 17  서울특별시        현대오일뱅크㈜직영 오천주유소      서울 강남구 봉은사로 503 (삼성동)  현대오일뱅크   \n",
       " 18  서울특별시         지에스칼텍스㈜ 삼성로주유소       서울 강남구 삼성로 563 (삼성동)   GS칼텍스   \n",
       " 19  서울특별시                  일원주유소     서울 강남구 양재대로55길 3 (일원동)   S-OIL   \n",
       " 20  서울특별시         (주)중앙에너비스 수서지점       서울 강남구 광평로 202 (수서동)   SK에너지   \n",
       " 21  서울특별시            대동석유 압구정주유소       서울 강남구 언주로 842 (신사동)   SK에너지   \n",
       " 22  서울특별시       현대오일뱅크㈜직영 삼성동주유소      서울 강남구 테헤란로 619 (삼성동)  현대오일뱅크   \n",
       " 23  서울특별시     에스제이에너지산업(주) 개포주유소            서울 강남구 양재대로 339   GS칼텍스   \n",
       " 24  서울특별시                 논현동주유소       서울 강남구 학동로 229 (논현동)   GS칼텍스   \n",
       " 25  서울특별시                  대교주유소      서울 강남구 강남대로 640 (신사동)   SK에너지   \n",
       " 26  서울특별시    현대오일뱅크(주)직영 신사현대주유소      서울 강남구 도산대로 163 (신사동)  현대오일뱅크   \n",
       " 27  서울특별시          ㈜새서울석유 새서울주유소            서울 강남구 압구정로 154  현대오일뱅크   \n",
       " 28  서울특별시      현대오일뱅크(주)직영 한양주유소      서울 강남구 압구정로 302 (신사동)  현대오일뱅크   \n",
       " 29  서울특별시                  명품주유소       서울 강남구 도곡로 249 (역삼동)   S-OIL   \n",
       " 30  서울특별시           대성석유(주)동호주유소         서울 강남구 봉은사로113길 51   GS칼텍스   \n",
       " 31  서울특별시                  대청주유소       서울 강남구 개포로 654 (일원동)   SK에너지   \n",
       " 32  서울특별시                SK논현주유소       서울 강남구 논현로 747 (논현동)   SK에너지   \n",
       " 33  서울특별시                  경원주유소      서울 강남구 도산대로 428 (청담동)   S-OIL   \n",
       " 34  서울특별시                갤러리아주유소      서울 강남구 압구정로 426 (청담동)   SK에너지   \n",
       " 35  서울특별시                 학여울주유소  서울 강남구  남부순환로 3170 (일원2동)   GS칼텍스   \n",
       " 36  서울특별시  (주)소모에너지엔테크놀러지 쎈트럴주유소       서울 강남구 삼성로 335 (대치동)   GS칼텍스   \n",
       " 37  서울특별시               (주)만정에너지      서울 강남구 봉은사로 433 (삼성동)   GS칼텍스   \n",
       " 38  서울특별시                뉴서울(강남)       서울 강남구 언주로 716 (논현동)   SK에너지   \n",
       " 39  서울특별시                  삼성주유소       서울 강남구 삼성로 521 (삼성동)   SK에너지   \n",
       " 40  서울특별시                  동우주유소  서울특별시 강남구  봉은사로 311 (논현동)   SK에너지   \n",
       " \n",
       "              전화번호 셀프여부 고급휘발유   휘발유    경유  실내등유  \n",
       " 0     02-445-6870    Y     -  1375  1175     -  \n",
       " 1    02-2226-4963    Y     -  1385  1195     -  \n",
       " 2     02-529-5101    Y  1547  1394  1189     -  \n",
       " 3    02-3462-5100    Y  1547  1394  1189     -  \n",
       " 4     02-459-3434    Y     -  1399  1199     -  \n",
       " 5    02-3462-5215    N  1562  1408  1204     -  \n",
       " 6     02-445-5841    Y     -  1410  1215     -  \n",
       " 7    02-3452-1882    N  1565  1415  1255     -  \n",
       " 8     02-562-4855    Y  1549  1415  1215     -  \n",
       " 9    02-2058-3024    N  1570  1415  1255     -  \n",
       " 10    02-557-5189    N  1625  1415  1255     -  \n",
       " 11    02-564-0187    N  1565  1415  1239     -  \n",
       " 12    02-556-5510    Y  1565  1415  1239     -  \n",
       " 13    02-539-5145    N  1628  1415  1255     -  \n",
       " 14   02-3462-0018    N  1545  1415  1239     -  \n",
       " 15    02-518-3460    N  1565  1415  1245     -  \n",
       " 16    02-544-4075    Y  1635  1435  1265     -  \n",
       " 17    02-545-2822    N  1597  1441  1266  1025  \n",
       " 18    02-538-5138    Y  1597  1441  1266     -  \n",
       " 19   02-2226-5188    Y     -  1448  1248  1200  \n",
       " 20  070-8707-4582    Y  1698  1448  1248     -  \n",
       " 21    02-545-6161    Y  1633  1453  1273     -  \n",
       " 22    02-508-6572    N  1597  1461  1286     -  \n",
       " 23    02-573-9031    N  1750  1498  1298     -  \n",
       " 24   02-3443-9545    Y  1717  1527  1353     -  \n",
       " 25    02-512-5521    N  1750  1550  1350     -  \n",
       " 26    02-546-2182    N  1896  1586  1422     -  \n",
       " 27    02-543-1154    N  1878  1637  1437     -  \n",
       " 28   02-3444-0804    N  1828  1638  1418     -  \n",
       " 29    02-501-1256    N  1828  1698  1528     -  \n",
       " 30    02-545-0720    N  1877  1777  1577     -  \n",
       " 31    02-445-5500    N  1999  1779  1566     -  \n",
       " 32    02-511-0955    N  2048  1788  1648  1350  \n",
       " 33    02-517-1957    N  2106  1845  1664     -  \n",
       " 34    02-540-4965    N  2106  1848  1659  1250  \n",
       " 35   02-3411-3271    N  2127  1883  1637     -  \n",
       " 36    02-565-0267    N  2067  1913  1689     -  \n",
       " 37    02-518-5141    N  2079  1913  1689  1359  \n",
       " 38    02-518-5631    N  2330  2025  1865     -  \n",
       " 39    02-538-0809    N     -     -     -     -  \n",
       " 40    02-542-6726    N     -     -     -     -  ]"
      ]
     },
     "execution_count": 85,
     "metadata": {},
     "output_type": "execute_result"
    }
   ],
   "source": [
    "# 파일 한개 가져오기 \n",
    "tmp_raw = []\n",
    "tmp = pd.read_excel('C:/Users/Sung/Downloads/data\\\\지역_위치별(주유소) (1).xls', header = 2) # header 는 3번째 줄에 있음 \n",
    "tmp_raw.append(tmp)\n",
    "tmp_raw"
   ]
  },
  {
   "cell_type": "markdown",
   "metadata": {},
   "source": [
    "> 파일 여러개 가져오기 \n",
    "* read_excel 로 각 파일을 읽은 후 \n",
    "* tmp_raw 변수에 append \n",
    "* 반복문 끝나면 pd.concat 명령으로 쉽게 하나로 합침 \n",
    "* 25개 엑셀 파일 하나로 합침 "
   ]
  },
  {
   "cell_type": "code",
   "execution_count": 88,
   "metadata": {
    "ExecuteTime": {
     "end_time": "2020-10-04T09:16:20.380885Z",
     "start_time": "2020-10-04T09:16:20.368981Z"
    }
   },
   "outputs": [
    {
     "data": {
      "text/plain": [
       "25"
      ]
     },
     "execution_count": 88,
     "metadata": {},
     "output_type": "execute_result"
    }
   ],
   "source": [
    "len(station_files)"
   ]
  },
  {
   "cell_type": "code",
   "execution_count": 92,
   "metadata": {
    "ExecuteTime": {
     "end_time": "2020-10-04T09:17:14.702400Z",
     "start_time": "2020-10-04T09:17:14.560705Z"
    }
   },
   "outputs": [],
   "source": [
    "# 파일 여러개 가져오기 \n",
    "tmp_raw = []\n",
    "for file_name in station_files:\n",
    "    tmp = pd.read_excel(file_name, header = 2) # header 는 3번째 줄에 있음 \n",
    "    tmp_raw.append(tmp)\n",
    "\n",
    "station_raw = pd.concat(tmp_raw)"
   ]
  },
  {
   "cell_type": "code",
   "execution_count": 93,
   "metadata": {
    "ExecuteTime": {
     "end_time": "2020-10-04T09:17:16.213223Z",
     "start_time": "2020-10-04T09:17:16.190319Z"
    }
   },
   "outputs": [
    {
     "name": "stdout",
     "output_type": "stream",
     "text": [
      "<class 'pandas.core.frame.DataFrame'>\n",
      "Int64Index: 499 entries, 0 to 14\n",
      "Data columns (total 10 columns):\n",
      " #   Column  Non-Null Count  Dtype \n",
      "---  ------  --------------  ----- \n",
      " 0   지역      499 non-null    object\n",
      " 1   상호      499 non-null    object\n",
      " 2   주소      499 non-null    object\n",
      " 3   상표      499 non-null    object\n",
      " 4   전화번호    499 non-null    object\n",
      " 5   셀프여부    499 non-null    object\n",
      " 6   고급휘발유   499 non-null    object\n",
      " 7   휘발유     499 non-null    object\n",
      " 8   경유      499 non-null    object\n",
      " 9   실내등유    499 non-null    object\n",
      "dtypes: object(10)\n",
      "memory usage: 42.9+ KB\n"
     ]
    }
   ],
   "source": [
    "station_raw.info() \n",
    "# 가격 정보가 숫자형(int, float) 아니어서 나중에 처리해야 함 "
   ]
  },
  {
   "cell_type": "code",
   "execution_count": 94,
   "metadata": {
    "ExecuteTime": {
     "end_time": "2020-10-04T09:18:08.936031Z",
     "start_time": "2020-10-04T09:18:08.919183Z"
    }
   },
   "outputs": [
    {
     "data": {
      "text/html": [
       "<div>\n",
       "<style scoped>\n",
       "    .dataframe tbody tr th:only-of-type {\n",
       "        vertical-align: middle;\n",
       "    }\n",
       "\n",
       "    .dataframe tbody tr th {\n",
       "        vertical-align: top;\n",
       "    }\n",
       "\n",
       "    .dataframe thead th {\n",
       "        text-align: right;\n",
       "    }\n",
       "</style>\n",
       "<table border=\"1\" class=\"dataframe\">\n",
       "  <thead>\n",
       "    <tr style=\"text-align: right;\">\n",
       "      <th></th>\n",
       "      <th>지역</th>\n",
       "      <th>상호</th>\n",
       "      <th>주소</th>\n",
       "      <th>상표</th>\n",
       "      <th>전화번호</th>\n",
       "      <th>셀프여부</th>\n",
       "      <th>고급휘발유</th>\n",
       "      <th>휘발유</th>\n",
       "      <th>경유</th>\n",
       "      <th>실내등유</th>\n",
       "    </tr>\n",
       "  </thead>\n",
       "  <tbody>\n",
       "    <tr>\n",
       "      <th>0</th>\n",
       "      <td>서울특별시</td>\n",
       "      <td>(주)보성 세곡주유소</td>\n",
       "      <td>서울 강남구  헌릉로 731 (세곡동)</td>\n",
       "      <td>SK에너지</td>\n",
       "      <td>02-445-6870</td>\n",
       "      <td>Y</td>\n",
       "      <td>-</td>\n",
       "      <td>1375</td>\n",
       "      <td>1175</td>\n",
       "      <td>-</td>\n",
       "    </tr>\n",
       "    <tr>\n",
       "      <th>1</th>\n",
       "      <td>서울특별시</td>\n",
       "      <td>GS칼텍스(주)직영 산성주유소</td>\n",
       "      <td>서울 강남구 헌릉로 730</td>\n",
       "      <td>GS칼텍스</td>\n",
       "      <td>02-2226-4963</td>\n",
       "      <td>Y</td>\n",
       "      <td>-</td>\n",
       "      <td>1385</td>\n",
       "      <td>1195</td>\n",
       "      <td>-</td>\n",
       "    </tr>\n",
       "    <tr>\n",
       "      <th>2</th>\n",
       "      <td>서울특별시</td>\n",
       "      <td>현대오일뱅크 도곡셀프주유소</td>\n",
       "      <td>서울 강남구  남부순환로 2718 (도곡2동)</td>\n",
       "      <td>현대오일뱅크</td>\n",
       "      <td>02-529-5101</td>\n",
       "      <td>Y</td>\n",
       "      <td>1547</td>\n",
       "      <td>1394</td>\n",
       "      <td>1189</td>\n",
       "      <td>-</td>\n",
       "    </tr>\n",
       "    <tr>\n",
       "      <th>3</th>\n",
       "      <td>서울특별시</td>\n",
       "      <td>오일프러스 셀프</td>\n",
       "      <td>서울 강남구 남부순환로 2651 (도곡동)</td>\n",
       "      <td>SK에너지</td>\n",
       "      <td>02-3462-5100</td>\n",
       "      <td>Y</td>\n",
       "      <td>1547</td>\n",
       "      <td>1394</td>\n",
       "      <td>1189</td>\n",
       "      <td>-</td>\n",
       "    </tr>\n",
       "    <tr>\n",
       "      <th>4</th>\n",
       "      <td>서울특별시</td>\n",
       "      <td>방죽주유소</td>\n",
       "      <td>서울 강남구 밤고개로 215 (율현동)</td>\n",
       "      <td>S-OIL</td>\n",
       "      <td>02-459-3434</td>\n",
       "      <td>Y</td>\n",
       "      <td>-</td>\n",
       "      <td>1399</td>\n",
       "      <td>1199</td>\n",
       "      <td>-</td>\n",
       "    </tr>\n",
       "  </tbody>\n",
       "</table>\n",
       "</div>"
      ],
      "text/plain": [
       "      지역                상호                         주소      상표          전화번호  \\\n",
       "0  서울특별시       (주)보성 세곡주유소      서울 강남구  헌릉로 731 (세곡동)   SK에너지   02-445-6870   \n",
       "1  서울특별시  GS칼텍스(주)직영 산성주유소             서울 강남구 헌릉로 730   GS칼텍스  02-2226-4963   \n",
       "2  서울특별시    현대오일뱅크 도곡셀프주유소  서울 강남구  남부순환로 2718 (도곡2동)  현대오일뱅크   02-529-5101   \n",
       "3  서울특별시          오일프러스 셀프    서울 강남구 남부순환로 2651 (도곡동)   SK에너지  02-3462-5100   \n",
       "4  서울특별시             방죽주유소      서울 강남구 밤고개로 215 (율현동)   S-OIL   02-459-3434   \n",
       "\n",
       "  셀프여부 고급휘발유   휘발유    경유 실내등유  \n",
       "0    Y     -  1375  1175    -  \n",
       "1    Y     -  1385  1195    -  \n",
       "2    Y  1547  1394  1189    -  \n",
       "3    Y  1547  1394  1189    -  \n",
       "4    Y     -  1399  1199    -  "
      ]
     },
     "execution_count": 94,
     "metadata": {},
     "output_type": "execute_result"
    }
   ],
   "source": [
    "station_raw.head()"
   ]
  },
  {
   "cell_type": "code",
   "execution_count": 98,
   "metadata": {
    "ExecuteTime": {
     "end_time": "2020-10-04T09:21:26.797342Z",
     "start_time": "2020-10-04T09:21:26.777788Z"
    }
   },
   "outputs": [
    {
     "data": {
      "text/html": [
       "<div>\n",
       "<style scoped>\n",
       "    .dataframe tbody tr th:only-of-type {\n",
       "        vertical-align: middle;\n",
       "    }\n",
       "\n",
       "    .dataframe tbody tr th {\n",
       "        vertical-align: top;\n",
       "    }\n",
       "\n",
       "    .dataframe thead th {\n",
       "        text-align: right;\n",
       "    }\n",
       "</style>\n",
       "<table border=\"1\" class=\"dataframe\">\n",
       "  <thead>\n",
       "    <tr style=\"text-align: right;\">\n",
       "      <th></th>\n",
       "      <th>Oil_store</th>\n",
       "      <th>주소</th>\n",
       "      <th>가격</th>\n",
       "      <th>셀프</th>\n",
       "      <th>상표</th>\n",
       "    </tr>\n",
       "  </thead>\n",
       "  <tbody>\n",
       "    <tr>\n",
       "      <th>0</th>\n",
       "      <td>(주)보성 세곡주유소</td>\n",
       "      <td>서울 강남구  헌릉로 731 (세곡동)</td>\n",
       "      <td>1375</td>\n",
       "      <td>Y</td>\n",
       "      <td>SK에너지</td>\n",
       "    </tr>\n",
       "    <tr>\n",
       "      <th>1</th>\n",
       "      <td>GS칼텍스(주)직영 산성주유소</td>\n",
       "      <td>서울 강남구 헌릉로 730</td>\n",
       "      <td>1385</td>\n",
       "      <td>Y</td>\n",
       "      <td>GS칼텍스</td>\n",
       "    </tr>\n",
       "    <tr>\n",
       "      <th>2</th>\n",
       "      <td>현대오일뱅크 도곡셀프주유소</td>\n",
       "      <td>서울 강남구  남부순환로 2718 (도곡2동)</td>\n",
       "      <td>1394</td>\n",
       "      <td>Y</td>\n",
       "      <td>현대오일뱅크</td>\n",
       "    </tr>\n",
       "    <tr>\n",
       "      <th>3</th>\n",
       "      <td>오일프러스 셀프</td>\n",
       "      <td>서울 강남구 남부순환로 2651 (도곡동)</td>\n",
       "      <td>1394</td>\n",
       "      <td>Y</td>\n",
       "      <td>SK에너지</td>\n",
       "    </tr>\n",
       "    <tr>\n",
       "      <th>4</th>\n",
       "      <td>방죽주유소</td>\n",
       "      <td>서울 강남구 밤고개로 215 (율현동)</td>\n",
       "      <td>1399</td>\n",
       "      <td>Y</td>\n",
       "      <td>S-OIL</td>\n",
       "    </tr>\n",
       "  </tbody>\n",
       "</table>\n",
       "</div>"
      ],
      "text/plain": [
       "          Oil_store                         주소    가격 셀프      상표\n",
       "0       (주)보성 세곡주유소      서울 강남구  헌릉로 731 (세곡동)  1375  Y   SK에너지\n",
       "1  GS칼텍스(주)직영 산성주유소             서울 강남구 헌릉로 730  1385  Y   GS칼텍스\n",
       "2    현대오일뱅크 도곡셀프주유소  서울 강남구  남부순환로 2718 (도곡2동)  1394  Y  현대오일뱅크\n",
       "3          오일프러스 셀프    서울 강남구 남부순환로 2651 (도곡동)  1394  Y   SK에너지\n",
       "4             방죽주유소      서울 강남구 밤고개로 215 (율현동)  1399  Y   S-OIL"
      ]
     },
     "execution_count": 98,
     "metadata": {},
     "output_type": "execute_result"
    }
   ],
   "source": [
    "# 원하는 컬럼 가지고 오고 이름도 다시 정의 stations 라는 변수에 저장 \n",
    "stations = pd.DataFrame({\"Oil_store\": station_raw[\"상호\"],\n",
    "                           \"주소\": station_raw[\"주소\"],\n",
    "                           \"가격\": station_raw[\"휘발유\"],\n",
    "                           \"셀프\": station_raw[\"셀프여부\"],\n",
    "                           \"상표\": station_raw[\"상표\"] })\n",
    "stations.head()"
   ]
  },
  {
   "cell_type": "markdown",
   "metadata": {},
   "source": [
    "> 구 이름 추출 \n",
    "<code>\n",
    "    eachAddress = \"서울 강남구 현릉로 731(세곡동)\"\n",
    "    eachAddress.split() \n",
    "</code>\n",
    "* ['서울', '강남구', '현릉로', '731(세곡동)']\n",
    "* eachAddress.split()[1] -> 강남구  # 2번째 자리 "
   ]
  },
  {
   "cell_type": "code",
   "execution_count": 101,
   "metadata": {
    "ExecuteTime": {
     "end_time": "2020-10-04T09:25:30.375247Z",
     "start_time": "2020-10-04T09:25:30.366308Z"
    }
   },
   "outputs": [
    {
     "data": {
      "text/plain": [
       "['서울', '강남구', '현릉로', '731(세곡동)']"
      ]
     },
     "execution_count": 101,
     "metadata": {},
     "output_type": "execute_result"
    }
   ],
   "source": [
    "eachAddress = \"서울 강남구 현릉로 731(세곡동)\"\n",
    "eachAddress.split() "
   ]
  },
  {
   "cell_type": "code",
   "execution_count": 102,
   "metadata": {
    "ExecuteTime": {
     "end_time": "2020-10-04T09:25:34.196336Z",
     "start_time": "2020-10-04T09:25:34.174362Z"
    }
   },
   "outputs": [
    {
     "data": {
      "text/html": [
       "<div>\n",
       "<style scoped>\n",
       "    .dataframe tbody tr th:only-of-type {\n",
       "        vertical-align: middle;\n",
       "    }\n",
       "\n",
       "    .dataframe tbody tr th {\n",
       "        vertical-align: top;\n",
       "    }\n",
       "\n",
       "    .dataframe thead th {\n",
       "        text-align: right;\n",
       "    }\n",
       "</style>\n",
       "<table border=\"1\" class=\"dataframe\">\n",
       "  <thead>\n",
       "    <tr style=\"text-align: right;\">\n",
       "      <th></th>\n",
       "      <th>Oil_store</th>\n",
       "      <th>주소</th>\n",
       "      <th>가격</th>\n",
       "      <th>셀프</th>\n",
       "      <th>상표</th>\n",
       "      <th>구</th>\n",
       "    </tr>\n",
       "  </thead>\n",
       "  <tbody>\n",
       "    <tr>\n",
       "      <th>0</th>\n",
       "      <td>(주)보성 세곡주유소</td>\n",
       "      <td>서울 강남구  헌릉로 731 (세곡동)</td>\n",
       "      <td>1375</td>\n",
       "      <td>Y</td>\n",
       "      <td>SK에너지</td>\n",
       "      <td>강남구</td>\n",
       "    </tr>\n",
       "    <tr>\n",
       "      <th>1</th>\n",
       "      <td>GS칼텍스(주)직영 산성주유소</td>\n",
       "      <td>서울 강남구 헌릉로 730</td>\n",
       "      <td>1385</td>\n",
       "      <td>Y</td>\n",
       "      <td>GS칼텍스</td>\n",
       "      <td>강남구</td>\n",
       "    </tr>\n",
       "    <tr>\n",
       "      <th>2</th>\n",
       "      <td>현대오일뱅크 도곡셀프주유소</td>\n",
       "      <td>서울 강남구  남부순환로 2718 (도곡2동)</td>\n",
       "      <td>1394</td>\n",
       "      <td>Y</td>\n",
       "      <td>현대오일뱅크</td>\n",
       "      <td>강남구</td>\n",
       "    </tr>\n",
       "    <tr>\n",
       "      <th>3</th>\n",
       "      <td>오일프러스 셀프</td>\n",
       "      <td>서울 강남구 남부순환로 2651 (도곡동)</td>\n",
       "      <td>1394</td>\n",
       "      <td>Y</td>\n",
       "      <td>SK에너지</td>\n",
       "      <td>강남구</td>\n",
       "    </tr>\n",
       "    <tr>\n",
       "      <th>4</th>\n",
       "      <td>방죽주유소</td>\n",
       "      <td>서울 강남구 밤고개로 215 (율현동)</td>\n",
       "      <td>1399</td>\n",
       "      <td>Y</td>\n",
       "      <td>S-OIL</td>\n",
       "      <td>강남구</td>\n",
       "    </tr>\n",
       "  </tbody>\n",
       "</table>\n",
       "</div>"
      ],
      "text/plain": [
       "          Oil_store                         주소    가격 셀프      상표    구\n",
       "0       (주)보성 세곡주유소      서울 강남구  헌릉로 731 (세곡동)  1375  Y   SK에너지  강남구\n",
       "1  GS칼텍스(주)직영 산성주유소             서울 강남구 헌릉로 730  1385  Y   GS칼텍스  강남구\n",
       "2    현대오일뱅크 도곡셀프주유소  서울 강남구  남부순환로 2718 (도곡2동)  1394  Y  현대오일뱅크  강남구\n",
       "3          오일프러스 셀프    서울 강남구 남부순환로 2651 (도곡동)  1394  Y   SK에너지  강남구\n",
       "4             방죽주유소      서울 강남구 밤고개로 215 (율현동)  1399  Y   S-OIL  강남구"
      ]
     },
     "execution_count": 102,
     "metadata": {},
     "output_type": "execute_result"
    }
   ],
   "source": [
    "# 구 이름 추출 \n",
    "stations['구']  = [eachAddress.split()[1] for eachAddress in stations[\"주소\"]] \n",
    "stations.head()"
   ]
  },
  {
   "cell_type": "code",
   "execution_count": 103,
   "metadata": {
    "ExecuteTime": {
     "end_time": "2020-10-04T09:26:40.691655Z",
     "start_time": "2020-10-04T09:26:40.671944Z"
    }
   },
   "outputs": [
    {
     "data": {
      "text/plain": [
       "array(['강남구', '도봉구', '동대문구', '동작구', '마포구', '서대문구', '서초구', '성동구', '성북구',\n",
       "       '송파구', '양천구', '강동구', '영등포구', '용산구', '은평구', '종로구', '중구', '중랑구',\n",
       "       '강북구', '강서구', '관악구', '광진구', '구로구', '금정구', '금천구', '노원구'],\n",
       "      dtype=object)"
      ]
     },
     "execution_count": 103,
     "metadata": {},
     "output_type": "execute_result"
    }
   ],
   "source": [
    "# unique() 검사 \n",
    "stations[\"구\"].unique() # 잘 뽑혔는지 확인 "
   ]
  },
  {
   "cell_type": "code",
   "execution_count": 105,
   "metadata": {
    "ExecuteTime": {
     "end_time": "2020-10-04T09:28:20.193933Z",
     "start_time": "2020-10-04T09:28:20.170006Z"
    },
    "scrolled": true
   },
   "outputs": [
    {
     "data": {
      "text/html": [
       "<div>\n",
       "<style scoped>\n",
       "    .dataframe tbody tr th:only-of-type {\n",
       "        vertical-align: middle;\n",
       "    }\n",
       "\n",
       "    .dataframe tbody tr th {\n",
       "        vertical-align: top;\n",
       "    }\n",
       "\n",
       "    .dataframe thead th {\n",
       "        text-align: right;\n",
       "    }\n",
       "</style>\n",
       "<table border=\"1\" class=\"dataframe\">\n",
       "  <thead>\n",
       "    <tr style=\"text-align: right;\">\n",
       "      <th></th>\n",
       "      <th>Oil_store</th>\n",
       "      <th>주소</th>\n",
       "      <th>가격</th>\n",
       "      <th>셀프</th>\n",
       "      <th>상표</th>\n",
       "      <th>구</th>\n",
       "    </tr>\n",
       "  </thead>\n",
       "  <tbody>\n",
       "    <tr>\n",
       "      <th>0</th>\n",
       "      <td>(주)보성 세곡주유소</td>\n",
       "      <td>서울 강남구  헌릉로 731 (세곡동)</td>\n",
       "      <td>1375</td>\n",
       "      <td>Y</td>\n",
       "      <td>SK에너지</td>\n",
       "      <td>강남구</td>\n",
       "    </tr>\n",
       "    <tr>\n",
       "      <th>1</th>\n",
       "      <td>GS칼텍스(주)직영 산성주유소</td>\n",
       "      <td>서울 강남구 헌릉로 730</td>\n",
       "      <td>1385</td>\n",
       "      <td>Y</td>\n",
       "      <td>GS칼텍스</td>\n",
       "      <td>강남구</td>\n",
       "    </tr>\n",
       "    <tr>\n",
       "      <th>2</th>\n",
       "      <td>현대오일뱅크 도곡셀프주유소</td>\n",
       "      <td>서울 강남구  남부순환로 2718 (도곡2동)</td>\n",
       "      <td>1394</td>\n",
       "      <td>Y</td>\n",
       "      <td>현대오일뱅크</td>\n",
       "      <td>강남구</td>\n",
       "    </tr>\n",
       "    <tr>\n",
       "      <th>3</th>\n",
       "      <td>오일프러스 셀프</td>\n",
       "      <td>서울 강남구 남부순환로 2651 (도곡동)</td>\n",
       "      <td>1394</td>\n",
       "      <td>Y</td>\n",
       "      <td>SK에너지</td>\n",
       "      <td>강남구</td>\n",
       "    </tr>\n",
       "    <tr>\n",
       "      <th>4</th>\n",
       "      <td>방죽주유소</td>\n",
       "      <td>서울 강남구 밤고개로 215 (율현동)</td>\n",
       "      <td>1399</td>\n",
       "      <td>Y</td>\n",
       "      <td>S-OIL</td>\n",
       "      <td>강남구</td>\n",
       "    </tr>\n",
       "    <tr>\n",
       "      <th>5</th>\n",
       "      <td>현대오일뱅크(주) 유진주유소</td>\n",
       "      <td>서울 강남구 논현로 152 (도곡동)</td>\n",
       "      <td>1408</td>\n",
       "      <td>N</td>\n",
       "      <td>현대오일뱅크</td>\n",
       "      <td>강남구</td>\n",
       "    </tr>\n",
       "    <tr>\n",
       "      <th>6</th>\n",
       "      <td>자곡셀프주유소</td>\n",
       "      <td>서울 강남구 밤고개로 120 (자곡동)</td>\n",
       "      <td>1410</td>\n",
       "      <td>Y</td>\n",
       "      <td>SK에너지</td>\n",
       "      <td>강남구</td>\n",
       "    </tr>\n",
       "    <tr>\n",
       "      <th>7</th>\n",
       "      <td>지에스칼텍스㈜ 은마주유소</td>\n",
       "      <td>서울 강남구 영동대로 235</td>\n",
       "      <td>1415</td>\n",
       "      <td>N</td>\n",
       "      <td>GS칼텍스</td>\n",
       "      <td>강남구</td>\n",
       "    </tr>\n",
       "    <tr>\n",
       "      <th>8</th>\n",
       "      <td>SK서광주유소</td>\n",
       "      <td>서울 강남구 역삼로 142 (역삼동)</td>\n",
       "      <td>1415</td>\n",
       "      <td>Y</td>\n",
       "      <td>SK에너지</td>\n",
       "      <td>강남구</td>\n",
       "    </tr>\n",
       "    <tr>\n",
       "      <th>9</th>\n",
       "      <td>(주)선진도곡주유소</td>\n",
       "      <td>서울 강남구 도곡로 162 (도곡동)</td>\n",
       "      <td>1415</td>\n",
       "      <td>N</td>\n",
       "      <td>S-OIL</td>\n",
       "      <td>강남구</td>\n",
       "    </tr>\n",
       "    <tr>\n",
       "      <th>10</th>\n",
       "      <td>역삼주유소</td>\n",
       "      <td>서울 강남구 역삼로 205 (역삼동)</td>\n",
       "      <td>1415</td>\n",
       "      <td>N</td>\n",
       "      <td>GS칼텍스</td>\n",
       "      <td>강남구</td>\n",
       "    </tr>\n",
       "    <tr>\n",
       "      <th>11</th>\n",
       "      <td>에쓰-오일㈜직영 개나리주유소</td>\n",
       "      <td>서울 강남구 언주로 423 (역삼동)</td>\n",
       "      <td>1415</td>\n",
       "      <td>N</td>\n",
       "      <td>S-OIL</td>\n",
       "      <td>강남구</td>\n",
       "    </tr>\n",
       "    <tr>\n",
       "      <th>12</th>\n",
       "      <td>SK에너지(주) 매봉주유소</td>\n",
       "      <td>서울 강남구 언주로 307</td>\n",
       "      <td>1415</td>\n",
       "      <td>Y</td>\n",
       "      <td>SK에너지</td>\n",
       "      <td>강남구</td>\n",
       "    </tr>\n",
       "    <tr>\n",
       "      <th>13</th>\n",
       "      <td>지에스칼텍스㈜ GS타워주유소</td>\n",
       "      <td>서울 강남구 논현로 516 (역삼동)</td>\n",
       "      <td>1415</td>\n",
       "      <td>N</td>\n",
       "      <td>GS칼텍스</td>\n",
       "      <td>강남구</td>\n",
       "    </tr>\n",
       "    <tr>\n",
       "      <th>14</th>\n",
       "      <td>SK에너지㈜ 진달래주유소</td>\n",
       "      <td>서울 강남구 도곡로 208</td>\n",
       "      <td>1415</td>\n",
       "      <td>N</td>\n",
       "      <td>SK에너지</td>\n",
       "      <td>강남구</td>\n",
       "    </tr>\n",
       "    <tr>\n",
       "      <th>15</th>\n",
       "      <td>지에스칼텍스㈜ 주성주유소</td>\n",
       "      <td>서울 강남구 영동대로 716</td>\n",
       "      <td>1415</td>\n",
       "      <td>N</td>\n",
       "      <td>GS칼텍스</td>\n",
       "      <td>강남구</td>\n",
       "    </tr>\n",
       "    <tr>\n",
       "      <th>16</th>\n",
       "      <td>(유)동하석유 힐탑셀프주유소</td>\n",
       "      <td>서울 강남구 논현로 640</td>\n",
       "      <td>1435</td>\n",
       "      <td>Y</td>\n",
       "      <td>SK에너지</td>\n",
       "      <td>강남구</td>\n",
       "    </tr>\n",
       "    <tr>\n",
       "      <th>17</th>\n",
       "      <td>현대오일뱅크㈜직영 오천주유소</td>\n",
       "      <td>서울 강남구 봉은사로 503 (삼성동)</td>\n",
       "      <td>1441</td>\n",
       "      <td>N</td>\n",
       "      <td>현대오일뱅크</td>\n",
       "      <td>강남구</td>\n",
       "    </tr>\n",
       "    <tr>\n",
       "      <th>18</th>\n",
       "      <td>지에스칼텍스㈜ 삼성로주유소</td>\n",
       "      <td>서울 강남구 삼성로 563 (삼성동)</td>\n",
       "      <td>1441</td>\n",
       "      <td>Y</td>\n",
       "      <td>GS칼텍스</td>\n",
       "      <td>강남구</td>\n",
       "    </tr>\n",
       "    <tr>\n",
       "      <th>19</th>\n",
       "      <td>일원주유소</td>\n",
       "      <td>서울 강남구 양재대로55길 3 (일원동)</td>\n",
       "      <td>1448</td>\n",
       "      <td>Y</td>\n",
       "      <td>S-OIL</td>\n",
       "      <td>강남구</td>\n",
       "    </tr>\n",
       "    <tr>\n",
       "      <th>20</th>\n",
       "      <td>(주)중앙에너비스 수서지점</td>\n",
       "      <td>서울 강남구 광평로 202 (수서동)</td>\n",
       "      <td>1448</td>\n",
       "      <td>Y</td>\n",
       "      <td>SK에너지</td>\n",
       "      <td>강남구</td>\n",
       "    </tr>\n",
       "    <tr>\n",
       "      <th>21</th>\n",
       "      <td>대동석유 압구정주유소</td>\n",
       "      <td>서울 강남구 언주로 842 (신사동)</td>\n",
       "      <td>1453</td>\n",
       "      <td>Y</td>\n",
       "      <td>SK에너지</td>\n",
       "      <td>강남구</td>\n",
       "    </tr>\n",
       "    <tr>\n",
       "      <th>22</th>\n",
       "      <td>현대오일뱅크㈜직영 삼성동주유소</td>\n",
       "      <td>서울 강남구 테헤란로 619 (삼성동)</td>\n",
       "      <td>1461</td>\n",
       "      <td>N</td>\n",
       "      <td>현대오일뱅크</td>\n",
       "      <td>강남구</td>\n",
       "    </tr>\n",
       "    <tr>\n",
       "      <th>23</th>\n",
       "      <td>에스제이에너지산업(주) 개포주유소</td>\n",
       "      <td>서울 강남구 양재대로 339</td>\n",
       "      <td>1498</td>\n",
       "      <td>N</td>\n",
       "      <td>GS칼텍스</td>\n",
       "      <td>강남구</td>\n",
       "    </tr>\n",
       "    <tr>\n",
       "      <th>24</th>\n",
       "      <td>논현동주유소</td>\n",
       "      <td>서울 강남구 학동로 229 (논현동)</td>\n",
       "      <td>1527</td>\n",
       "      <td>Y</td>\n",
       "      <td>GS칼텍스</td>\n",
       "      <td>강남구</td>\n",
       "    </tr>\n",
       "    <tr>\n",
       "      <th>25</th>\n",
       "      <td>대교주유소</td>\n",
       "      <td>서울 강남구 강남대로 640 (신사동)</td>\n",
       "      <td>1550</td>\n",
       "      <td>N</td>\n",
       "      <td>SK에너지</td>\n",
       "      <td>강남구</td>\n",
       "    </tr>\n",
       "    <tr>\n",
       "      <th>26</th>\n",
       "      <td>현대오일뱅크(주)직영 신사현대주유소</td>\n",
       "      <td>서울 강남구 도산대로 163 (신사동)</td>\n",
       "      <td>1586</td>\n",
       "      <td>N</td>\n",
       "      <td>현대오일뱅크</td>\n",
       "      <td>강남구</td>\n",
       "    </tr>\n",
       "    <tr>\n",
       "      <th>27</th>\n",
       "      <td>㈜새서울석유 새서울주유소</td>\n",
       "      <td>서울 강남구 압구정로 154</td>\n",
       "      <td>1637</td>\n",
       "      <td>N</td>\n",
       "      <td>현대오일뱅크</td>\n",
       "      <td>강남구</td>\n",
       "    </tr>\n",
       "    <tr>\n",
       "      <th>28</th>\n",
       "      <td>현대오일뱅크(주)직영 한양주유소</td>\n",
       "      <td>서울 강남구 압구정로 302 (신사동)</td>\n",
       "      <td>1638</td>\n",
       "      <td>N</td>\n",
       "      <td>현대오일뱅크</td>\n",
       "      <td>강남구</td>\n",
       "    </tr>\n",
       "    <tr>\n",
       "      <th>29</th>\n",
       "      <td>명품주유소</td>\n",
       "      <td>서울 강남구 도곡로 249 (역삼동)</td>\n",
       "      <td>1698</td>\n",
       "      <td>N</td>\n",
       "      <td>S-OIL</td>\n",
       "      <td>강남구</td>\n",
       "    </tr>\n",
       "    <tr>\n",
       "      <th>30</th>\n",
       "      <td>대성석유(주)동호주유소</td>\n",
       "      <td>서울 강남구 봉은사로113길 51</td>\n",
       "      <td>1777</td>\n",
       "      <td>N</td>\n",
       "      <td>GS칼텍스</td>\n",
       "      <td>강남구</td>\n",
       "    </tr>\n",
       "    <tr>\n",
       "      <th>31</th>\n",
       "      <td>대청주유소</td>\n",
       "      <td>서울 강남구 개포로 654 (일원동)</td>\n",
       "      <td>1779</td>\n",
       "      <td>N</td>\n",
       "      <td>SK에너지</td>\n",
       "      <td>강남구</td>\n",
       "    </tr>\n",
       "    <tr>\n",
       "      <th>32</th>\n",
       "      <td>SK논현주유소</td>\n",
       "      <td>서울 강남구 논현로 747 (논현동)</td>\n",
       "      <td>1788</td>\n",
       "      <td>N</td>\n",
       "      <td>SK에너지</td>\n",
       "      <td>강남구</td>\n",
       "    </tr>\n",
       "    <tr>\n",
       "      <th>33</th>\n",
       "      <td>경원주유소</td>\n",
       "      <td>서울 강남구 도산대로 428 (청담동)</td>\n",
       "      <td>1845</td>\n",
       "      <td>N</td>\n",
       "      <td>S-OIL</td>\n",
       "      <td>강남구</td>\n",
       "    </tr>\n",
       "    <tr>\n",
       "      <th>34</th>\n",
       "      <td>갤러리아주유소</td>\n",
       "      <td>서울 강남구 압구정로 426 (청담동)</td>\n",
       "      <td>1848</td>\n",
       "      <td>N</td>\n",
       "      <td>SK에너지</td>\n",
       "      <td>강남구</td>\n",
       "    </tr>\n",
       "    <tr>\n",
       "      <th>35</th>\n",
       "      <td>학여울주유소</td>\n",
       "      <td>서울 강남구  남부순환로 3170 (일원2동)</td>\n",
       "      <td>1883</td>\n",
       "      <td>N</td>\n",
       "      <td>GS칼텍스</td>\n",
       "      <td>강남구</td>\n",
       "    </tr>\n",
       "    <tr>\n",
       "      <th>36</th>\n",
       "      <td>(주)소모에너지엔테크놀러지 쎈트럴주유소</td>\n",
       "      <td>서울 강남구 삼성로 335 (대치동)</td>\n",
       "      <td>1913</td>\n",
       "      <td>N</td>\n",
       "      <td>GS칼텍스</td>\n",
       "      <td>강남구</td>\n",
       "    </tr>\n",
       "    <tr>\n",
       "      <th>37</th>\n",
       "      <td>(주)만정에너지</td>\n",
       "      <td>서울 강남구 봉은사로 433 (삼성동)</td>\n",
       "      <td>1913</td>\n",
       "      <td>N</td>\n",
       "      <td>GS칼텍스</td>\n",
       "      <td>강남구</td>\n",
       "    </tr>\n",
       "    <tr>\n",
       "      <th>38</th>\n",
       "      <td>뉴서울(강남)</td>\n",
       "      <td>서울 강남구 언주로 716 (논현동)</td>\n",
       "      <td>2025</td>\n",
       "      <td>N</td>\n",
       "      <td>SK에너지</td>\n",
       "      <td>강남구</td>\n",
       "    </tr>\n",
       "    <tr>\n",
       "      <th>39</th>\n",
       "      <td>삼성주유소</td>\n",
       "      <td>서울 강남구 삼성로 521 (삼성동)</td>\n",
       "      <td>-</td>\n",
       "      <td>N</td>\n",
       "      <td>SK에너지</td>\n",
       "      <td>강남구</td>\n",
       "    </tr>\n",
       "    <tr>\n",
       "      <th>40</th>\n",
       "      <td>동우주유소</td>\n",
       "      <td>서울특별시 강남구  봉은사로 311 (논현동)</td>\n",
       "      <td>-</td>\n",
       "      <td>N</td>\n",
       "      <td>SK에너지</td>\n",
       "      <td>강남구</td>\n",
       "    </tr>\n",
       "  </tbody>\n",
       "</table>\n",
       "</div>"
      ],
      "text/plain": [
       "                Oil_store                         주소    가격 셀프      상표    구\n",
       "0             (주)보성 세곡주유소      서울 강남구  헌릉로 731 (세곡동)  1375  Y   SK에너지  강남구\n",
       "1        GS칼텍스(주)직영 산성주유소             서울 강남구 헌릉로 730  1385  Y   GS칼텍스  강남구\n",
       "2          현대오일뱅크 도곡셀프주유소  서울 강남구  남부순환로 2718 (도곡2동)  1394  Y  현대오일뱅크  강남구\n",
       "3                오일프러스 셀프    서울 강남구 남부순환로 2651 (도곡동)  1394  Y   SK에너지  강남구\n",
       "4                   방죽주유소      서울 강남구 밤고개로 215 (율현동)  1399  Y   S-OIL  강남구\n",
       "5         현대오일뱅크(주) 유진주유소       서울 강남구 논현로 152 (도곡동)  1408  N  현대오일뱅크  강남구\n",
       "6                 자곡셀프주유소      서울 강남구 밤고개로 120 (자곡동)  1410  Y   SK에너지  강남구\n",
       "7           지에스칼텍스㈜ 은마주유소            서울 강남구 영동대로 235  1415  N   GS칼텍스  강남구\n",
       "8                 SK서광주유소       서울 강남구 역삼로 142 (역삼동)  1415  Y   SK에너지  강남구\n",
       "9              (주)선진도곡주유소       서울 강남구 도곡로 162 (도곡동)  1415  N   S-OIL  강남구\n",
       "10                  역삼주유소       서울 강남구 역삼로 205 (역삼동)  1415  N   GS칼텍스  강남구\n",
       "11        에쓰-오일㈜직영 개나리주유소       서울 강남구 언주로 423 (역삼동)  1415  N   S-OIL  강남구\n",
       "12         SK에너지(주) 매봉주유소             서울 강남구 언주로 307  1415  Y   SK에너지  강남구\n",
       "13        지에스칼텍스㈜ GS타워주유소       서울 강남구 논현로 516 (역삼동)  1415  N   GS칼텍스  강남구\n",
       "14          SK에너지㈜ 진달래주유소             서울 강남구 도곡로 208  1415  N   SK에너지  강남구\n",
       "15          지에스칼텍스㈜ 주성주유소            서울 강남구 영동대로 716  1415  N   GS칼텍스  강남구\n",
       "16        (유)동하석유 힐탑셀프주유소             서울 강남구 논현로 640  1435  Y   SK에너지  강남구\n",
       "17        현대오일뱅크㈜직영 오천주유소      서울 강남구 봉은사로 503 (삼성동)  1441  N  현대오일뱅크  강남구\n",
       "18         지에스칼텍스㈜ 삼성로주유소       서울 강남구 삼성로 563 (삼성동)  1441  Y   GS칼텍스  강남구\n",
       "19                  일원주유소     서울 강남구 양재대로55길 3 (일원동)  1448  Y   S-OIL  강남구\n",
       "20         (주)중앙에너비스 수서지점       서울 강남구 광평로 202 (수서동)  1448  Y   SK에너지  강남구\n",
       "21            대동석유 압구정주유소       서울 강남구 언주로 842 (신사동)  1453  Y   SK에너지  강남구\n",
       "22       현대오일뱅크㈜직영 삼성동주유소      서울 강남구 테헤란로 619 (삼성동)  1461  N  현대오일뱅크  강남구\n",
       "23     에스제이에너지산업(주) 개포주유소            서울 강남구 양재대로 339  1498  N   GS칼텍스  강남구\n",
       "24                 논현동주유소       서울 강남구 학동로 229 (논현동)  1527  Y   GS칼텍스  강남구\n",
       "25                  대교주유소      서울 강남구 강남대로 640 (신사동)  1550  N   SK에너지  강남구\n",
       "26    현대오일뱅크(주)직영 신사현대주유소      서울 강남구 도산대로 163 (신사동)  1586  N  현대오일뱅크  강남구\n",
       "27          ㈜새서울석유 새서울주유소            서울 강남구 압구정로 154  1637  N  현대오일뱅크  강남구\n",
       "28      현대오일뱅크(주)직영 한양주유소      서울 강남구 압구정로 302 (신사동)  1638  N  현대오일뱅크  강남구\n",
       "29                  명품주유소       서울 강남구 도곡로 249 (역삼동)  1698  N   S-OIL  강남구\n",
       "30           대성석유(주)동호주유소         서울 강남구 봉은사로113길 51  1777  N   GS칼텍스  강남구\n",
       "31                  대청주유소       서울 강남구 개포로 654 (일원동)  1779  N   SK에너지  강남구\n",
       "32                SK논현주유소       서울 강남구 논현로 747 (논현동)  1788  N   SK에너지  강남구\n",
       "33                  경원주유소      서울 강남구 도산대로 428 (청담동)  1845  N   S-OIL  강남구\n",
       "34                갤러리아주유소      서울 강남구 압구정로 426 (청담동)  1848  N   SK에너지  강남구\n",
       "35                 학여울주유소  서울 강남구  남부순환로 3170 (일원2동)  1883  N   GS칼텍스  강남구\n",
       "36  (주)소모에너지엔테크놀러지 쎈트럴주유소       서울 강남구 삼성로 335 (대치동)  1913  N   GS칼텍스  강남구\n",
       "37               (주)만정에너지      서울 강남구 봉은사로 433 (삼성동)  1913  N   GS칼텍스  강남구\n",
       "38                뉴서울(강남)       서울 강남구 언주로 716 (논현동)  2025  N   SK에너지  강남구\n",
       "39                  삼성주유소       서울 강남구 삼성로 521 (삼성동)     -  N   SK에너지  강남구\n",
       "40                  동우주유소  서울특별시 강남구  봉은사로 311 (논현동)     -  N   SK에너지  강남구"
      ]
     },
     "execution_count": 105,
     "metadata": {},
     "output_type": "execute_result"
    }
   ],
   "source": [
    "# 강남구\n",
    "stations[stations[\"구\"] == \"강남구\"]"
   ]
  },
  {
   "cell_type": "markdown",
   "metadata": {},
   "source": [
    "> if 서울특별시로 잘못 뽑힌 경우 \n",
    "* <code> stations[stations[\"구\"] == \"서울특별시\"] </code>\n",
    "* 구가 서울특별시로 들어간 애들은 구를 성동구로 바꾸는 코드 \n",
    "* <code> stations.loc[stations[\"구\"] == \"서울특별시\", \"구\"] ==\"성동구\"</code>\n",
    "\n",
    "> if 특별시로 잘못 뽑힌 경우 \n",
    "* <code> stations[stations[\"구\"] == \"특별시\"] </code>\n",
    "* 구가 특별시로 들어간 애들은 구를 도봉구로 바꾸는 코드 \n",
    "* <code> stations.loc[stations[\"구\"] == \"특별시\", \"구\"] ==\"도봉구\"</code>"
   ]
  },
  {
   "cell_type": "code",
   "execution_count": 110,
   "metadata": {
    "ExecuteTime": {
     "end_time": "2020-10-04T09:54:51.134203Z",
     "start_time": "2020-10-04T09:54:51.112126Z"
    }
   },
   "outputs": [
    {
     "data": {
      "text/html": [
       "<div>\n",
       "<style scoped>\n",
       "    .dataframe tbody tr th:only-of-type {\n",
       "        vertical-align: middle;\n",
       "    }\n",
       "\n",
       "    .dataframe tbody tr th {\n",
       "        vertical-align: top;\n",
       "    }\n",
       "\n",
       "    .dataframe thead th {\n",
       "        text-align: right;\n",
       "    }\n",
       "</style>\n",
       "<table border=\"1\" class=\"dataframe\">\n",
       "  <thead>\n",
       "    <tr style=\"text-align: right;\">\n",
       "      <th></th>\n",
       "      <th>Oil_store</th>\n",
       "      <th>주소</th>\n",
       "      <th>가격</th>\n",
       "      <th>셀프</th>\n",
       "      <th>상표</th>\n",
       "      <th>구</th>\n",
       "    </tr>\n",
       "  </thead>\n",
       "  <tbody>\n",
       "  </tbody>\n",
       "</table>\n",
       "</div>"
      ],
      "text/plain": [
       "Empty DataFrame\n",
       "Columns: [Oil_store, 주소, 가격, 셀프, 상표, 구]\n",
       "Index: []"
      ]
     },
     "execution_count": 110,
     "metadata": {},
     "output_type": "execute_result"
    }
   ],
   "source": [
    "stations[stations[\"구\"] == \"특별시\"]  # 없음 "
   ]
  },
  {
   "cell_type": "markdown",
   "metadata": {},
   "source": [
    "* **\n",
    "> 가격을 object 로 인식하는 문제 \n",
    "* 1. 가격에 - 이 포함되는 경우 확인 \n",
    "* 2. 정보가 기입되지 않은 주유소는 대상에서 제외 \n",
    "* 3. 정보를 숫자형으로 변환 "
   ]
  },
  {
   "cell_type": "code",
   "execution_count": 112,
   "metadata": {
    "ExecuteTime": {
     "end_time": "2020-10-04T12:30:57.856785Z",
     "start_time": "2020-10-04T12:30:57.836219Z"
    },
    "scrolled": true
   },
   "outputs": [
    {
     "data": {
      "text/plain": [
       "array(['1375', '1385', '1394', '1399', '1408', '1410', '1415', '1435',\n",
       "       '1441', '1448', '1453', '1461', '1498', '1527', '1550', '1586',\n",
       "       '1637', '1638', '1698', '1777', '1779', '1788', '1845', '1848',\n",
       "       '1883', '1913', '2025', '-', 1290, 1295, 1305, 1319, 1327, 1330,\n",
       "       1338, 1339, 1353, 1355, 1395, 1399, 1418, 1557, 1292, 1298, 1325,\n",
       "       1329, 1345, 1347, 1348, 1359, 1369, 1398, 1438, 1499, 1563, 1358,\n",
       "       1378, 1379, 1389, 1429, 1495, '1367', '1377', '1398', '1436',\n",
       "       '1438', '1574', '1679', '1697', 1354, 1375, '1288', '1395', '1396',\n",
       "       '1400', '1405', '1409', '1417', '1419', '1422', '1428', '1429',\n",
       "       '1439', '1442', '1462', '1497', '1539', '1682', '1877', 1308, 1365,\n",
       "       1390, 1394, 1445, 1448, 1468, 1470, 1496, 1595, 1685, 1698, 1705,\n",
       "       1275, 1285, 1299, 1317, 1324, 1335, 1337, 1349, 1391, 1414, 1457,\n",
       "       1368, 1382, 1383, 1387, 1388, 1393, 1397, 1407, 1409, 1422, 1427,\n",
       "       1629, 1274, 1306, 1316, 1385, 1439, 1599, 1677, 1415, 1425, 1428,\n",
       "       1435, 1455, 1456, 1465, 1478, 1498, 1863, '1279', '1294', '1299',\n",
       "       '1319', '1329', '1338', '1345', '1348', '1349', '1358', '1368',\n",
       "       '1369', '1390', '1430', '1688', '1890', '1919', '1924', '1939',\n",
       "       1589, 1598, 1690, 1718, 1758, 1798, 1799, 1833, 1913, 1918, 1990,\n",
       "       1998, 2089, '1315', '1324', '1325', '1335', '1339', '1355', '1418',\n",
       "       1420, 1430, 1888, 1980, 1618, 1879, 1979, 2099, 2138, 2208, 1297,\n",
       "       1307, 1328, 1344, 1367, 1284, 1293, 1356, 1357, 1376, 1433, 1535,\n",
       "       1688, 1437, 1477, 1489, 1321, 1346, 1362, 1363, 1377, 1419, 1279,\n",
       "       1294, 1384, 1898, 1315, 1402, '1344', '1378', '1389', '1459',\n",
       "       '1480'], dtype=object)"
      ]
     },
     "execution_count": 112,
     "metadata": {},
     "output_type": "execute_result"
    }
   ],
   "source": [
    "# * 1. 가격에 - 이 포함되는 경우 확인 \n",
    "stations[\"가격\"].unique()"
   ]
  },
  {
   "cell_type": "code",
   "execution_count": 111,
   "metadata": {
    "ExecuteTime": {
     "end_time": "2020-10-04T12:30:20.668090Z",
     "start_time": "2020-10-04T12:30:20.644799Z"
    }
   },
   "outputs": [
    {
     "data": {
      "text/html": [
       "<div>\n",
       "<style scoped>\n",
       "    .dataframe tbody tr th:only-of-type {\n",
       "        vertical-align: middle;\n",
       "    }\n",
       "\n",
       "    .dataframe tbody tr th {\n",
       "        vertical-align: top;\n",
       "    }\n",
       "\n",
       "    .dataframe thead th {\n",
       "        text-align: right;\n",
       "    }\n",
       "</style>\n",
       "<table border=\"1\" class=\"dataframe\">\n",
       "  <thead>\n",
       "    <tr style=\"text-align: right;\">\n",
       "      <th></th>\n",
       "      <th>Oil_store</th>\n",
       "      <th>주소</th>\n",
       "      <th>가격</th>\n",
       "      <th>셀프</th>\n",
       "      <th>상표</th>\n",
       "      <th>구</th>\n",
       "    </tr>\n",
       "  </thead>\n",
       "  <tbody>\n",
       "    <tr>\n",
       "      <th>39</th>\n",
       "      <td>삼성주유소</td>\n",
       "      <td>서울 강남구 삼성로 521 (삼성동)</td>\n",
       "      <td>-</td>\n",
       "      <td>N</td>\n",
       "      <td>SK에너지</td>\n",
       "      <td>강남구</td>\n",
       "    </tr>\n",
       "    <tr>\n",
       "      <th>40</th>\n",
       "      <td>동우주유소</td>\n",
       "      <td>서울특별시 강남구  봉은사로 311 (논현동)</td>\n",
       "      <td>-</td>\n",
       "      <td>N</td>\n",
       "      <td>SK에너지</td>\n",
       "      <td>강남구</td>\n",
       "    </tr>\n",
       "    <tr>\n",
       "      <th>12</th>\n",
       "      <td>서강주유소</td>\n",
       "      <td>서울 마포구 독막로 134 (창전동)</td>\n",
       "      <td>-</td>\n",
       "      <td>N</td>\n",
       "      <td>SK에너지</td>\n",
       "      <td>마포구</td>\n",
       "    </tr>\n",
       "    <tr>\n",
       "      <th>33</th>\n",
       "      <td>중앙주유소</td>\n",
       "      <td>서울 서초구 양재동 바우뫼로 219 (양재동)</td>\n",
       "      <td>-</td>\n",
       "      <td>N</td>\n",
       "      <td>S-OIL</td>\n",
       "      <td>서초구</td>\n",
       "    </tr>\n",
       "    <tr>\n",
       "      <th>34</th>\n",
       "      <td>전당앞주유소</td>\n",
       "      <td>서울 서초구 남부순환로 2391 (서초동)</td>\n",
       "      <td>-</td>\n",
       "      <td>N</td>\n",
       "      <td>SK에너지</td>\n",
       "      <td>서초구</td>\n",
       "    </tr>\n",
       "    <tr>\n",
       "      <th>35</th>\n",
       "      <td>경일석유(주)직영 삼방주유소</td>\n",
       "      <td>서울 서초구 사평대로 364 (서초동)</td>\n",
       "      <td>-</td>\n",
       "      <td>N</td>\n",
       "      <td>GS칼텍스</td>\n",
       "      <td>서초구</td>\n",
       "    </tr>\n",
       "    <tr>\n",
       "      <th>31</th>\n",
       "      <td>성락주유소</td>\n",
       "      <td>서울 영등포구 가마산로 414 (신길동)</td>\n",
       "      <td>-</td>\n",
       "      <td>Y</td>\n",
       "      <td>S-OIL</td>\n",
       "      <td>영등포구</td>\n",
       "    </tr>\n",
       "    <tr>\n",
       "      <th>16</th>\n",
       "      <td>삼융주유소</td>\n",
       "      <td>서울 은평구 수색로 299 (수색동)</td>\n",
       "      <td>-</td>\n",
       "      <td>N</td>\n",
       "      <td>SK에너지</td>\n",
       "      <td>은평구</td>\n",
       "    </tr>\n",
       "    <tr>\n",
       "      <th>14</th>\n",
       "      <td>양지진흥개발(주)상계주유소</td>\n",
       "      <td>서울 노원구 노해로 527 (상계동)</td>\n",
       "      <td>-</td>\n",
       "      <td>N</td>\n",
       "      <td>SK에너지</td>\n",
       "      <td>노원구</td>\n",
       "    </tr>\n",
       "  </tbody>\n",
       "</table>\n",
       "</div>"
      ],
      "text/plain": [
       "          Oil_store                         주소 가격 셀프     상표     구\n",
       "39            삼성주유소       서울 강남구 삼성로 521 (삼성동)  -  N  SK에너지   강남구\n",
       "40            동우주유소  서울특별시 강남구  봉은사로 311 (논현동)  -  N  SK에너지   강남구\n",
       "12            서강주유소       서울 마포구 독막로 134 (창전동)  -  N  SK에너지   마포구\n",
       "33            중앙주유소  서울 서초구 양재동 바우뫼로 219 (양재동)  -  N  S-OIL   서초구\n",
       "34           전당앞주유소    서울 서초구 남부순환로 2391 (서초동)  -  N  SK에너지   서초구\n",
       "35  경일석유(주)직영 삼방주유소      서울 서초구 사평대로 364 (서초동)  -  N  GS칼텍스   서초구\n",
       "31            성락주유소     서울 영등포구 가마산로 414 (신길동)  -  Y  S-OIL  영등포구\n",
       "16            삼융주유소       서울 은평구 수색로 299 (수색동)  -  N  SK에너지   은평구\n",
       "14   양지진흥개발(주)상계주유소       서울 노원구 노해로 527 (상계동)  -  N  SK에너지   노원구"
      ]
     },
     "execution_count": 111,
     "metadata": {},
     "output_type": "execute_result"
    }
   ],
   "source": [
    "stations[stations[\"가격\"] == \"-\"]"
   ]
  },
  {
   "cell_type": "code",
   "execution_count": 113,
   "metadata": {
    "ExecuteTime": {
     "end_time": "2020-10-04T12:31:16.999745Z",
     "start_time": "2020-10-04T12:31:16.981841Z"
    }
   },
   "outputs": [
    {
     "data": {
      "text/html": [
       "<div>\n",
       "<style scoped>\n",
       "    .dataframe tbody tr th:only-of-type {\n",
       "        vertical-align: middle;\n",
       "    }\n",
       "\n",
       "    .dataframe tbody tr th {\n",
       "        vertical-align: top;\n",
       "    }\n",
       "\n",
       "    .dataframe thead th {\n",
       "        text-align: right;\n",
       "    }\n",
       "</style>\n",
       "<table border=\"1\" class=\"dataframe\">\n",
       "  <thead>\n",
       "    <tr style=\"text-align: right;\">\n",
       "      <th></th>\n",
       "      <th>Oil_store</th>\n",
       "      <th>주소</th>\n",
       "      <th>가격</th>\n",
       "      <th>셀프</th>\n",
       "      <th>상표</th>\n",
       "      <th>구</th>\n",
       "    </tr>\n",
       "  </thead>\n",
       "  <tbody>\n",
       "    <tr>\n",
       "      <th>0</th>\n",
       "      <td>(주)보성 세곡주유소</td>\n",
       "      <td>서울 강남구  헌릉로 731 (세곡동)</td>\n",
       "      <td>1375</td>\n",
       "      <td>Y</td>\n",
       "      <td>SK에너지</td>\n",
       "      <td>강남구</td>\n",
       "    </tr>\n",
       "    <tr>\n",
       "      <th>1</th>\n",
       "      <td>GS칼텍스(주)직영 산성주유소</td>\n",
       "      <td>서울 강남구 헌릉로 730</td>\n",
       "      <td>1385</td>\n",
       "      <td>Y</td>\n",
       "      <td>GS칼텍스</td>\n",
       "      <td>강남구</td>\n",
       "    </tr>\n",
       "    <tr>\n",
       "      <th>2</th>\n",
       "      <td>현대오일뱅크 도곡셀프주유소</td>\n",
       "      <td>서울 강남구  남부순환로 2718 (도곡2동)</td>\n",
       "      <td>1394</td>\n",
       "      <td>Y</td>\n",
       "      <td>현대오일뱅크</td>\n",
       "      <td>강남구</td>\n",
       "    </tr>\n",
       "    <tr>\n",
       "      <th>3</th>\n",
       "      <td>오일프러스 셀프</td>\n",
       "      <td>서울 강남구 남부순환로 2651 (도곡동)</td>\n",
       "      <td>1394</td>\n",
       "      <td>Y</td>\n",
       "      <td>SK에너지</td>\n",
       "      <td>강남구</td>\n",
       "    </tr>\n",
       "    <tr>\n",
       "      <th>4</th>\n",
       "      <td>방죽주유소</td>\n",
       "      <td>서울 강남구 밤고개로 215 (율현동)</td>\n",
       "      <td>1399</td>\n",
       "      <td>Y</td>\n",
       "      <td>S-OIL</td>\n",
       "      <td>강남구</td>\n",
       "    </tr>\n",
       "  </tbody>\n",
       "</table>\n",
       "</div>"
      ],
      "text/plain": [
       "          Oil_store                         주소    가격 셀프      상표    구\n",
       "0       (주)보성 세곡주유소      서울 강남구  헌릉로 731 (세곡동)  1375  Y   SK에너지  강남구\n",
       "1  GS칼텍스(주)직영 산성주유소             서울 강남구 헌릉로 730  1385  Y   GS칼텍스  강남구\n",
       "2    현대오일뱅크 도곡셀프주유소  서울 강남구  남부순환로 2718 (도곡2동)  1394  Y  현대오일뱅크  강남구\n",
       "3          오일프러스 셀프    서울 강남구 남부순환로 2651 (도곡동)  1394  Y   SK에너지  강남구\n",
       "4             방죽주유소      서울 강남구 밤고개로 215 (율현동)  1399  Y   S-OIL  강남구"
      ]
     },
     "execution_count": 113,
     "metadata": {},
     "output_type": "execute_result"
    }
   ],
   "source": [
    "# * 2. 정보가 기입되지 않은 주유소는 대상에서 제외 \n",
    "stations = stations[stations[\"가격\"] != '-']\n",
    "stations.head()"
   ]
  },
  {
   "cell_type": "code",
   "execution_count": 114,
   "metadata": {
    "ExecuteTime": {
     "end_time": "2020-10-04T12:33:24.062788Z",
     "start_time": "2020-10-04T12:33:24.042704Z"
    }
   },
   "outputs": [],
   "source": [
    "# * 3. 정보를 숫자형으로 변환 \n",
    "stations[\"가격\"] = [float(value) for value in stations[\"가격\"]]"
   ]
  },
  {
   "cell_type": "code",
   "execution_count": 117,
   "metadata": {
    "ExecuteTime": {
     "end_time": "2020-10-04T12:34:07.913400Z",
     "start_time": "2020-10-04T12:34:07.891729Z"
    }
   },
   "outputs": [
    {
     "name": "stdout",
     "output_type": "stream",
     "text": [
      "<class 'pandas.core.frame.DataFrame'>\n",
      "RangeIndex: 490 entries, 0 to 489\n",
      "Data columns (total 6 columns):\n",
      " #   Column     Non-Null Count  Dtype  \n",
      "---  ------     --------------  -----  \n",
      " 0   Oil_store  490 non-null    object \n",
      " 1   주소         490 non-null    object \n",
      " 2   가격         490 non-null    float64\n",
      " 3   셀프         490 non-null    object \n",
      " 4   상표         490 non-null    object \n",
      " 5   구          490 non-null    object \n",
      "dtypes: float64(1), object(5)\n",
      "memory usage: 23.1+ KB\n"
     ]
    }
   ],
   "source": [
    "stations.info() # 가격 정보가 float 으로 바뀜 "
   ]
  },
  {
   "cell_type": "code",
   "execution_count": 116,
   "metadata": {
    "ExecuteTime": {
     "end_time": "2020-10-04T12:34:04.381706Z",
     "start_time": "2020-10-04T12:34:04.363786Z"
    }
   },
   "outputs": [],
   "source": [
    "stations.reset_index(inplace = True) # 인덱스를 처음부터 다시 기록하도록 함 \n",
    "del stations[\"index\"] # index 라는 컬럼이 하나 더 생성되어, 그 부분 제거 "
   ]
  },
  {
   "cell_type": "code",
   "execution_count": 118,
   "metadata": {
    "ExecuteTime": {
     "end_time": "2020-10-04T13:03:21.373016Z",
     "start_time": "2020-10-04T13:03:21.328137Z"
    }
   },
   "outputs": [
    {
     "name": "stdout",
     "output_type": "stream",
     "text": [
      "<class 'pandas.core.frame.DataFrame'>\n",
      "RangeIndex: 490 entries, 0 to 489\n",
      "Data columns (total 6 columns):\n",
      " #   Column     Non-Null Count  Dtype  \n",
      "---  ------     --------------  -----  \n",
      " 0   Oil_store  490 non-null    object \n",
      " 1   주소         490 non-null    object \n",
      " 2   가격         490 non-null    float64\n",
      " 3   셀프         490 non-null    object \n",
      " 4   상표         490 non-null    object \n",
      " 5   구          490 non-null    object \n",
      "dtypes: float64(1), object(5)\n",
      "memory usage: 23.1+ KB\n"
     ]
    }
   ],
   "source": [
    "stations.info()"
   ]
  },
  {
   "cell_type": "markdown",
   "metadata": {},
   "source": [
    "## 셀프 주유소는 정말 저렴한지 boxplot으로 확인하기"
   ]
  },
  {
   "cell_type": "code",
   "execution_count": 119,
   "metadata": {
    "ExecuteTime": {
     "end_time": "2020-10-04T13:04:04.932454Z",
     "start_time": "2020-10-04T13:04:03.265259Z"
    }
   },
   "outputs": [],
   "source": [
    "import matplotlib.pyplot as plt \n",
    "import seaborn as sns \n",
    "%matplotlib inline "
   ]
  },
  {
   "cell_type": "code",
   "execution_count": 120,
   "metadata": {
    "ExecuteTime": {
     "end_time": "2020-10-04T13:05:30.563747Z",
     "start_time": "2020-10-04T13:05:30.554893Z"
    }
   },
   "outputs": [],
   "source": [
    "import platform \n",
    "path = \"C:/Windows/Fonts/malgun.ttf\"\n",
    "from matplotlib import font_manager, rc\n",
    "if platform.system() == \"Darwin\": \n",
    "    rc(\"font\", family =\" AppleGothic\")\n",
    "elif platform.system() == \"Windows\": \n",
    "    font_name = font_manager.FontProperties(fname = path).get_name()\n",
    "    rc(\"font\", family = font_name)\n",
    "else: \n",
    "    print(\"Unknown System... sorry\")"
   ]
  },
  {
   "cell_type": "markdown",
   "metadata": {
    "ExecuteTime": {
     "end_time": "2020-10-04T13:10:19.438301Z",
     "start_time": "2020-10-04T13:10:19.428321Z"
    }
   },
   "source": [
    "> 박스 플롯 기준으로 셀프 컬럼 기준으로 가격 분포 확인 \n",
    "* 전반적으로 셀프 주유소인 경우가 가격이 낮게 되어 있음 "
   ]
  },
  {
   "cell_type": "code",
   "execution_count": 126,
   "metadata": {
    "ExecuteTime": {
     "end_time": "2020-10-04T13:09:15.728430Z",
     "start_time": "2020-10-04T13:09:15.591289Z"
    }
   },
   "outputs": [
    {
     "data": {
      "image/png": "[encoded data removed]",
      "text/plain": [
       "<Figure size 864x576 with 1 Axes>"
      ]
     },
     "metadata": {
      "needs_background": "light"
     },
     "output_type": "display_data"
    }
   ],
   "source": [
    "stations.boxplot(column =\"가격\", by=\"셀프\", figsize =(12,8));"
   ]
  },
  {
   "cell_type": "code",
   "execution_count": 133,
   "metadata": {
    "ExecuteTime": {
     "end_time": "2020-10-04T13:30:21.220270Z",
     "start_time": "2020-10-04T13:30:20.926880Z"
    }
   },
   "outputs": [
    {
     "data": {
      "image/png": "[encoded data removed]",
      "text/plain": [
       "<Figure size 864x576 with 1 Axes>"
      ]
     },
     "metadata": {
      "needs_background": "light"
     },
     "output_type": "display_data"
    }
   ],
   "source": [
    "plt.figure(figsize =(12,8))\n",
    "ax = sns.boxplot(x = \"상표\", y=\"가격\", hue= \"셀프\", data = stations, palette= \"Set3\")\n",
    "plt.show()"
   ]
  },
  {
   "cell_type": "markdown",
   "metadata": {
    "ExecuteTime": {
     "end_time": "2020-10-04T13:30:43.823685Z",
     "start_time": "2020-10-04T13:30:43.807655Z"
    }
   },
   "source": [
    "> 결과 \n",
    "* 노란색이 일반 주유소 \n",
    "* 초록색이 셀프 주유소인데 \n",
    "* 다들 비슷한데, 중앙값이 제일 낮은건 GS 칼텍스 (평균적으로 GS가 가격 제일 낮음)"
   ]
  },
  {
   "cell_type": "code",
   "execution_count": 135,
   "metadata": {
    "ExecuteTime": {
     "end_time": "2020-10-04T13:33:45.484917Z",
     "start_time": "2020-10-04T13:33:45.146756Z"
    }
   },
   "outputs": [
    {
     "data": {
      "image/png": "[encoded data removed]",
      "text/plain": [
       "<Figure size 864x576 with 1 Axes>"
      ]
     },
     "metadata": {
      "needs_background": "light"
     },
     "output_type": "display_data"
    }
   ],
   "source": [
    "plt.figure(figsize = (12,8))\n",
    "sns.boxplot(x = \"상표\", y =\"가격\", data= stations, palette =\"Set3\")\n",
    "sns.swarmplot(x =\"상표\", y=\"가격\", data = stations, color = \".6\")\n",
    "plt.show()"
   ]
  },
  {
   "cell_type": "markdown",
   "metadata": {},
   "source": [
    "> 결과 \n",
    "* 전반적으로는 SK 에너지가 높은 가격대를 형성 "
   ]
  },
  {
   "cell_type": "markdown",
   "metadata": {},
   "source": [
    "# 여기서부터는 점심시간"
   ]
  },
  {
   "cell_type": "markdown",
   "metadata": {},
   "source": [
    "## 서울시 "
   ]
  },
  {
   "cell_type": "markdown",
   "metadata": {
    "ExecuteTime": {
     "end_time": "2020-10-05T03:07:16.750933Z",
     "start_time": "2020-10-05T03:07:16.738966Z"
    }
   },
   "source": [
    "!pip install googlemaps\n",
    "!pip install folium\n",
    "오류때문에 cmd 창에서 \n",
    "<code> python -m pip install folium </code>\n",
    "<code> python -m pip install googlemaps </code>"
   ]
  },
  {
   "cell_type": "code",
   "execution_count": 161,
   "metadata": {
    "ExecuteTime": {
     "end_time": "2020-10-05T03:14:46.074842Z",
     "start_time": "2020-10-05T03:14:46.056890Z"
    }
   },
   "outputs": [],
   "source": [
    "import json \n",
    "import folium\n",
    "import googlemaps\n",
    "import warnings\n",
    "warnings.simplefilter(action = \"ignore\", category = FutureWarning)"
   ]
  },
  {
   "cell_type": "code",
   "execution_count": 164,
   "metadata": {
    "ExecuteTime": {
     "end_time": "2020-10-05T03:15:42.713828Z",
     "start_time": "2020-10-05T03:15:42.685902Z"
    }
   },
   "outputs": [
    {
     "data": {
      "text/html": [
       "<div>\n",
       "<style scoped>\n",
       "    .dataframe tbody tr th:only-of-type {\n",
       "        vertical-align: middle;\n",
       "    }\n",
       "\n",
       "    .dataframe tbody tr th {\n",
       "        vertical-align: top;\n",
       "    }\n",
       "\n",
       "    .dataframe thead th {\n",
       "        text-align: right;\n",
       "    }\n",
       "</style>\n",
       "<table border=\"1\" class=\"dataframe\">\n",
       "  <thead>\n",
       "    <tr style=\"text-align: right;\">\n",
       "      <th></th>\n",
       "      <th>Oil_store</th>\n",
       "      <th>주소</th>\n",
       "      <th>가격</th>\n",
       "      <th>셀프</th>\n",
       "      <th>상표</th>\n",
       "      <th>구</th>\n",
       "    </tr>\n",
       "  </thead>\n",
       "  <tbody>\n",
       "    <tr>\n",
       "      <th>344</th>\n",
       "      <td>서남주유소</td>\n",
       "      <td>서울 중구 통일로 30</td>\n",
       "      <td>2208.0</td>\n",
       "      <td>N</td>\n",
       "      <td>SK에너지</td>\n",
       "      <td>중구</td>\n",
       "    </tr>\n",
       "    <tr>\n",
       "      <th>343</th>\n",
       "      <td>에스씨(주) 역전주유소</td>\n",
       "      <td>서울 중구 퇴계로 15</td>\n",
       "      <td>2138.0</td>\n",
       "      <td>N</td>\n",
       "      <td>GS칼텍스</td>\n",
       "      <td>중구</td>\n",
       "    </tr>\n",
       "    <tr>\n",
       "      <th>342</th>\n",
       "      <td>필동주유소</td>\n",
       "      <td>서울 중구  퇴계로 196 (필동2가)</td>\n",
       "      <td>2099.0</td>\n",
       "      <td>N</td>\n",
       "      <td>GS칼텍스</td>\n",
       "      <td>중구</td>\n",
       "    </tr>\n",
       "    <tr>\n",
       "      <th>341</th>\n",
       "      <td>SK에너지(주) 퇴계로주유소</td>\n",
       "      <td>서울 중구 퇴계로 228 (필동2가)</td>\n",
       "      <td>2089.0</td>\n",
       "      <td>N</td>\n",
       "      <td>SK에너지</td>\n",
       "      <td>중구</td>\n",
       "    </tr>\n",
       "    <tr>\n",
       "      <th>308</th>\n",
       "      <td>서계주유소</td>\n",
       "      <td>서울 용산구 청파로 367 (서계동)</td>\n",
       "      <td>2089.0</td>\n",
       "      <td>N</td>\n",
       "      <td>GS칼텍스</td>\n",
       "      <td>용산구</td>\n",
       "    </tr>\n",
       "    <tr>\n",
       "      <th>38</th>\n",
       "      <td>뉴서울(강남)</td>\n",
       "      <td>서울 강남구 언주로 716 (논현동)</td>\n",
       "      <td>2025.0</td>\n",
       "      <td>N</td>\n",
       "      <td>SK에너지</td>\n",
       "      <td>강남구</td>\n",
       "    </tr>\n",
       "    <tr>\n",
       "      <th>306</th>\n",
       "      <td>에너비스</td>\n",
       "      <td>서울 용산구 한남대로 82 (한남동)</td>\n",
       "      <td>1998.0</td>\n",
       "      <td>N</td>\n",
       "      <td>SK에너지</td>\n",
       "      <td>용산구</td>\n",
       "    </tr>\n",
       "    <tr>\n",
       "      <th>333</th>\n",
       "      <td>(주)중앙에너비스 혜화주유소</td>\n",
       "      <td>서울 종로구 창경궁로35길 1</td>\n",
       "      <td>1998.0</td>\n",
       "      <td>N</td>\n",
       "      <td>SK에너지</td>\n",
       "      <td>종로구</td>\n",
       "    </tr>\n",
       "    <tr>\n",
       "      <th>332</th>\n",
       "      <td>(주)대양씨앤씨 사직주유소</td>\n",
       "      <td>서울 종로구 사직로 65 (사직동)</td>\n",
       "      <td>1998.0</td>\n",
       "      <td>N</td>\n",
       "      <td>GS칼텍스</td>\n",
       "      <td>종로구</td>\n",
       "    </tr>\n",
       "    <tr>\n",
       "      <th>307</th>\n",
       "      <td>한남지점</td>\n",
       "      <td>서울 용산구 한남대로21길 4 (한남동)</td>\n",
       "      <td>1998.0</td>\n",
       "      <td>N</td>\n",
       "      <td>SK에너지</td>\n",
       "      <td>용산구</td>\n",
       "    </tr>\n",
       "  </tbody>\n",
       "</table>\n",
       "</div>"
      ],
      "text/plain": [
       "           Oil_store                      주소      가격 셀프     상표    구\n",
       "344            서남주유소            서울 중구 통일로 30  2208.0  N  SK에너지   중구\n",
       "343     에스씨(주) 역전주유소            서울 중구 퇴계로 15  2138.0  N  GS칼텍스   중구\n",
       "342            필동주유소   서울 중구  퇴계로 196 (필동2가)  2099.0  N  GS칼텍스   중구\n",
       "341  SK에너지(주) 퇴계로주유소    서울 중구 퇴계로 228 (필동2가)  2089.0  N  SK에너지   중구\n",
       "308            서계주유소    서울 용산구 청파로 367 (서계동)  2089.0  N  GS칼텍스  용산구\n",
       "38           뉴서울(강남)    서울 강남구 언주로 716 (논현동)  2025.0  N  SK에너지  강남구\n",
       "306             에너비스    서울 용산구 한남대로 82 (한남동)  1998.0  N  SK에너지  용산구\n",
       "333  (주)중앙에너비스 혜화주유소        서울 종로구 창경궁로35길 1  1998.0  N  SK에너지  종로구\n",
       "332   (주)대양씨앤씨 사직주유소     서울 종로구 사직로 65 (사직동)  1998.0  N  GS칼텍스  종로구\n",
       "307             한남지점  서울 용산구 한남대로21길 4 (한남동)  1998.0  N  SK에너지  용산구"
      ]
     },
     "execution_count": 164,
     "metadata": {},
     "output_type": "execute_result"
    }
   ],
   "source": [
    "# 서울시 가장 비싼 주유소 10곳 \n",
    "stations.sort_values(by=\"가격\", ascending = False).head(10) # 내림차순 "
   ]
  },
  {
   "cell_type": "code",
   "execution_count": 163,
   "metadata": {
    "ExecuteTime": {
     "end_time": "2020-10-05T03:15:40.571492Z",
     "start_time": "2020-10-05T03:15:40.543566Z"
    }
   },
   "outputs": [
    {
     "data": {
      "text/html": [
       "<div>\n",
       "<style scoped>\n",
       "    .dataframe tbody tr th:only-of-type {\n",
       "        vertical-align: middle;\n",
       "    }\n",
       "\n",
       "    .dataframe tbody tr th {\n",
       "        vertical-align: top;\n",
       "    }\n",
       "\n",
       "    .dataframe thead th {\n",
       "        text-align: right;\n",
       "    }\n",
       "</style>\n",
       "<table border=\"1\" class=\"dataframe\">\n",
       "  <thead>\n",
       "    <tr style=\"text-align: right;\">\n",
       "      <th></th>\n",
       "      <th>Oil_store</th>\n",
       "      <th>주소</th>\n",
       "      <th>가격</th>\n",
       "      <th>셀프</th>\n",
       "      <th>상표</th>\n",
       "      <th>구</th>\n",
       "    </tr>\n",
       "  </thead>\n",
       "  <tbody>\n",
       "    <tr>\n",
       "      <th>222</th>\n",
       "      <td>현대주유소</td>\n",
       "      <td>서울 양천구 남부순환로 372 (신월동)</td>\n",
       "      <td>1274.0</td>\n",
       "      <td>Y</td>\n",
       "      <td>S-OIL</td>\n",
       "      <td>양천구</td>\n",
       "    </tr>\n",
       "    <tr>\n",
       "      <th>374</th>\n",
       "      <td>화곡역주유소</td>\n",
       "      <td>서울특별시 강서구  강서로 154 (화곡동)</td>\n",
       "      <td>1274.0</td>\n",
       "      <td>Y</td>\n",
       "      <td>알뜰주유소</td>\n",
       "      <td>강서구</td>\n",
       "    </tr>\n",
       "    <tr>\n",
       "      <th>375</th>\n",
       "      <td>뉴신정주유소</td>\n",
       "      <td>서울 강서구 곰달래로 207(화곡동)</td>\n",
       "      <td>1274.0</td>\n",
       "      <td>N</td>\n",
       "      <td>알뜰주유소</td>\n",
       "      <td>강서구</td>\n",
       "    </tr>\n",
       "    <tr>\n",
       "      <th>165</th>\n",
       "      <td>(주)삼표에너지 정릉주유소</td>\n",
       "      <td>서울 성북구 보국문로 35 (정릉동)</td>\n",
       "      <td>1275.0</td>\n",
       "      <td>Y</td>\n",
       "      <td>GS칼텍스</td>\n",
       "      <td>성북구</td>\n",
       "    </tr>\n",
       "    <tr>\n",
       "      <th>166</th>\n",
       "      <td>강산제2주유소</td>\n",
       "      <td>서울 성북구 보국문로 52</td>\n",
       "      <td>1275.0</td>\n",
       "      <td>Y</td>\n",
       "      <td>현대오일뱅크</td>\n",
       "      <td>성북구</td>\n",
       "    </tr>\n",
       "    <tr>\n",
       "      <th>167</th>\n",
       "      <td>원천주유소</td>\n",
       "      <td>서울 성북구 돌곶이로 142 (장위동)</td>\n",
       "      <td>1275.0</td>\n",
       "      <td>N</td>\n",
       "      <td>알뜰주유소</td>\n",
       "      <td>성북구</td>\n",
       "    </tr>\n",
       "    <tr>\n",
       "      <th>440</th>\n",
       "      <td>대성산업(주)디큐브주유소</td>\n",
       "      <td>서울 구로구 경인로 650 (신도림동)</td>\n",
       "      <td>1279.0</td>\n",
       "      <td>N</td>\n",
       "      <td>GS칼텍스</td>\n",
       "      <td>구로구</td>\n",
       "    </tr>\n",
       "    <tr>\n",
       "      <th>264</th>\n",
       "      <td>(주)강서오일</td>\n",
       "      <td>서울 영등포구 도신로 151</td>\n",
       "      <td>1279.0</td>\n",
       "      <td>N</td>\n",
       "      <td>현대오일뱅크</td>\n",
       "      <td>영등포구</td>\n",
       "    </tr>\n",
       "    <tr>\n",
       "      <th>265</th>\n",
       "      <td>도림주유소</td>\n",
       "      <td>서울 영등포구 도림로 343 (도림동)</td>\n",
       "      <td>1279.0</td>\n",
       "      <td>Y</td>\n",
       "      <td>알뜰주유소</td>\n",
       "      <td>영등포구</td>\n",
       "    </tr>\n",
       "    <tr>\n",
       "      <th>376</th>\n",
       "      <td>스카이주유소</td>\n",
       "      <td>서울 강서구 개화동로 457 (방화동)</td>\n",
       "      <td>1284.0</td>\n",
       "      <td>Y</td>\n",
       "      <td>S-OIL</td>\n",
       "      <td>강서구</td>\n",
       "    </tr>\n",
       "  </tbody>\n",
       "</table>\n",
       "</div>"
      ],
      "text/plain": [
       "          Oil_store                        주소      가격 셀프      상표     구\n",
       "222           현대주유소    서울 양천구 남부순환로 372 (신월동)  1274.0  Y   S-OIL   양천구\n",
       "374          화곡역주유소  서울특별시 강서구  강서로 154 (화곡동)  1274.0  Y   알뜰주유소   강서구\n",
       "375          뉴신정주유소      서울 강서구 곰달래로 207(화곡동)  1274.0  N   알뜰주유소   강서구\n",
       "165  (주)삼표에너지 정릉주유소      서울 성북구 보국문로 35 (정릉동)  1275.0  Y   GS칼텍스   성북구\n",
       "166         강산제2주유소            서울 성북구 보국문로 52  1275.0  Y  현대오일뱅크   성북구\n",
       "167           원천주유소     서울 성북구 돌곶이로 142 (장위동)  1275.0  N   알뜰주유소   성북구\n",
       "440   대성산업(주)디큐브주유소     서울 구로구 경인로 650 (신도림동)  1279.0  N   GS칼텍스   구로구\n",
       "264         (주)강서오일           서울 영등포구 도신로 151  1279.0  N  현대오일뱅크  영등포구\n",
       "265           도림주유소     서울 영등포구 도림로 343 (도림동)  1279.0  Y   알뜰주유소  영등포구\n",
       "376          스카이주유소     서울 강서구 개화동로 457 (방화동)  1284.0  Y   S-OIL   강서구"
      ]
     },
     "execution_count": 163,
     "metadata": {},
     "output_type": "execute_result"
    }
   ],
   "source": [
    "# 서울시 가장 싼 주유소 10곳 \n",
    "stations.sort_values(by=\"가격\", ascending= True).head(10) #  오름차순"
   ]
  },
  {
   "cell_type": "code",
   "execution_count": 184,
   "metadata": {
    "ExecuteTime": {
     "end_time": "2020-10-05T03:40:21.566986Z",
     "start_time": "2020-10-05T03:40:21.550063Z"
    }
   },
   "outputs": [
    {
     "data": {
      "text/html": [
       "<div>\n",
       "<style scoped>\n",
       "    .dataframe tbody tr th:only-of-type {\n",
       "        vertical-align: middle;\n",
       "    }\n",
       "\n",
       "    .dataframe tbody tr th {\n",
       "        vertical-align: top;\n",
       "    }\n",
       "\n",
       "    .dataframe thead th {\n",
       "        text-align: right;\n",
       "    }\n",
       "</style>\n",
       "<table border=\"1\" class=\"dataframe\">\n",
       "  <thead>\n",
       "    <tr style=\"text-align: right;\">\n",
       "      <th></th>\n",
       "      <th>Oil_store</th>\n",
       "      <th>주소</th>\n",
       "      <th>가격</th>\n",
       "      <th>셀프</th>\n",
       "      <th>상표</th>\n",
       "      <th>구</th>\n",
       "    </tr>\n",
       "  </thead>\n",
       "  <tbody>\n",
       "    <tr>\n",
       "      <th>78</th>\n",
       "      <td>지에스칼텍스(주) 대방주유소</td>\n",
       "      <td>서울 동작구 여의대방로 214</td>\n",
       "      <td>1339.0</td>\n",
       "      <td>N</td>\n",
       "      <td>GS칼텍스</td>\n",
       "      <td>동작구</td>\n",
       "    </tr>\n",
       "    <tr>\n",
       "      <th>79</th>\n",
       "      <td>현대오일뱅크㈜직영 신대방셀프주유소</td>\n",
       "      <td>서울 동작구 시흥대로 616 (신대방동)</td>\n",
       "      <td>1358.0</td>\n",
       "      <td>Y</td>\n",
       "      <td>현대오일뱅크</td>\n",
       "      <td>동작구</td>\n",
       "    </tr>\n",
       "    <tr>\n",
       "      <th>80</th>\n",
       "      <td>대성산업(주) 노량진주유소</td>\n",
       "      <td>서울 동작구 노량진로 172 (노량진동)</td>\n",
       "      <td>1378.0</td>\n",
       "      <td>N</td>\n",
       "      <td>GS칼텍스</td>\n",
       "      <td>동작구</td>\n",
       "    </tr>\n",
       "    <tr>\n",
       "      <th>81</th>\n",
       "      <td>창원이엔지주유소</td>\n",
       "      <td>서울 동작구 사당로 59 (상도동)</td>\n",
       "      <td>1379.0</td>\n",
       "      <td>N</td>\n",
       "      <td>현대오일뱅크</td>\n",
       "      <td>동작구</td>\n",
       "    </tr>\n",
       "    <tr>\n",
       "      <th>82</th>\n",
       "      <td>매일주유소</td>\n",
       "      <td>서울 동작구 상도로 139 (상도동)</td>\n",
       "      <td>1389.0</td>\n",
       "      <td>N</td>\n",
       "      <td>S-OIL</td>\n",
       "      <td>동작구</td>\n",
       "    </tr>\n",
       "    <tr>\n",
       "      <th>83</th>\n",
       "      <td>(주)성림에너지 남성주유소</td>\n",
       "      <td>서울 동작구 동작대로 135 (사당동)</td>\n",
       "      <td>1429.0</td>\n",
       "      <td>Y</td>\n",
       "      <td>GS칼텍스</td>\n",
       "      <td>동작구</td>\n",
       "    </tr>\n",
       "    <tr>\n",
       "      <th>84</th>\n",
       "      <td>현대오일뱅크㈜직영 흑석동셀프주유소</td>\n",
       "      <td>서울 동작구 현충로 101 (흑석동)</td>\n",
       "      <td>1429.0</td>\n",
       "      <td>Y</td>\n",
       "      <td>현대오일뱅크</td>\n",
       "      <td>동작구</td>\n",
       "    </tr>\n",
       "    <tr>\n",
       "      <th>85</th>\n",
       "      <td>현대오일뱅크(주)직영 동작주유소</td>\n",
       "      <td>서울 동작구 상도로 403 (상도동)</td>\n",
       "      <td>1429.0</td>\n",
       "      <td>N</td>\n",
       "      <td>현대오일뱅크</td>\n",
       "      <td>동작구</td>\n",
       "    </tr>\n",
       "    <tr>\n",
       "      <th>86</th>\n",
       "      <td>현대오일뱅크(주)직영 사당셀프주유소</td>\n",
       "      <td>서울 동작구 동작대로 73 (사당동)</td>\n",
       "      <td>1429.0</td>\n",
       "      <td>Y</td>\n",
       "      <td>현대오일뱅크</td>\n",
       "      <td>동작구</td>\n",
       "    </tr>\n",
       "    <tr>\n",
       "      <th>87</th>\n",
       "      <td>살피재주유소</td>\n",
       "      <td>서울 동작구 상도로 334</td>\n",
       "      <td>1495.0</td>\n",
       "      <td>N</td>\n",
       "      <td>SK에너지</td>\n",
       "      <td>동작구</td>\n",
       "    </tr>\n",
       "  </tbody>\n",
       "</table>\n",
       "</div>"
      ],
      "text/plain": [
       "              Oil_store                      주소      가격 셀프      상표    구\n",
       "78      지에스칼텍스(주) 대방주유소        서울 동작구 여의대방로 214  1339.0  N   GS칼텍스  동작구\n",
       "79   현대오일뱅크㈜직영 신대방셀프주유소  서울 동작구 시흥대로 616 (신대방동)  1358.0  Y  현대오일뱅크  동작구\n",
       "80       대성산업(주) 노량진주유소  서울 동작구 노량진로 172 (노량진동)  1378.0  N   GS칼텍스  동작구\n",
       "81             창원이엔지주유소     서울 동작구 사당로 59 (상도동)  1379.0  N  현대오일뱅크  동작구\n",
       "82                매일주유소    서울 동작구 상도로 139 (상도동)  1389.0  N   S-OIL  동작구\n",
       "83       (주)성림에너지 남성주유소   서울 동작구 동작대로 135 (사당동)  1429.0  Y   GS칼텍스  동작구\n",
       "84   현대오일뱅크㈜직영 흑석동셀프주유소    서울 동작구 현충로 101 (흑석동)  1429.0  Y  현대오일뱅크  동작구\n",
       "85    현대오일뱅크(주)직영 동작주유소    서울 동작구 상도로 403 (상도동)  1429.0  N  현대오일뱅크  동작구\n",
       "86  현대오일뱅크(주)직영 사당셀프주유소    서울 동작구 동작대로 73 (사당동)  1429.0  Y  현대오일뱅크  동작구\n",
       "87               살피재주유소          서울 동작구 상도로 334  1495.0  N   SK에너지  동작구"
      ]
     },
     "execution_count": 184,
     "metadata": {},
     "output_type": "execute_result"
    }
   ],
   "source": [
    "# 동작구 내 가장 싼 주유소 10곳\n",
    "stations[stations[\"구\"] == \"동작구\"].sort_values(by=\"가격\", ascending = True).head(10)"
   ]
  },
  {
   "cell_type": "code",
   "execution_count": 191,
   "metadata": {
    "ExecuteTime": {
     "end_time": "2020-10-05T03:41:51.379723Z",
     "start_time": "2020-10-05T03:41:51.353762Z"
    },
    "scrolled": true
   },
   "outputs": [
    {
     "data": {
      "text/html": [
       "<div>\n",
       "<style scoped>\n",
       "    .dataframe tbody tr th:only-of-type {\n",
       "        vertical-align: middle;\n",
       "    }\n",
       "\n",
       "    .dataframe tbody tr th {\n",
       "        vertical-align: top;\n",
       "    }\n",
       "\n",
       "    .dataframe thead th {\n",
       "        text-align: right;\n",
       "    }\n",
       "</style>\n",
       "<table border=\"1\" class=\"dataframe\">\n",
       "  <thead>\n",
       "    <tr style=\"text-align: right;\">\n",
       "      <th></th>\n",
       "      <th>가격</th>\n",
       "      <th>rank_by_average</th>\n",
       "    </tr>\n",
       "    <tr>\n",
       "      <th>구</th>\n",
       "      <th></th>\n",
       "      <th></th>\n",
       "    </tr>\n",
       "  </thead>\n",
       "  <tbody>\n",
       "    <tr>\n",
       "      <th>중구</th>\n",
       "      <td>1887.454545</td>\n",
       "      <td>1.0</td>\n",
       "    </tr>\n",
       "    <tr>\n",
       "      <th>용산구</th>\n",
       "      <td>1834.928571</td>\n",
       "      <td>2.0</td>\n",
       "    </tr>\n",
       "    <tr>\n",
       "      <th>종로구</th>\n",
       "      <td>1728.333333</td>\n",
       "      <td>3.0</td>\n",
       "    </tr>\n",
       "    <tr>\n",
       "      <th>강남구</th>\n",
       "      <td>1552.102564</td>\n",
       "      <td>4.0</td>\n",
       "    </tr>\n",
       "    <tr>\n",
       "      <th>마포구</th>\n",
       "      <td>1477.750000</td>\n",
       "      <td>5.0</td>\n",
       "    </tr>\n",
       "    <tr>\n",
       "      <th>성동구</th>\n",
       "      <td>1465.294118</td>\n",
       "      <td>6.0</td>\n",
       "    </tr>\n",
       "    <tr>\n",
       "      <th>강동구</th>\n",
       "      <td>1463.312500</td>\n",
       "      <td>7.0</td>\n",
       "    </tr>\n",
       "    <tr>\n",
       "      <th>영등포구</th>\n",
       "      <td>1460.161290</td>\n",
       "      <td>8.0</td>\n",
       "    </tr>\n",
       "    <tr>\n",
       "      <th>서초구</th>\n",
       "      <td>1451.545455</td>\n",
       "      <td>9.0</td>\n",
       "    </tr>\n",
       "    <tr>\n",
       "      <th>관악구</th>\n",
       "      <td>1416.937500</td>\n",
       "      <td>10.0</td>\n",
       "    </tr>\n",
       "    <tr>\n",
       "      <th>동작구</th>\n",
       "      <td>1405.400000</td>\n",
       "      <td>11.0</td>\n",
       "    </tr>\n",
       "    <tr>\n",
       "      <th>금정구</th>\n",
       "      <td>1399.000000</td>\n",
       "      <td>12.0</td>\n",
       "    </tr>\n",
       "    <tr>\n",
       "      <th>노원구</th>\n",
       "      <td>1389.500000</td>\n",
       "      <td>13.0</td>\n",
       "    </tr>\n",
       "    <tr>\n",
       "      <th>송파구</th>\n",
       "      <td>1381.818182</td>\n",
       "      <td>14.0</td>\n",
       "    </tr>\n",
       "    <tr>\n",
       "      <th>구로구</th>\n",
       "      <td>1381.681818</td>\n",
       "      <td>15.0</td>\n",
       "    </tr>\n",
       "    <tr>\n",
       "      <th>양천구</th>\n",
       "      <td>1372.730769</td>\n",
       "      <td>16.0</td>\n",
       "    </tr>\n",
       "    <tr>\n",
       "      <th>강서구</th>\n",
       "      <td>1371.060606</td>\n",
       "      <td>17.0</td>\n",
       "    </tr>\n",
       "    <tr>\n",
       "      <th>광진구</th>\n",
       "      <td>1365.000000</td>\n",
       "      <td>18.0</td>\n",
       "    </tr>\n",
       "    <tr>\n",
       "      <th>동대문구</th>\n",
       "      <td>1361.000000</td>\n",
       "      <td>19.0</td>\n",
       "    </tr>\n",
       "    <tr>\n",
       "      <th>서대문구</th>\n",
       "      <td>1356.533333</td>\n",
       "      <td>20.0</td>\n",
       "    </tr>\n",
       "    <tr>\n",
       "      <th>금천구</th>\n",
       "      <td>1355.461538</td>\n",
       "      <td>21.0</td>\n",
       "    </tr>\n",
       "    <tr>\n",
       "      <th>도봉구</th>\n",
       "      <td>1349.888889</td>\n",
       "      <td>22.0</td>\n",
       "    </tr>\n",
       "    <tr>\n",
       "      <th>은평구</th>\n",
       "      <td>1343.125000</td>\n",
       "      <td>23.0</td>\n",
       "    </tr>\n",
       "    <tr>\n",
       "      <th>강북구</th>\n",
       "      <td>1333.615385</td>\n",
       "      <td>24.0</td>\n",
       "    </tr>\n",
       "    <tr>\n",
       "      <th>중랑구</th>\n",
       "      <td>1332.250000</td>\n",
       "      <td>25.0</td>\n",
       "    </tr>\n",
       "    <tr>\n",
       "      <th>성북구</th>\n",
       "      <td>1327.625000</td>\n",
       "      <td>26.0</td>\n",
       "    </tr>\n",
       "  </tbody>\n",
       "</table>\n",
       "</div>"
      ],
      "text/plain": [
       "               가격  rank_by_average\n",
       "구                                 \n",
       "중구    1887.454545              1.0\n",
       "용산구   1834.928571              2.0\n",
       "종로구   1728.333333              3.0\n",
       "강남구   1552.102564              4.0\n",
       "마포구   1477.750000              5.0\n",
       "성동구   1465.294118              6.0\n",
       "강동구   1463.312500              7.0\n",
       "영등포구  1460.161290              8.0\n",
       "서초구   1451.545455              9.0\n",
       "관악구   1416.937500             10.0\n",
       "동작구   1405.400000             11.0\n",
       "금정구   1399.000000             12.0\n",
       "노원구   1389.500000             13.0\n",
       "송파구   1381.818182             14.0\n",
       "구로구   1381.681818             15.0\n",
       "양천구   1372.730769             16.0\n",
       "강서구   1371.060606             17.0\n",
       "광진구   1365.000000             18.0\n",
       "동대문구  1361.000000             19.0\n",
       "서대문구  1356.533333             20.0\n",
       "금천구   1355.461538             21.0\n",
       "도봉구   1349.888889             22.0\n",
       "은평구   1343.125000             23.0\n",
       "강북구   1333.615385             24.0\n",
       "중랑구   1332.250000             25.0\n",
       "성북구   1327.625000             26.0"
      ]
     },
     "execution_count": 191,
     "metadata": {},
     "output_type": "execute_result"
    }
   ],
   "source": [
    "# 구별로 가격 평균 구하기 \n",
    "import numpy as np \n",
    "gu_data =pd.pivot_table(stations, index =[\"구\"] , values = [\"가격\"], \n",
    "                       aggfunc = np.mean)\n",
    "# 랭크 구하기 \n",
    "gu_data['rank_by_average'] = gu_data['가격'].rank(method =\"average\",ascending=False)\n",
    "\n",
    "# 가격으로 정렬\n",
    "gu_data = gu_data.sort_values(by =\"rank_by_average\", ascending = True)\n",
    "\n",
    "gu_data"
   ]
  },
  {
   "cell_type": "code",
   "execution_count": 193,
   "metadata": {
    "ExecuteTime": {
     "end_time": "2020-10-05T03:43:47.375442Z",
     "start_time": "2020-10-05T03:43:47.349513Z"
    },
    "scrolled": true
   },
   "outputs": [
    {
     "data": {
      "text/html": [
       "<div>\n",
       "<style scoped>\n",
       "    .dataframe tbody tr th:only-of-type {\n",
       "        vertical-align: middle;\n",
       "    }\n",
       "\n",
       "    .dataframe tbody tr th {\n",
       "        vertical-align: top;\n",
       "    }\n",
       "\n",
       "    .dataframe thead th {\n",
       "        text-align: right;\n",
       "    }\n",
       "</style>\n",
       "<table border=\"1\" class=\"dataframe\">\n",
       "  <thead>\n",
       "    <tr style=\"text-align: right;\">\n",
       "      <th></th>\n",
       "      <th>가격</th>\n",
       "    </tr>\n",
       "    <tr>\n",
       "      <th>구</th>\n",
       "      <th></th>\n",
       "    </tr>\n",
       "  </thead>\n",
       "  <tbody>\n",
       "    <tr>\n",
       "      <th>종로구</th>\n",
       "      <td>1888.0</td>\n",
       "    </tr>\n",
       "    <tr>\n",
       "      <th>중구</th>\n",
       "      <td>1879.0</td>\n",
       "    </tr>\n",
       "    <tr>\n",
       "      <th>용산구</th>\n",
       "      <td>1816.0</td>\n",
       "    </tr>\n",
       "    <tr>\n",
       "      <th>강남구</th>\n",
       "      <td>1448.0</td>\n",
       "    </tr>\n",
       "    <tr>\n",
       "      <th>성동구</th>\n",
       "      <td>1445.0</td>\n",
       "    </tr>\n",
       "    <tr>\n",
       "      <th>마포구</th>\n",
       "      <td>1438.0</td>\n",
       "    </tr>\n",
       "    <tr>\n",
       "      <th>강동구</th>\n",
       "      <td>1428.0</td>\n",
       "    </tr>\n",
       "    <tr>\n",
       "      <th>서초구</th>\n",
       "      <td>1417.0</td>\n",
       "    </tr>\n",
       "    <tr>\n",
       "      <th>관악구</th>\n",
       "      <td>1413.5</td>\n",
       "    </tr>\n",
       "    <tr>\n",
       "      <th>동작구</th>\n",
       "      <td>1409.0</td>\n",
       "    </tr>\n",
       "    <tr>\n",
       "      <th>금정구</th>\n",
       "      <td>1399.0</td>\n",
       "    </tr>\n",
       "    <tr>\n",
       "      <th>노원구</th>\n",
       "      <td>1393.5</td>\n",
       "    </tr>\n",
       "    <tr>\n",
       "      <th>송파구</th>\n",
       "      <td>1383.0</td>\n",
       "    </tr>\n",
       "    <tr>\n",
       "      <th>강서구</th>\n",
       "      <td>1368.0</td>\n",
       "    </tr>\n",
       "    <tr>\n",
       "      <th>광진구</th>\n",
       "      <td>1363.0</td>\n",
       "    </tr>\n",
       "    <tr>\n",
       "      <th>양천구</th>\n",
       "      <td>1361.5</td>\n",
       "    </tr>\n",
       "    <tr>\n",
       "      <th>구로구</th>\n",
       "      <td>1358.5</td>\n",
       "    </tr>\n",
       "    <tr>\n",
       "      <th>영등포구</th>\n",
       "      <td>1358.0</td>\n",
       "    </tr>\n",
       "    <tr>\n",
       "      <th>서대문구</th>\n",
       "      <td>1355.0</td>\n",
       "    </tr>\n",
       "    <tr>\n",
       "      <th>금천구</th>\n",
       "      <td>1355.0</td>\n",
       "    </tr>\n",
       "    <tr>\n",
       "      <th>동대문구</th>\n",
       "      <td>1345.0</td>\n",
       "    </tr>\n",
       "    <tr>\n",
       "      <th>도봉구</th>\n",
       "      <td>1338.5</td>\n",
       "    </tr>\n",
       "    <tr>\n",
       "      <th>강북구</th>\n",
       "      <td>1337.0</td>\n",
       "    </tr>\n",
       "    <tr>\n",
       "      <th>은평구</th>\n",
       "      <td>1335.0</td>\n",
       "    </tr>\n",
       "    <tr>\n",
       "      <th>중랑구</th>\n",
       "      <td>1325.0</td>\n",
       "    </tr>\n",
       "    <tr>\n",
       "      <th>성북구</th>\n",
       "      <td>1320.5</td>\n",
       "    </tr>\n",
       "  </tbody>\n",
       "</table>\n",
       "</div>"
      ],
      "text/plain": [
       "          가격\n",
       "구           \n",
       "종로구   1888.0\n",
       "중구    1879.0\n",
       "용산구   1816.0\n",
       "강남구   1448.0\n",
       "성동구   1445.0\n",
       "마포구   1438.0\n",
       "강동구   1428.0\n",
       "서초구   1417.0\n",
       "관악구   1413.5\n",
       "동작구   1409.0\n",
       "금정구   1399.0\n",
       "노원구   1393.5\n",
       "송파구   1383.0\n",
       "강서구   1368.0\n",
       "광진구   1363.0\n",
       "양천구   1361.5\n",
       "구로구   1358.5\n",
       "영등포구  1358.0\n",
       "서대문구  1355.0\n",
       "금천구   1355.0\n",
       "동대문구  1345.0\n",
       "도봉구   1338.5\n",
       "강북구   1337.0\n",
       "은평구   1335.0\n",
       "중랑구   1325.0\n",
       "성북구   1320.5"
      ]
     },
     "execution_count": 193,
     "metadata": {},
     "output_type": "execute_result"
    }
   ],
   "source": [
    "# 구별로 가격 중앙값 구하기 \n",
    "gu_data =pd.pivot_table(stations, index =[\"구\"] , values = [\"가격\"], \n",
    "                       aggfunc = np.median)\n",
    "gu_data.sort_values(by =\"가격\", ascending = False)"
   ]
  },
  {
   "cell_type": "code",
   "execution_count": 180,
   "metadata": {
    "ExecuteTime": {
     "end_time": "2020-10-05T03:37:45.048932Z",
     "start_time": "2020-10-05T03:37:45.021007Z"
    }
   },
   "outputs": [
    {
     "data": {
      "text/html": [
       "<div>\n",
       "<style scoped>\n",
       "    .dataframe tbody tr th:only-of-type {\n",
       "        vertical-align: middle;\n",
       "    }\n",
       "\n",
       "    .dataframe tbody tr th {\n",
       "        vertical-align: top;\n",
       "    }\n",
       "\n",
       "    .dataframe thead th {\n",
       "        text-align: right;\n",
       "    }\n",
       "</style>\n",
       "<table border=\"1\" class=\"dataframe\">\n",
       "  <thead>\n",
       "    <tr style=\"text-align: right;\">\n",
       "      <th></th>\n",
       "      <th>가격</th>\n",
       "      <th>rank_by_average</th>\n",
       "    </tr>\n",
       "    <tr>\n",
       "      <th>구</th>\n",
       "      <th></th>\n",
       "      <th></th>\n",
       "    </tr>\n",
       "  </thead>\n",
       "  <tbody>\n",
       "    <tr>\n",
       "      <th>강남구</th>\n",
       "      <td>1448.0</td>\n",
       "      <td>4.0</td>\n",
       "    </tr>\n",
       "    <tr>\n",
       "      <th>강동구</th>\n",
       "      <td>1428.0</td>\n",
       "      <td>7.0</td>\n",
       "    </tr>\n",
       "    <tr>\n",
       "      <th>강북구</th>\n",
       "      <td>1337.0</td>\n",
       "      <td>23.0</td>\n",
       "    </tr>\n",
       "    <tr>\n",
       "      <th>강서구</th>\n",
       "      <td>1368.0</td>\n",
       "      <td>14.0</td>\n",
       "    </tr>\n",
       "    <tr>\n",
       "      <th>관악구</th>\n",
       "      <td>1413.5</td>\n",
       "      <td>9.0</td>\n",
       "    </tr>\n",
       "    <tr>\n",
       "      <th>광진구</th>\n",
       "      <td>1363.0</td>\n",
       "      <td>15.0</td>\n",
       "    </tr>\n",
       "    <tr>\n",
       "      <th>구로구</th>\n",
       "      <td>1358.5</td>\n",
       "      <td>17.0</td>\n",
       "    </tr>\n",
       "    <tr>\n",
       "      <th>금정구</th>\n",
       "      <td>1399.0</td>\n",
       "      <td>11.0</td>\n",
       "    </tr>\n",
       "    <tr>\n",
       "      <th>금천구</th>\n",
       "      <td>1355.0</td>\n",
       "      <td>19.5</td>\n",
       "    </tr>\n",
       "    <tr>\n",
       "      <th>노원구</th>\n",
       "      <td>1393.5</td>\n",
       "      <td>12.0</td>\n",
       "    </tr>\n",
       "    <tr>\n",
       "      <th>도봉구</th>\n",
       "      <td>1338.5</td>\n",
       "      <td>22.0</td>\n",
       "    </tr>\n",
       "    <tr>\n",
       "      <th>동대문구</th>\n",
       "      <td>1345.0</td>\n",
       "      <td>21.0</td>\n",
       "    </tr>\n",
       "    <tr>\n",
       "      <th>동작구</th>\n",
       "      <td>1409.0</td>\n",
       "      <td>10.0</td>\n",
       "    </tr>\n",
       "    <tr>\n",
       "      <th>마포구</th>\n",
       "      <td>1438.0</td>\n",
       "      <td>6.0</td>\n",
       "    </tr>\n",
       "    <tr>\n",
       "      <th>서대문구</th>\n",
       "      <td>1355.0</td>\n",
       "      <td>19.5</td>\n",
       "    </tr>\n",
       "    <tr>\n",
       "      <th>서초구</th>\n",
       "      <td>1417.0</td>\n",
       "      <td>8.0</td>\n",
       "    </tr>\n",
       "    <tr>\n",
       "      <th>성동구</th>\n",
       "      <td>1445.0</td>\n",
       "      <td>5.0</td>\n",
       "    </tr>\n",
       "    <tr>\n",
       "      <th>성북구</th>\n",
       "      <td>1320.5</td>\n",
       "      <td>26.0</td>\n",
       "    </tr>\n",
       "    <tr>\n",
       "      <th>송파구</th>\n",
       "      <td>1383.0</td>\n",
       "      <td>13.0</td>\n",
       "    </tr>\n",
       "    <tr>\n",
       "      <th>양천구</th>\n",
       "      <td>1361.5</td>\n",
       "      <td>16.0</td>\n",
       "    </tr>\n",
       "    <tr>\n",
       "      <th>영등포구</th>\n",
       "      <td>1358.0</td>\n",
       "      <td>18.0</td>\n",
       "    </tr>\n",
       "    <tr>\n",
       "      <th>용산구</th>\n",
       "      <td>1816.0</td>\n",
       "      <td>3.0</td>\n",
       "    </tr>\n",
       "    <tr>\n",
       "      <th>은평구</th>\n",
       "      <td>1335.0</td>\n",
       "      <td>24.0</td>\n",
       "    </tr>\n",
       "    <tr>\n",
       "      <th>종로구</th>\n",
       "      <td>1888.0</td>\n",
       "      <td>1.0</td>\n",
       "    </tr>\n",
       "    <tr>\n",
       "      <th>중구</th>\n",
       "      <td>1879.0</td>\n",
       "      <td>2.0</td>\n",
       "    </tr>\n",
       "    <tr>\n",
       "      <th>중랑구</th>\n",
       "      <td>1325.0</td>\n",
       "      <td>25.0</td>\n",
       "    </tr>\n",
       "  </tbody>\n",
       "</table>\n",
       "</div>"
      ],
      "text/plain": [
       "          가격  rank_by_average\n",
       "구                            \n",
       "강남구   1448.0              4.0\n",
       "강동구   1428.0              7.0\n",
       "강북구   1337.0             23.0\n",
       "강서구   1368.0             14.0\n",
       "관악구   1413.5              9.0\n",
       "광진구   1363.0             15.0\n",
       "구로구   1358.5             17.0\n",
       "금정구   1399.0             11.0\n",
       "금천구   1355.0             19.5\n",
       "노원구   1393.5             12.0\n",
       "도봉구   1338.5             22.0\n",
       "동대문구  1345.0             21.0\n",
       "동작구   1409.0             10.0\n",
       "마포구   1438.0              6.0\n",
       "서대문구  1355.0             19.5\n",
       "서초구   1417.0              8.0\n",
       "성동구   1445.0              5.0\n",
       "성북구   1320.5             26.0\n",
       "송파구   1383.0             13.0\n",
       "양천구   1361.5             16.0\n",
       "영등포구  1358.0             18.0\n",
       "용산구   1816.0              3.0\n",
       "은평구   1335.0             24.0\n",
       "종로구   1888.0              1.0\n",
       "중구    1879.0              2.0\n",
       "중랑구   1325.0             25.0"
      ]
     },
     "execution_count": 180,
     "metadata": {},
     "output_type": "execute_result"
    }
   ],
   "source": [
    "gu_data['rank_by_average'] = gu_data['가격'].rank(method =\"average\",ascending=False)\n",
    "gu_data"
   ]
  },
  {
   "cell_type": "code",
   "execution_count": 177,
   "metadata": {
    "ExecuteTime": {
     "end_time": "2020-10-05T03:34:42.786896Z",
     "start_time": "2020-10-05T03:34:42.754984Z"
    }
   },
   "outputs": [],
   "source": [
    "geo_path = \"geo_simple.json\"\n",
    "geo_str = json.load(open(geo_path, encoding= \"utf-8\"))"
   ]
  },
  {
   "cell_type": "code",
   "execution_count": null,
   "metadata": {},
   "outputs": [],
   "source": [
    "map = folium.Map(location = [37,5502, 126.982], zoom_start = 10.5, \n",
    "                )"
   ]
  },
  {
   "cell_type": "code",
   "execution_count": null,
   "metadata": {},
   "outputs": [],
   "source": []
  },
  {
   "cell_type": "code",
   "execution_count": null,
   "metadata": {},
   "outputs": [],
   "source": []
  },
  {
   "cell_type": "code",
   "execution_count": null,
   "metadata": {},
   "outputs": [],
   "source": []
  },
  {
   "cell_type": "code",
   "execution_count": null,
   "metadata": {},
   "outputs": [],
   "source": []
  },
  {
   "cell_type": "code",
   "execution_count": null,
   "metadata": {},
   "outputs": [],
   "source": []
  },
  {
   "cell_type": "code",
   "execution_count": null,
   "metadata": {},
   "outputs": [],
   "source": []
  },
  {
   "cell_type": "code",
   "execution_count": null,
   "metadata": {},
   "outputs": [],
   "source": []
  },
  {
   "cell_type": "markdown",
   "metadata": {},
   "source": [
    "# Tkinter or Django 이용해 지역 내 가장 싼 주유소 추출"
   ]
  },
  {
   "cell_type": "code",
   "execution_count": null,
   "metadata": {},
   "outputs": [],
   "source": []
  },
  {
   "cell_type": "code",
   "execution_count": null,
   "metadata": {},
   "outputs": [],
   "source": []
  },
  {
   "cell_type": "code",
   "execution_count": null,
   "metadata": {},
   "outputs": [],
   "source": []
  },
  {
   "cell_type": "code",
   "execution_count": null,
   "metadata": {},
   "outputs": [],
   "source": []
  },
  {
   "cell_type": "code",
   "execution_count": null,
   "metadata": {},
   "outputs": [],
   "source": []
  },
  {
   "cell_type": "code",
   "execution_count": null,
   "metadata": {},
   "outputs": [],
   "source": []
  },
  {
   "cell_type": "code",
   "execution_count": null,
   "metadata": {},
   "outputs": [],
   "source": []
  },
  {
   "cell_type": "code",
   "execution_count": null,
   "metadata": {},
   "outputs": [],
   "source": []
  },
  {
   "cell_type": "code",
   "execution_count": null,
   "metadata": {},
   "outputs": [],
   "source": []
  },
  {
   "cell_type": "code",
   "execution_count": null,
   "metadata": {},
   "outputs": [],
   "source": []
  },
  {
   "cell_type": "code",
   "execution_count": null,
   "metadata": {},
   "outputs": [],
   "source": []
  },
  {
   "cell_type": "code",
   "execution_count": null,
   "metadata": {},
   "outputs": [],
   "source": []
  },
  {
   "cell_type": "code",
   "execution_count": null,
   "metadata": {},
   "outputs": [],
   "source": []
  },
  {
   "cell_type": "code",
   "execution_count": null,
   "metadata": {},
   "outputs": [],
   "source": []
  },
  {
   "cell_type": "code",
   "execution_count": null,
   "metadata": {},
   "outputs": [],
   "source": []
  },
  {
   "cell_type": "code",
   "execution_count": null,
   "metadata": {},
   "outputs": [],
   "source": []
  },
  {
   "cell_type": "code",
   "execution_count": null,
   "metadata": {},
   "outputs": [],
   "source": []
  },
  {
   "cell_type": "code",
   "execution_count": null,
   "metadata": {},
   "outputs": [],
   "source": []
  },
  {
   "cell_type": "code",
   "execution_count": null,
   "metadata": {},
   "outputs": [],
   "source": []
  },
  {
   "cell_type": "code",
   "execution_count": null,
   "metadata": {},
   "outputs": [],
   "source": []
  }
 ],
 "metadata": {
  "kernelspec": {
   "display_name": "Python 3",
   "language": "python",
   "name": "python3"
  },
  "language_info": {
   "codemirror_mode": {
    "name": "ipython",
    "version": 3
   },
   "file_extension": ".py",
   "mimetype": "text/x-python",
   "name": "python",
   "nbconvert_exporter": "python",
   "pygments_lexer": "ipython3",
   "version": "3.7.8"
  },
  "toc": {
   "base_numbering": 1,
   "nav_menu": {},
   "number_sections": true,
   "sideBar": true,
   "skip_h1_title": false,
   "title_cell": "Table of Contents",
   "title_sidebar": "Contents",
   "toc_cell": false,
   "toc_position": {},
   "toc_section_display": true,
   "toc_window_display": true
  },
  "varInspector": {
   "cols": {
    "lenName": 16,
    "lenType": 16,
    "lenVar": 40
   },
   "kernels_config": {
    "python": {
     "delete_cmd_postfix": "",
     "delete_cmd_prefix": "del ",
     "library": "var_list.py",
     "varRefreshCmd": "print(var_dic_list())"
    },
    "r": {
     "delete_cmd_postfix": ") ",
     "delete_cmd_prefix": "rm(",
     "library": "var_list.r",
     "varRefreshCmd": "cat(var_dic_list()) "
    }
   },
   "types_to_exclude": [
    "module",
    "function",
    "builtin_function_or_method",
    "instance",
    "_Feature"
   ],
   "window_display": false
  }
 },
 "nbformat": 4,
 "nbformat_minor": 4
}
