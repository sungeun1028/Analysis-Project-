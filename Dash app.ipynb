{
 "cells": [
  {
   "cell_type": "markdown",
   "metadata": {},
   "source": [
    "# Dash 로 갈아탐 :)"
   ]
  },
  {
   "cell_type": "code",
   "execution_count": null,
   "metadata": {},
   "outputs": [],
   "source": [
    "# !pip install dash\n",
    "# !pip install pandas_datareader"
   ]
  },
  {
   "cell_type": "markdown",
   "metadata": {},
   "source": [
    "## Dash -Basics "
   ]
  },
  {
   "cell_type": "code",
   "execution_count": null,
   "metadata": {},
   "outputs": [],
   "source": [
    "# import libraries \n",
    "import dash\n",
    "import dash_html_components as html\n",
    "import dash_core_components as dcc \n",
    "import pandas_datareader.data as web\n",
    "import datetime \n",
    "from dateutil.relativedelta import relativedelta  \n",
    "import plotly.graph_objs as go \n",
    "\n",
    "start = datetime.datetime.today() - relativedelta(years= 5)\n",
    "end = datetime.datetime.today()\n",
    "\n",
    "df = web.DataReader(\"GE\", \"yahoo\", start, end)\n",
    "\n",
    "df.head()\n",
    "\n",
    "trace_close = go.Scatter(x = list(df.index),\n",
    "                         y = list(df.Close),\n",
    "                        name = \"Close\",\n",
    "                        line = dict(color = \"#f44242\"))\n",
    "\n",
    "data = [trace_close]\n",
    "\n",
    "layout = dict(title = \"Stock Chart\", \n",
    "              showlegend = False)\n",
    "\n",
    "fig = dict(data = data, layout = layout )\n",
    "\n",
    "#color - rgb color selector\n",
    "\n",
    "# dash 앱 초기화 , 웹페이지에 보여줄 header tag 를 가진 페이지 레이아웃 준비 \n",
    "app = dash.Dash(__name__)\n",
    "#app.layout = html.H1(\"hello dash\")\n",
    "app.layout = html.Div([\n",
    "    html.Div(html.H1(children = \"Hello World\")),\n",
    "    html.Label(\"Dash Graph\"),\n",
    "    html.Div(\n",
    "        dcc.Graph(id = \"Stock Chart\",\n",
    "                  figure = fig)\n",
    "    )\n",
    "])\n",
    "\n",
    "if __name__ == \"__main__\":\n",
    "    app.run_server(debug = False) "
   ]
  },
  {
   "cell_type": "markdown",
   "metadata": {},
   "source": [
    "## Dash- Stock Input "
   ]
  },
  {
   "cell_type": "markdown",
   "metadata": {
    "ExecuteTime": {
     "start_time": "2020-10-11T10:54:03.472Z"
    }
   },
   "source": [
    "![dash](images/dash.JPG)"
   ]
  },
  {
   "cell_type": "code",
   "execution_count": null,
   "metadata": {
    "ExecuteTime": {
     "start_time": "2020-10-11T10:53:52.050Z"
    }
   },
   "outputs": [
    {
     "name": "stdout",
     "output_type": "stream",
     "text": [
      "Dash is running on http://127.0.0.1:8050/\n",
      "\n",
      " * Serving Flask app \"__main__\" (lazy loading)\n",
      " * Environment: production\n",
      "   WARNING: This is a development server. Do not use it in a production deployment.\n",
      "   Use a production WSGI server instead.\n",
      " * Debug mode: off\n"
     ]
    },
    {
     "name": "stderr",
     "output_type": "stream",
     "text": [
      " * Running on http://127.0.0.1:8050/ (Press CTRL+C to quit)\n"
     ]
    }
   ],
   "source": [
    "# import libraries \n",
    "import dash\n",
    "import dash_html_components as html\n",
    "import dash_core_components as dcc \n",
    "import pandas_datareader.data as web\n",
    "import datetime \n",
    "from dateutil.relativedelta import relativedelta  \n",
    "import plotly.graph_objs as go \n",
    "\n",
    "start = datetime.datetime.today() - relativedelta(years= 5)\n",
    "end = datetime.datetime.today()\n",
    "\n",
    "df = web.DataReader(\"GE\", \"yahoo\", start, end)\n",
    "\n",
    "df.head()\n",
    "\n",
    "trace_close = go.Scatter(x = list(df.index),\n",
    "                         y = list(df.Close),\n",
    "                        name = \"Close\",\n",
    "                        line = dict(color = \"#f44242\"))\n",
    "\n",
    "data = [trace_close]\n",
    "\n",
    "layout = dict(title = \"Stock Chart\", \n",
    "              showlegend = False)\n",
    "\n",
    "fig = dict(data = data, layout = layout )\n",
    "\n",
    "#color - rgb color selector\n",
    "\n",
    "# dash 앱 초기화 , 웹페이지에 보여줄 header tag 를 가진 페이지 레이아웃 준비 \n",
    "app = dash.Dash(__name__)\n",
    "#app.layout = html.H1(\"hello dash\")\n",
    "app.layout = html.Div([\n",
    "    html.Div(html.H1(children = \"Hello World\")),\n",
    "    html.Label(\"Dash Graph\"),\n",
    "    \n",
    "    html.Div(\n",
    "        dcc.Input(\n",
    "        id =\"stock-input\",\n",
    "        placeholder = \"Enter a stock to be charted\",\n",
    "        type = \"text\", \n",
    "        value =\"\"\n",
    "        ),\n",
    "    ),\n",
    "      \n",
    "    \n",
    "    html.Div(\n",
    "        dcc.Graph(id = \"Stock Chart\",\n",
    "                  figure = fig)\n",
    "    )\n",
    "])\n",
    "\n",
    "if __name__ == \"__main__\":\n",
    "    app.run_server(debug = False) "
   ]
  },
  {
   "cell_type": "markdown",
   "metadata": {},
   "source": [
    "## Dash - Input Dropdown "
   ]
  },
  {
   "cell_type": "markdown",
   "metadata": {
    "ExecuteTime": {
     "start_time": "2020-10-11T10:54:43.470Z"
    }
   },
   "source": [
    "![dash](images/dash2.JPG)"
   ]
  },
  {
   "cell_type": "code",
   "execution_count": null,
   "metadata": {},
   "outputs": [],
   "source": [
    "# import libraries \n",
    "import dash\n",
    "import dash_html_components as html\n",
    "import dash_core_components as dcc \n",
    "import pandas_datareader.data as web\n",
    "import datetime \n",
    "from dateutil.relativedelta import relativedelta  \n",
    "import plotly.graph_objs as go \n",
    "\n",
    "start = datetime.datetime.today() - relativedelta(years= 5)\n",
    "end = datetime.datetime.today()\n",
    "\n",
    "df = web.DataReader(\"GE\", \"yahoo\", start, end)\n",
    "\n",
    "df.head()\n",
    "\n",
    "trace_close = go.Scatter(x = list(df.index),\n",
    "                         y = list(df.Close),\n",
    "                        name = \"Close\",\n",
    "                        line = dict(color = \"#f44242\"))\n",
    "\n",
    "data = [trace_close]\n",
    "\n",
    "layout = dict(title = \"Stock Chart\", \n",
    "              showlegend = False)\n",
    "\n",
    "fig = dict(data = data, layout = layout )\n",
    "\n",
    "#color - rgb color selector\n",
    "\n",
    "# dash 앱 초기화 , 웹페이지에 보여줄 header tag 를 가진 페이지 레이아웃 준비 \n",
    "app = dash.Dash(__name__)\n",
    "#app.layout = html.H1(\"hello dash\")\n",
    "app.layout = html.Div([\n",
    "    html.Div(html.H1(children = \"Hello World\")),\n",
    "    html.Label(\"Dash Graph\"),\n",
    "    \n",
    "    html.Div(\n",
    "        dcc.Input(\n",
    "        id =\"stock-input\",\n",
    "        placeholder = \"Enter a stock to be charted\",\n",
    "        type = \"text\", \n",
    "        value =\"\"\n",
    "        ),\n",
    "    ),\n",
    "    \n",
    "    html.Div(\n",
    "        dcc.Dropdown(\n",
    "            options = [\n",
    "            {'label': 'Candlestick', 'value': 'Candlestick'},\n",
    "            {'label': 'Line', 'value': 'Line'},\n",
    "            ]\n",
    "        )\n",
    "    ),\n",
    "      \n",
    "    \n",
    "    html.Div(\n",
    "        dcc.Graph(id = \"Stock Chart\",\n",
    "                  figure = fig)\n",
    "    )\n",
    "])\n",
    "\n",
    "if __name__ == \"__main__\":\n",
    "    app.run_server(debug = False) "
   ]
  },
  {
   "cell_type": "markdown",
   "metadata": {},
   "source": [
    "## Dash- Using CSS "
   ]
  },
  {
   "cell_type": "markdown",
   "metadata": {},
   "source": [
    "![dash](images/dash3.JPG)"
   ]
  },
  {
   "cell_type": "markdown",
   "metadata": {},
   "source": [
    "![dash](images/dash4.JPG)"
   ]
  },
  {
   "cell_type": "markdown",
   "metadata": {},
   "source": [
    "> 새로운 Dash app을 시작하기전에 꼭 전에 했던 app 을 꺼야함 !!!!! \n",
    "* 안그러면 전에 했던 그래프만 계속 뜸 ... "
   ]
  },
  {
   "cell_type": "code",
   "execution_count": null,
   "metadata": {},
   "outputs": [],
   "source": [
    "# import libraries \n",
    "import dash\n",
    "import dash_html_components as html\n",
    "import dash_core_components as dcc \n",
    "import pandas_datareader.data as web\n",
    "import datetime \n",
    "from dateutil.relativedelta import relativedelta  \n",
    "import plotly.graph_objs as go \n",
    "\n",
    "start = datetime.datetime.today() - relativedelta(years= 5)\n",
    "end = datetime.datetime.today()\n",
    "\n",
    "inputStock = \"VZ\"\n",
    "df = web.DataReader(inputStock, \"yahoo\", start, end)\n",
    "\n",
    "trace_close = go.Scatter(x = list(df.index),\n",
    "                         y = list(df.Close),\n",
    "                        name = \"Close\",\n",
    "                        line = dict(color = \"#f44242\"))\n",
    "\n",
    "trace_high = go.Scatter(x = list(df.index),\n",
    "                         y = list(df.High),\n",
    "                        name = \"High\",\n",
    "                        line = dict(color = \"#f44242\"))\n",
    "\n",
    "app = dash.Dash()\n",
    "\n",
    "app.layout = html.Div([\n",
    "    html.Div([dcc.Input(id=\"stock_input\", value=\"SPY\", type=\"text\")\n",
    "    ]),\n",
    "\n",
    "    html.Div([\n",
    "        html.H2(\"Stock App\"),\n",
    "        html.Img(src=\"/assets/stock-icon.png\")\n",
    "    ], className=\"banner\"),\n",
    "\n",
    "    html.Div([\n",
    "        html.Div([\n",
    "            dcc.Graph(\n",
    "                id=\"graph_close\",\n",
    "                figure = {\n",
    "                    \"data\" : [trace_close], \n",
    "                    \"layout\" : {\n",
    "                        \"title\" : \"Close Graph\" \n",
    "                }\n",
    "                }\n",
    "            )\n",
    "        ], className=\"six columns\"),\n",
    "    ]),\n",
    "            \n",
    "    html.Div([\n",
    "        html.Div([\n",
    "            dcc.Graph(\n",
    "                id=\"graph_high\",\n",
    "                figure = {\n",
    "                    \"data\" : [trace_high], \n",
    "                    \"layout\" : {\n",
    "                        \"title\" : \"Close High\" \n",
    "                }\n",
    "                }\n",
    "            )\n",
    "        ], className=\"six columns\"),\n",
    "    ], className=\"row\")\n",
    "\n",
    "])\n",
    "\n",
    "app.css.append_css({\n",
    "    \"external_url\": \"https://codepen.io/chriddyp/pen/bWLwgP.css\"\n",
    "})\n",
    "\n",
    "\n",
    "\n",
    "\n",
    "if __name__ == \"__main__\":\n",
    "    app.run_server(debug=False)"
   ]
  },
  {
   "cell_type": "markdown",
   "metadata": {},
   "source": [
    "## Dash - Callbacks "
   ]
  },
  {
   "cell_type": "markdown",
   "metadata": {
    "ExecuteTime": {
     "start_time": "2020-10-11T10:56:08.949Z"
    }
   },
   "source": [
    "![dash](images/dash5.JPG)"
   ]
  },
  {
   "cell_type": "code",
   "execution_count": null,
   "metadata": {},
   "outputs": [],
   "source": [
    "# import libraries\n",
    "import dash\n",
    "import dash_html_components as html\n",
    "import dash_core_components as dcc\n",
    "from dash.dependencies import Output, Input\n",
    "import pandas_datareader.data as web\n",
    "import datetime\n",
    "from dateutil.relativedelta import relativedelta\n",
    "import plotly.graph_objs as go\n",
    "\n",
    "start = datetime.datetime.today() - relativedelta(years=5)\n",
    "end = datetime.datetime.today()\n",
    "\n",
    "app = dash.Dash(__name__)\n",
    "\n",
    "app.layout = html.Div([\n",
    "    html.Div([dcc.Input(id=\"stock_input\", value=\"SPY\", type=\"text\")\n",
    "    ]),\n",
    "\n",
    "    html.Div([\n",
    "        html.H2(\"Stock App\"),\n",
    "        html.Img(src=\"/assets/stock-icon.png\")\n",
    "    ], className=\"banner\"),\n",
    "\n",
    "    html.Div([\n",
    "        html.Div([\n",
    "            dcc.Graph(\n",
    "                id=\"graph_close\",\n",
    "            )\n",
    "        ], className=\"six columns\"),\n",
    "    ], className=\"row\")\n",
    "\n",
    "])\n",
    "\n",
    "app.css.append_css({\n",
    "    \"external_url\": \"https://codepen.io/chriddyp/pen/bWLwgP.css\"\n",
    "})\n",
    "\n",
    "\n",
    "@app.callback(dash.dependencies.Output(\"graph_close\", \"figure\"),\n",
    "              [dash.dependencies.Input(\"stock_input\", \"value\")]\n",
    "              )\n",
    "def update_fig(input_value):\n",
    "    df = web.DataReader(input_value, \"yahoo\", start, end)\n",
    "\n",
    "    data = []\n",
    "    trace_close = go.Scatter(x=list(df.index),\n",
    "                             y=list(df.Close),\n",
    "                             name=\"Close\",\n",
    "                             line=dict(color=\"#f44242\"))\n",
    "\n",
    "    data.append(trace_close)\n",
    "\n",
    "    layout = {\"title\": input_value}\n",
    "\n",
    "    return {\n",
    "        \"data\": data,b\n",
    "        \"layout\": layout\n",
    "    }\n",
    "\n",
    "\n",
    "if __name__ == \"__main__\":\n",
    "    app.run_server(debug=True)\n"
   ]
  },
  {
   "cell_type": "code",
   "execution_count": null,
   "metadata": {},
   "outputs": [],
   "source": [
    "# import libraries\n",
    "import dash\n",
    "import dash_html_components as html\n",
    "import dash_core_components as dcc\n",
    "from dash.dependencies import Output, Input, State\n",
    "\n",
    "import pandas_datareader.data as web\n",
    "import datetime\n",
    "from dateutil.relativedelta import relativedelta\n",
    "import plotly.graph_objs as go\n",
    "\n",
    "start = datetime.datetime.today() - relativedelta(years=5)\n",
    "end = datetime.datetime.today()\n",
    "\n",
    "app = dash.Dash(__name__)\n",
    "\n",
    "app.layout = html.Div([\n",
    "\n",
    "    html.Div([\n",
    "        html.H2(\"Stock App\"),\n",
    "        html.Img(src=\"/assets/stock-icon.png\")\n",
    "    ], className=\"banner\"),\n",
    "\n",
    "    html.Div([\n",
    "        dcc.Input(id=\"stock_input\", value=\"SPY\", type=\"text\"),\n",
    "        html.Button(id=\"submit-button\", n_clicks=0, children=\"Submit\")\n",
    "    ]),\n",
    "\n",
    "    html.Div([\n",
    "        html.Div([\n",
    "            dcc.Graph(\n",
    "                id=\"graph_close\",\n",
    "            )\n",
    "        ], className=\"six columns\"),\n",
    "    ], className=\"row\")\n",
    "\n",
    "])\n",
    "\n",
    "app.css.append_css({\n",
    "    \"external_url\": \"https://codepen.io/chriddyp/pen/bWLwgP.css\"\n",
    "})\n",
    "\n",
    "\n",
    "@app.callback(Output(\"graph_close\", \"figure\"),\n",
    "              [Input(\"submit-button\", \"n_clicks\")],\n",
    "              [State(\"stock_input\", \"value\")],\n",
    "              )\n",
    "def update_fig(n_clicks, input_value):\n",
    "    df = web.DataReader(input_value, \"yahoo\", start, end)\n",
    "\n",
    "    print(df)\n",
    "\n",
    "    data = []\n",
    "    trace_close = go.Scatter(x=list(df.index),\n",
    "                             y=list(df.Close),\n",
    "                             name=\"Close\",\n",
    "                             line=dict(color=\"#f44242\"))\n",
    "\n",
    "    data.append(trace_close)\n",
    "\n",
    "    layout = {\"title\": input_value}\n",
    "\n",
    "    return {\n",
    "        \"data\": data,\n",
    "        \"layout\": layout\n",
    "    }\n",
    "\n",
    "\n",
    "if __name__ == \"__main__\":\n",
    "    app.run_server(debug=False)"
   ]
  },
  {
   "cell_type": "markdown",
   "metadata": {},
   "source": [
    "## Callbacks with State & HTML Tables "
   ]
  },
  {
   "cell_type": "markdown",
   "metadata": {},
   "source": [
    "## HTML Tables "
   ]
  },
  {
   "cell_type": "markdown",
   "metadata": {},
   "source": [
    "## Dash- Interacting with Plotly Charts "
   ]
  }
 ],
 "metadata": {
  "kernelspec": {
   "display_name": "Python 3",
   "language": "python",
   "name": "python3"
  },
  "language_info": {
   "codemirror_mode": {
    "name": "ipython",
    "version": 3
   },
   "file_extension": ".py",
   "mimetype": "text/x-python",
   "name": "python",
   "nbconvert_exporter": "python",
   "pygments_lexer": "ipython3",
   "version": "3.8.0"
  },
  "toc": {
   "base_numbering": 1,
   "nav_menu": {},
   "number_sections": true,
   "sideBar": true,
   "skip_h1_title": false,
   "title_cell": "Table of Contents",
   "title_sidebar": "Contents",
   "toc_cell": false,
   "toc_position": {},
   "toc_section_display": true,
   "toc_window_display": false
  },
  "varInspector": {
   "cols": {
    "lenName": 16,
    "lenType": 16,
    "lenVar": 40
   },
   "kernels_config": {
    "python": {
     "delete_cmd_postfix": "",
     "delete_cmd_prefix": "del ",
     "library": "var_list.py",
     "varRefreshCmd": "print(var_dic_list())"
    },
    "r": {
     "delete_cmd_postfix": ") ",
     "delete_cmd_prefix": "rm(",
     "library": "var_list.r",
     "varRefreshCmd": "cat(var_dic_list()) "
    }
   },
   "types_to_exclude": [
    "module",
    "function",
    "builtin_function_or_method",
    "instance",
    "_Feature"
   ],
   "window_display": false
  }
 },
 "nbformat": 4,
 "nbformat_minor": 4
}
